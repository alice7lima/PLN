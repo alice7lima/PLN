{
  "nbformat": 4,
  "nbformat_minor": 0,
  "metadata": {
    "colab": {
      "name": "atividade 5.ipynb",
      "provenance": [],
      "collapsed_sections": []
    },
    "kernelspec": {
      "name": "python3",
      "display_name": "Python 3"
    },
    "language_info": {
      "name": "python"
    }
  },
  "cells": [
    {
      "cell_type": "markdown",
      "source": [
        "## Atividade 5 - Alice da Silva de Lima 18/0112601"
      ],
      "metadata": {
        "id": "JRV7yaE6L_pw"
      }
    },
    {
      "cell_type": "code",
      "execution_count": 2,
      "metadata": {
        "id": "8qesw4rNMsde"
      },
      "outputs": [],
      "source": [
        "#!pip install keras\n",
        "#!pip install tensorflow"
      ]
    },
    {
      "cell_type": "code",
      "source": [
        "import pandas as pd\n",
        "from keras.models import Sequential\n",
        "from keras.layers import Dense\n",
        "from sklearn.feature_extraction.text import TfidfVectorizer\n",
        "from tensorflow.keras.optimizers import SGD\n",
        "from keras.utils.np_utils import to_categorical\n",
        "import matplotlib.pyplot as plt"
      ],
      "metadata": {
        "id": "kLa3daEePeVT"
      },
      "execution_count": 3,
      "outputs": []
    },
    {
      "cell_type": "code",
      "source": [
        "path_train = 'https://raw.githubusercontent.com/viniciusrpb/cic0269_natural_language_processing/main/datasets/corpora/tweets_polarity_classification/twitter-2013train-A.txt'\n",
        "path_test = 'https://raw.githubusercontent.com/viniciusrpb/cic0269_natural_language_processing/main/datasets/corpora/tweets_polarity_classification/twitter-2013test-A.txt'\n",
        "path_valid = 'https://raw.githubusercontent.com/viniciusrpb/cic0269_natural_language_processing/main/datasets/corpora/tweets_polarity_classification/twitter-2013dev-A.txt'"
      ],
      "metadata": {
        "id": "kJ8N5yE_Nwm6"
      },
      "execution_count": 4,
      "outputs": []
    },
    {
      "cell_type": "code",
      "source": [
        "df_train = pd.read_csv(path_train,names=['id','polarity','text'],sep='\\t')\n",
        "df_valid = pd.read_csv(path_valid,names=['id','polarity','text'],sep='\\t')\n",
        "df_test = pd.read_csv(path_test,names=['id','polarity','text'],sep='\\t')"
      ],
      "metadata": {
        "id": "MWO6bS02PaeH"
      },
      "execution_count": 5,
      "outputs": []
    },
    {
      "cell_type": "code",
      "source": [
        "df_test"
      ],
      "metadata": {
        "colab": {
          "base_uri": "https://localhost:8080/",
          "height": 424
        },
        "id": "KEfJe3N5Pzpo",
        "outputId": "8f06ab71-dba3-4e91-e22a-a5fa15d70c5d"
      },
      "execution_count": 6,
      "outputs": [
        {
          "output_type": "execute_result",
          "data": {
            "text/plain": [
              "                      id  polarity  \\\n",
              "0     264238274963451904  positive   \n",
              "1     218775148495515649  positive   \n",
              "2     258965201766998017   neutral   \n",
              "3     262926411352903682  negative   \n",
              "4     171874368908050432   neutral   \n",
              "...                  ...       ...   \n",
              "3542  264233437060288512  negative   \n",
              "3543  263779058284904448   neutral   \n",
              "3544  250744453831213056  negative   \n",
              "3545  258679974591090688  positive   \n",
              "3546  243018372453916674   neutral   \n",
              "\n",
              "                                                   text  \n",
              "0     @jjuueellzz down in the Atlantic city, ventnor...  \n",
              "1     Musical awareness: Great Big Beautiful Tomorro...  \n",
              "2     On Radio786 100.4fm 7:10 Fri Oct 19 Labour ana...  \n",
              "3     Kapan sih lo ngebuktiin,jan ngomong doang Susa...  \n",
              "4     Excuse the connectivity of this live stream, f...  \n",
              "...                                                 ...  \n",
              "3542  Khaleda Zia's present India visit may have a b...  \n",
              "3543  FYI, golf fans: @jameslepp will join Moj on We...  \n",
              "3544  @__Aniko you think mr.Calle let practice with ...  \n",
              "3545  Don't hide under your desk! It's just a salsa ...  \n",
              "3546  Saturday flashmob on the music of The Runaways...  \n",
              "\n",
              "[3547 rows x 3 columns]"
            ],
            "text/html": [
              "\n",
              "  <div id=\"df-c584ff50-d9d9-4902-9f9b-6b6ef926c45d\">\n",
              "    <div class=\"colab-df-container\">\n",
              "      <div>\n",
              "<style scoped>\n",
              "    .dataframe tbody tr th:only-of-type {\n",
              "        vertical-align: middle;\n",
              "    }\n",
              "\n",
              "    .dataframe tbody tr th {\n",
              "        vertical-align: top;\n",
              "    }\n",
              "\n",
              "    .dataframe thead th {\n",
              "        text-align: right;\n",
              "    }\n",
              "</style>\n",
              "<table border=\"1\" class=\"dataframe\">\n",
              "  <thead>\n",
              "    <tr style=\"text-align: right;\">\n",
              "      <th></th>\n",
              "      <th>id</th>\n",
              "      <th>polarity</th>\n",
              "      <th>text</th>\n",
              "    </tr>\n",
              "  </thead>\n",
              "  <tbody>\n",
              "    <tr>\n",
              "      <th>0</th>\n",
              "      <td>264238274963451904</td>\n",
              "      <td>positive</td>\n",
              "      <td>@jjuueellzz down in the Atlantic city, ventnor...</td>\n",
              "    </tr>\n",
              "    <tr>\n",
              "      <th>1</th>\n",
              "      <td>218775148495515649</td>\n",
              "      <td>positive</td>\n",
              "      <td>Musical awareness: Great Big Beautiful Tomorro...</td>\n",
              "    </tr>\n",
              "    <tr>\n",
              "      <th>2</th>\n",
              "      <td>258965201766998017</td>\n",
              "      <td>neutral</td>\n",
              "      <td>On Radio786 100.4fm 7:10 Fri Oct 19 Labour ana...</td>\n",
              "    </tr>\n",
              "    <tr>\n",
              "      <th>3</th>\n",
              "      <td>262926411352903682</td>\n",
              "      <td>negative</td>\n",
              "      <td>Kapan sih lo ngebuktiin,jan ngomong doang Susa...</td>\n",
              "    </tr>\n",
              "    <tr>\n",
              "      <th>4</th>\n",
              "      <td>171874368908050432</td>\n",
              "      <td>neutral</td>\n",
              "      <td>Excuse the connectivity of this live stream, f...</td>\n",
              "    </tr>\n",
              "    <tr>\n",
              "      <th>...</th>\n",
              "      <td>...</td>\n",
              "      <td>...</td>\n",
              "      <td>...</td>\n",
              "    </tr>\n",
              "    <tr>\n",
              "      <th>3542</th>\n",
              "      <td>264233437060288512</td>\n",
              "      <td>negative</td>\n",
              "      <td>Khaleda Zia's present India visit may have a b...</td>\n",
              "    </tr>\n",
              "    <tr>\n",
              "      <th>3543</th>\n",
              "      <td>263779058284904448</td>\n",
              "      <td>neutral</td>\n",
              "      <td>FYI, golf fans: @jameslepp will join Moj on We...</td>\n",
              "    </tr>\n",
              "    <tr>\n",
              "      <th>3544</th>\n",
              "      <td>250744453831213056</td>\n",
              "      <td>negative</td>\n",
              "      <td>@__Aniko you think mr.Calle let practice with ...</td>\n",
              "    </tr>\n",
              "    <tr>\n",
              "      <th>3545</th>\n",
              "      <td>258679974591090688</td>\n",
              "      <td>positive</td>\n",
              "      <td>Don't hide under your desk! It's just a salsa ...</td>\n",
              "    </tr>\n",
              "    <tr>\n",
              "      <th>3546</th>\n",
              "      <td>243018372453916674</td>\n",
              "      <td>neutral</td>\n",
              "      <td>Saturday flashmob on the music of The Runaways...</td>\n",
              "    </tr>\n",
              "  </tbody>\n",
              "</table>\n",
              "<p>3547 rows × 3 columns</p>\n",
              "</div>\n",
              "      <button class=\"colab-df-convert\" onclick=\"convertToInteractive('df-c584ff50-d9d9-4902-9f9b-6b6ef926c45d')\"\n",
              "              title=\"Convert this dataframe to an interactive table.\"\n",
              "              style=\"display:none;\">\n",
              "        \n",
              "  <svg xmlns=\"http://www.w3.org/2000/svg\" height=\"24px\"viewBox=\"0 0 24 24\"\n",
              "       width=\"24px\">\n",
              "    <path d=\"M0 0h24v24H0V0z\" fill=\"none\"/>\n",
              "    <path d=\"M18.56 5.44l.94 2.06.94-2.06 2.06-.94-2.06-.94-.94-2.06-.94 2.06-2.06.94zm-11 1L8.5 8.5l.94-2.06 2.06-.94-2.06-.94L8.5 2.5l-.94 2.06-2.06.94zm10 10l.94 2.06.94-2.06 2.06-.94-2.06-.94-.94-2.06-.94 2.06-2.06.94z\"/><path d=\"M17.41 7.96l-1.37-1.37c-.4-.4-.92-.59-1.43-.59-.52 0-1.04.2-1.43.59L10.3 9.45l-7.72 7.72c-.78.78-.78 2.05 0 2.83L4 21.41c.39.39.9.59 1.41.59.51 0 1.02-.2 1.41-.59l7.78-7.78 2.81-2.81c.8-.78.8-2.07 0-2.86zM5.41 20L4 18.59l7.72-7.72 1.47 1.35L5.41 20z\"/>\n",
              "  </svg>\n",
              "      </button>\n",
              "      \n",
              "  <style>\n",
              "    .colab-df-container {\n",
              "      display:flex;\n",
              "      flex-wrap:wrap;\n",
              "      gap: 12px;\n",
              "    }\n",
              "\n",
              "    .colab-df-convert {\n",
              "      background-color: #E8F0FE;\n",
              "      border: none;\n",
              "      border-radius: 50%;\n",
              "      cursor: pointer;\n",
              "      display: none;\n",
              "      fill: #1967D2;\n",
              "      height: 32px;\n",
              "      padding: 0 0 0 0;\n",
              "      width: 32px;\n",
              "    }\n",
              "\n",
              "    .colab-df-convert:hover {\n",
              "      background-color: #E2EBFA;\n",
              "      box-shadow: 0px 1px 2px rgba(60, 64, 67, 0.3), 0px 1px 3px 1px rgba(60, 64, 67, 0.15);\n",
              "      fill: #174EA6;\n",
              "    }\n",
              "\n",
              "    [theme=dark] .colab-df-convert {\n",
              "      background-color: #3B4455;\n",
              "      fill: #D2E3FC;\n",
              "    }\n",
              "\n",
              "    [theme=dark] .colab-df-convert:hover {\n",
              "      background-color: #434B5C;\n",
              "      box-shadow: 0px 1px 3px 1px rgba(0, 0, 0, 0.15);\n",
              "      filter: drop-shadow(0px 1px 2px rgba(0, 0, 0, 0.3));\n",
              "      fill: #FFFFFF;\n",
              "    }\n",
              "  </style>\n",
              "\n",
              "      <script>\n",
              "        const buttonEl =\n",
              "          document.querySelector('#df-c584ff50-d9d9-4902-9f9b-6b6ef926c45d button.colab-df-convert');\n",
              "        buttonEl.style.display =\n",
              "          google.colab.kernel.accessAllowed ? 'block' : 'none';\n",
              "\n",
              "        async function convertToInteractive(key) {\n",
              "          const element = document.querySelector('#df-c584ff50-d9d9-4902-9f9b-6b6ef926c45d');\n",
              "          const dataTable =\n",
              "            await google.colab.kernel.invokeFunction('convertToInteractive',\n",
              "                                                     [key], {});\n",
              "          if (!dataTable) return;\n",
              "\n",
              "          const docLinkHtml = 'Like what you see? Visit the ' +\n",
              "            '<a target=\"_blank\" href=https://colab.research.google.com/notebooks/data_table.ipynb>data table notebook</a>'\n",
              "            + ' to learn more about interactive tables.';\n",
              "          element.innerHTML = '';\n",
              "          dataTable['output_type'] = 'display_data';\n",
              "          await google.colab.output.renderOutput(dataTable, element);\n",
              "          const docLink = document.createElement('div');\n",
              "          docLink.innerHTML = docLinkHtml;\n",
              "          element.appendChild(docLink);\n",
              "        }\n",
              "      </script>\n",
              "    </div>\n",
              "  </div>\n",
              "  "
            ]
          },
          "metadata": {},
          "execution_count": 6
        }
      ]
    },
    {
      "cell_type": "code",
      "source": [
        "print(f'Train size {df_train.shape}')\n",
        "print(f'Valid size {df_valid.shape}')\n",
        "print(f'Test size {df_test.shape}')"
      ],
      "metadata": {
        "colab": {
          "base_uri": "https://localhost:8080/"
        },
        "id": "DSwe3wvLP_xb",
        "outputId": "46912d60-b786-47bb-dfc6-cb1c1e93e87d"
      },
      "execution_count": 7,
      "outputs": [
        {
          "output_type": "stream",
          "name": "stdout",
          "text": [
            "Train size (9684, 3)\n",
            "Valid size (1654, 3)\n",
            "Test size (3547, 3)\n"
          ]
        }
      ]
    },
    {
      "cell_type": "code",
      "source": [
        "df_train = df_train.drop(labels=['id'],axis=1)\n",
        "df_valid = df_valid.drop(labels=['id'],axis=1)\n",
        "df_test = df_test.drop(labels=['id'],axis=1)"
      ],
      "metadata": {
        "id": "JEEwUpt-Qa-o"
      },
      "execution_count": 8,
      "outputs": []
    },
    {
      "cell_type": "code",
      "source": [
        "vectorizer = TfidfVectorizer(norm=None,lowercase=True,stop_words=\"english\",max_df=0.95,min_df=2)\n",
        "\n",
        "vectorizer.fit(df_train['text'])\n",
        "\n",
        "tfidf_train = vectorizer.transform(df_train['text']).toarray()\n",
        "tfidf_valid = vectorizer.transform(df_valid['text']).toarray()\n",
        "tfidf_test = vectorizer.transform(df_test['text']).toarray()"
      ],
      "metadata": {
        "id": "dbtaZnFlRA8l"
      },
      "execution_count": 9,
      "outputs": []
    },
    {
      "cell_type": "code",
      "source": [
        "df_train['polarity'] = pd.Categorical(df_train['polarity'])\n",
        "y_train_int = df_train['polarity'].cat.codes\n",
        "\n",
        "df_valid['polarity'] = pd.Categorical(df_valid['polarity'])\n",
        "y_valid_int = df_valid['polarity'].cat.codes\n",
        "\n",
        "df_test['polarity'] = pd.Categorical(df_test['polarity'])\n",
        "y_test_int = df_test['polarity'].cat.codes"
      ],
      "metadata": {
        "id": "BrT8ydnGb4Eq"
      },
      "execution_count": 10,
      "outputs": []
    },
    {
      "cell_type": "code",
      "source": [
        "y_train = to_categorical(y_train_int)\n",
        "y_valid = to_categorical(y_valid_int)\n",
        "y_test = to_categorical(y_test_int)"
      ],
      "metadata": {
        "id": "V4Wd20UQdP9z"
      },
      "execution_count": 11,
      "outputs": []
    },
    {
      "cell_type": "code",
      "source": [
        ""
      ],
      "metadata": {
        "id": "9jjAj7fSdyP1"
      },
      "execution_count": 11,
      "outputs": []
    },
    {
      "cell_type": "code",
      "source": [
        "X_train = tfidf_train\n",
        "X_valid = tfidf_valid\n",
        "X_test = tfidf_test"
      ],
      "metadata": {
        "id": "7jC6GyCRbplq"
      },
      "execution_count": 12,
      "outputs": []
    },
    {
      "cell_type": "code",
      "source": [
        "N = tfidf_train.shape[0]\n",
        "vocab_size = tfidf_train.shape[1]\n",
        "print(f'Quantidade de instancias de treinamento {N} e tamanho do vocabulario {vocab_size}')"
      ],
      "metadata": {
        "colab": {
          "base_uri": "https://localhost:8080/"
        },
        "id": "vKP6m6AsXsql",
        "outputId": "0149efe5-280f-43e7-f452-8e5b044b2a4b"
      },
      "execution_count": 13,
      "outputs": [
        {
          "output_type": "stream",
          "name": "stdout",
          "text": [
            "Quantidade de instancias de treinamento 9684 e tamanho do vocabulario 7654\n"
          ]
        }
      ]
    },
    {
      "cell_type": "markdown",
      "source": [
        "Arquitetura da Rede Multilayer Perceptron Profunda"
      ],
      "metadata": {
        "id": "8ZBTwtGUR7oW"
      }
    },
    {
      "cell_type": "markdown",
      "source": [
        "Hyperparâmetros da rede"
      ],
      "metadata": {
        "id": "opRBBhsCTuiL"
      }
    },
    {
      "cell_type": "code",
      "source": [
        "number_of_neurons_layer1 = 20\n",
        "number_of_neurons_layer2 = 10\n",
        "number_of_neurons_output = 3\n",
        "lr = 0.01"
      ],
      "metadata": {
        "id": "knTDnztUTtyW"
      },
      "execution_count": 14,
      "outputs": []
    },
    {
      "cell_type": "code",
      "source": [
        "model = Sequential()\n",
        "# Input Layer\n",
        "model.add(Dense(number_of_neurons_layer1,input_dim=vocab_size,activation='sigmoid'))\n",
        "model.add(Dense(number_of_neurons_layer2,activation='sigmoid'))\n",
        "model.add(Dense(number_of_neurons_output,activation='softmax'))\n",
        "model.summary()"
      ],
      "metadata": {
        "colab": {
          "base_uri": "https://localhost:8080/"
        },
        "id": "lFnqMSwQR-C9",
        "outputId": "238cdad1-9e2a-4823-f2d9-6d4324429433"
      },
      "execution_count": 15,
      "outputs": [
        {
          "output_type": "stream",
          "name": "stdout",
          "text": [
            "Model: \"sequential\"\n",
            "_________________________________________________________________\n",
            " Layer (type)                Output Shape              Param #   \n",
            "=================================================================\n",
            " dense (Dense)               (None, 20)                153100    \n",
            "                                                                 \n",
            " dense_1 (Dense)             (None, 10)                210       \n",
            "                                                                 \n",
            " dense_2 (Dense)             (None, 3)                 33        \n",
            "                                                                 \n",
            "=================================================================\n",
            "Total params: 153,343\n",
            "Trainable params: 153,343\n",
            "Non-trainable params: 0\n",
            "_________________________________________________________________\n"
          ]
        }
      ]
    },
    {
      "cell_type": "code",
      "source": [
        "sgd = SGD(learning_rate=lr)\n",
        "model.compile(optimizer=sgd,loss='categorical_crossentropy',metrics=['accuracy'])"
      ],
      "metadata": {
        "id": "NVCoUJfAZ21I"
      },
      "execution_count": 16,
      "outputs": []
    },
    {
      "cell_type": "code",
      "source": [
        "history = model.fit(X_train,y_train,validation_data=(X_valid,y_valid),epochs=50)"
      ],
      "metadata": {
        "colab": {
          "base_uri": "https://localhost:8080/"
        },
        "id": "6f4dinSJbXft",
        "outputId": "4076b48e-7ae2-4fa1-a8b9-b4b52d49901e"
      },
      "execution_count": 17,
      "outputs": [
        {
          "output_type": "stream",
          "name": "stdout",
          "text": [
            "Epoch 1/50\n",
            "303/303 [==============================] - 2s 5ms/step - loss: 1.0492 - accuracy: 0.4248 - val_loss: 1.0594 - val_accuracy: 0.4468\n",
            "Epoch 2/50\n",
            "303/303 [==============================] - 1s 5ms/step - loss: 1.0018 - accuracy: 0.4737 - val_loss: 1.0587 - val_accuracy: 0.4468\n",
            "Epoch 3/50\n",
            "303/303 [==============================] - 1s 4ms/step - loss: 0.9981 - accuracy: 0.4738 - val_loss: 1.0543 - val_accuracy: 0.4474\n",
            "Epoch 4/50\n",
            "303/303 [==============================] - 1s 4ms/step - loss: 0.9939 - accuracy: 0.4759 - val_loss: 1.0519 - val_accuracy: 0.4516\n",
            "Epoch 5/50\n",
            "303/303 [==============================] - 1s 4ms/step - loss: 0.9894 - accuracy: 0.4796 - val_loss: 1.0479 - val_accuracy: 0.4571\n",
            "Epoch 6/50\n",
            "303/303 [==============================] - 1s 4ms/step - loss: 0.9839 - accuracy: 0.4976 - val_loss: 1.0450 - val_accuracy: 0.4528\n",
            "Epoch 7/50\n",
            "303/303 [==============================] - 1s 4ms/step - loss: 0.9781 - accuracy: 0.5070 - val_loss: 1.0413 - val_accuracy: 0.4667\n",
            "Epoch 8/50\n",
            "303/303 [==============================] - 1s 5ms/step - loss: 0.9709 - accuracy: 0.5308 - val_loss: 1.0365 - val_accuracy: 0.5054\n",
            "Epoch 9/50\n",
            "303/303 [==============================] - 1s 4ms/step - loss: 0.9629 - accuracy: 0.5594 - val_loss: 1.0293 - val_accuracy: 0.5042\n",
            "Epoch 10/50\n",
            "303/303 [==============================] - 1s 4ms/step - loss: 0.9533 - accuracy: 0.5806 - val_loss: 1.0237 - val_accuracy: 0.5187\n",
            "Epoch 11/50\n",
            "303/303 [==============================] - 1s 4ms/step - loss: 0.9424 - accuracy: 0.6042 - val_loss: 1.0161 - val_accuracy: 0.5314\n",
            "Epoch 12/50\n",
            "303/303 [==============================] - 1s 4ms/step - loss: 0.9297 - accuracy: 0.6197 - val_loss: 1.0101 - val_accuracy: 0.5429\n",
            "Epoch 13/50\n",
            "303/303 [==============================] - 1s 4ms/step - loss: 0.9162 - accuracy: 0.6286 - val_loss: 0.9993 - val_accuracy: 0.5744\n",
            "Epoch 14/50\n",
            "303/303 [==============================] - 1s 4ms/step - loss: 0.9012 - accuracy: 0.6447 - val_loss: 0.9889 - val_accuracy: 0.5750\n",
            "Epoch 15/50\n",
            "303/303 [==============================] - 1s 4ms/step - loss: 0.8849 - accuracy: 0.6524 - val_loss: 0.9788 - val_accuracy: 0.5786\n",
            "Epoch 16/50\n",
            "303/303 [==============================] - 1s 4ms/step - loss: 0.8681 - accuracy: 0.6573 - val_loss: 0.9666 - val_accuracy: 0.5798\n",
            "Epoch 17/50\n",
            "303/303 [==============================] - 1s 4ms/step - loss: 0.8508 - accuracy: 0.6669 - val_loss: 0.9588 - val_accuracy: 0.5822\n",
            "Epoch 18/50\n",
            "303/303 [==============================] - 1s 4ms/step - loss: 0.8331 - accuracy: 0.6726 - val_loss: 0.9491 - val_accuracy: 0.5852\n",
            "Epoch 19/50\n",
            "303/303 [==============================] - 1s 4ms/step - loss: 0.8151 - accuracy: 0.6803 - val_loss: 0.9394 - val_accuracy: 0.5859\n",
            "Epoch 20/50\n",
            "303/303 [==============================] - 1s 4ms/step - loss: 0.7973 - accuracy: 0.6859 - val_loss: 0.9297 - val_accuracy: 0.5937\n",
            "Epoch 21/50\n",
            "303/303 [==============================] - 1s 4ms/step - loss: 0.7794 - accuracy: 0.6929 - val_loss: 0.9234 - val_accuracy: 0.5949\n",
            "Epoch 22/50\n",
            "303/303 [==============================] - 1s 5ms/step - loss: 0.7617 - accuracy: 0.7000 - val_loss: 0.9134 - val_accuracy: 0.5973\n",
            "Epoch 23/50\n",
            "303/303 [==============================] - 1s 4ms/step - loss: 0.7443 - accuracy: 0.7056 - val_loss: 0.9071 - val_accuracy: 0.5979\n",
            "Epoch 24/50\n",
            "303/303 [==============================] - 1s 5ms/step - loss: 0.7271 - accuracy: 0.7120 - val_loss: 0.9018 - val_accuracy: 0.5979\n",
            "Epoch 25/50\n",
            "303/303 [==============================] - 1s 5ms/step - loss: 0.7102 - accuracy: 0.7187 - val_loss: 0.8953 - val_accuracy: 0.5985\n",
            "Epoch 26/50\n",
            "303/303 [==============================] - 1s 4ms/step - loss: 0.6938 - accuracy: 0.7241 - val_loss: 0.8927 - val_accuracy: 0.6004\n",
            "Epoch 27/50\n",
            "303/303 [==============================] - 1s 5ms/step - loss: 0.6776 - accuracy: 0.7295 - val_loss: 0.8875 - val_accuracy: 0.5985\n",
            "Epoch 28/50\n",
            "303/303 [==============================] - 1s 5ms/step - loss: 0.6615 - accuracy: 0.7357 - val_loss: 0.8845 - val_accuracy: 0.5992\n",
            "Epoch 29/50\n",
            "303/303 [==============================] - 1s 4ms/step - loss: 0.6457 - accuracy: 0.7410 - val_loss: 0.8821 - val_accuracy: 0.5985\n",
            "Epoch 30/50\n",
            "303/303 [==============================] - 1s 4ms/step - loss: 0.6300 - accuracy: 0.7457 - val_loss: 0.8807 - val_accuracy: 0.6022\n",
            "Epoch 31/50\n",
            "303/303 [==============================] - 1s 5ms/step - loss: 0.6144 - accuracy: 0.7520 - val_loss: 0.8776 - val_accuracy: 0.6064\n",
            "Epoch 32/50\n",
            "303/303 [==============================] - 1s 5ms/step - loss: 0.5989 - accuracy: 0.7612 - val_loss: 0.8782 - val_accuracy: 0.6070\n",
            "Epoch 33/50\n",
            "303/303 [==============================] - 2s 5ms/step - loss: 0.5834 - accuracy: 0.7663 - val_loss: 0.8788 - val_accuracy: 0.6119\n",
            "Epoch 34/50\n",
            "303/303 [==============================] - 1s 5ms/step - loss: 0.5682 - accuracy: 0.7715 - val_loss: 0.8780 - val_accuracy: 0.6179\n",
            "Epoch 35/50\n",
            "303/303 [==============================] - 1s 4ms/step - loss: 0.5532 - accuracy: 0.7820 - val_loss: 0.8806 - val_accuracy: 0.6179\n",
            "Epoch 36/50\n",
            "303/303 [==============================] - 1s 4ms/step - loss: 0.5382 - accuracy: 0.7889 - val_loss: 0.8834 - val_accuracy: 0.6161\n",
            "Epoch 37/50\n",
            "303/303 [==============================] - 1s 4ms/step - loss: 0.5234 - accuracy: 0.7996 - val_loss: 0.8861 - val_accuracy: 0.6203\n",
            "Epoch 38/50\n",
            "303/303 [==============================] - 1s 4ms/step - loss: 0.5087 - accuracy: 0.8058 - val_loss: 0.8866 - val_accuracy: 0.6197\n",
            "Epoch 39/50\n",
            "303/303 [==============================] - 1s 4ms/step - loss: 0.4942 - accuracy: 0.8146 - val_loss: 0.8905 - val_accuracy: 0.6209\n",
            "Epoch 40/50\n",
            "303/303 [==============================] - 1s 4ms/step - loss: 0.4798 - accuracy: 0.8208 - val_loss: 0.8929 - val_accuracy: 0.6209\n",
            "Epoch 41/50\n",
            "303/303 [==============================] - 1s 4ms/step - loss: 0.4657 - accuracy: 0.8327 - val_loss: 0.9003 - val_accuracy: 0.6197\n",
            "Epoch 42/50\n",
            "303/303 [==============================] - 1s 5ms/step - loss: 0.4520 - accuracy: 0.8379 - val_loss: 0.9049 - val_accuracy: 0.6203\n",
            "Epoch 43/50\n",
            "303/303 [==============================] - 1s 4ms/step - loss: 0.4381 - accuracy: 0.8444 - val_loss: 0.9102 - val_accuracy: 0.6245\n",
            "Epoch 44/50\n",
            "303/303 [==============================] - 1s 5ms/step - loss: 0.4246 - accuracy: 0.8536 - val_loss: 0.9168 - val_accuracy: 0.6264\n",
            "Epoch 45/50\n",
            "303/303 [==============================] - 1s 4ms/step - loss: 0.4113 - accuracy: 0.8604 - val_loss: 0.9230 - val_accuracy: 0.6288\n",
            "Epoch 46/50\n",
            "303/303 [==============================] - 1s 4ms/step - loss: 0.3985 - accuracy: 0.8695 - val_loss: 0.9334 - val_accuracy: 0.6306\n",
            "Epoch 47/50\n",
            "303/303 [==============================] - 1s 4ms/step - loss: 0.3858 - accuracy: 0.8739 - val_loss: 0.9355 - val_accuracy: 0.6306\n",
            "Epoch 48/50\n",
            "303/303 [==============================] - 1s 4ms/step - loss: 0.3739 - accuracy: 0.8774 - val_loss: 0.9449 - val_accuracy: 0.6306\n",
            "Epoch 49/50\n",
            "303/303 [==============================] - 1s 4ms/step - loss: 0.3620 - accuracy: 0.8856 - val_loss: 0.9577 - val_accuracy: 0.6270\n",
            "Epoch 50/50\n",
            "303/303 [==============================] - 1s 4ms/step - loss: 0.3506 - accuracy: 0.8894 - val_loss: 0.9647 - val_accuracy: 0.6258\n"
          ]
        }
      ]
    },
    {
      "cell_type": "code",
      "source": [
        "plt.plot(history.history['loss'])\n",
        "plt.plot(history.history['val_loss'])\n",
        "plt.title('Model loss')\n",
        "plt.ylabel('Loss')\n",
        "plt.xlabel('Epoch')\n",
        "plt.legend(['Train', 'Validation'], loc='upper left')\n",
        "plt.show()"
      ],
      "metadata": {
        "colab": {
          "base_uri": "https://localhost:8080/",
          "height": 295
        },
        "id": "OJHj7NfRfJrS",
        "outputId": "489fd039-3cf7-4f26-95df-99f1372025d0"
      },
      "execution_count": 18,
      "outputs": [
        {
          "output_type": "display_data",
          "data": {
            "text/plain": [
              "<Figure size 432x288 with 1 Axes>"
            ],
            "image/png": "[encoded data removed]"
          },
          "metadata": {
            "needs_background": "light"
          }
        }
      ]
    },
    {
      "cell_type": "code",
      "source": [
        "plt.plot(history.history['accuracy'])\n",
        "plt.plot(history.history['val_accuracy'])\n",
        "plt.title('Model acc')\n",
        "plt.ylabel('Accuracy')\n",
        "plt.xlabel('Epoch')\n",
        "plt.legend(['Train', 'Validation'], loc='upper left')\n",
        "plt.show()"
      ],
      "metadata": {
        "colab": {
          "base_uri": "https://localhost:8080/",
          "height": 295
        },
        "id": "cUKzQDzCgdVX",
        "outputId": "bf1ed82a-0862-49a3-c024-a34a951ed07d"
      },
      "execution_count": 19,
      "outputs": [
        {
          "output_type": "display_data",
          "data": {
            "text/plain": [
              "<Figure size 432x288 with 1 Axes>"
            ],
            "image/png": "[encoded data removed]"
          },
          "metadata": {
            "needs_background": "light"
          }
        }
      ]
    },
    {
      "cell_type": "markdown",
      "source": [
        "Avaliação com os Dados de Teste"
      ],
      "metadata": {
        "id": "QP7yxTEPg1Nv"
      }
    },
    {
      "cell_type": "code",
      "source": [
        "y = model.evaluate(X_test,y_test)"
      ],
      "metadata": {
        "colab": {
          "base_uri": "https://localhost:8080/"
        },
        "id": "yM-hXxVtg4J2",
        "outputId": "f1291ced-3a78-4255-bb56-0cf2bddbebfe"
      },
      "execution_count": 20,
      "outputs": [
        {
          "output_type": "stream",
          "name": "stdout",
          "text": [
            "111/111 [==============================] - 0s 2ms/step - loss: 0.9594 - accuracy: 0.6386\n"
          ]
        }
      ]
    },
    {
      "cell_type": "code",
      "source": [
        "import numpy as np\n",
        "y_prob = model.predict(X_test)\n",
        "y_prob"
      ],
      "metadata": {
        "colab": {
          "base_uri": "https://localhost:8080/"
        },
        "id": "u42IOHfzlCnM",
        "outputId": "dafc679a-b618-4d7a-9fa5-d7025e173df8"
      },
      "execution_count": 21,
      "outputs": [
        {
          "output_type": "execute_result",
          "data": {
            "text/plain": [
              "array([[0.11330992, 0.19981335, 0.6868768 ],\n",
              "       [0.04845272, 0.00774754, 0.94379973],\n",
              "       [0.03991197, 0.9194432 , 0.04064485],\n",
              "       ...,\n",
              "       [0.19422634, 0.5657903 , 0.23998341],\n",
              "       [0.19865736, 0.05353709, 0.7478056 ],\n",
              "       [0.17614374, 0.4997056 , 0.3241507 ]], dtype=float32)"
            ]
          },
          "metadata": {},
          "execution_count": 21
        }
      ]
    },
    {
      "cell_type": "code",
      "source": [
        "y_pred = np.argmax(y_prob,axis=1)\n",
        "y_pred"
      ],
      "metadata": {
        "colab": {
          "base_uri": "https://localhost:8080/"
        },
        "id": "zJDx8GlRlyPz",
        "outputId": "9d4d197f-3805-4f30-e7e5-4f096ff13bb8"
      },
      "execution_count": 22,
      "outputs": [
        {
          "output_type": "execute_result",
          "data": {
            "text/plain": [
              "array([2, 2, 1, ..., 1, 2, 1])"
            ]
          },
          "metadata": {},
          "execution_count": 22
        }
      ]
    },
    {
      "cell_type": "code",
      "source": [
        "y_test_int"
      ],
      "metadata": {
        "colab": {
          "base_uri": "https://localhost:8080/"
        },
        "id": "yTsaRqgVllE3",
        "outputId": "131604eb-7bae-483a-a062-ee081d104294"
      },
      "execution_count": 23,
      "outputs": [
        {
          "output_type": "execute_result",
          "data": {
            "text/plain": [
              "0       2\n",
              "1       2\n",
              "2       1\n",
              "3       0\n",
              "4       1\n",
              "       ..\n",
              "3542    0\n",
              "3543    1\n",
              "3544    0\n",
              "3545    2\n",
              "3546    1\n",
              "Length: 3547, dtype: int8"
            ]
          },
          "metadata": {},
          "execution_count": 23
        }
      ]
    },
    {
      "cell_type": "markdown",
      "source": [
        "\n",
        "\n",
        "```\n",
        "  0  1  2\n",
        "0\n",
        "1\n",
        "2  \n",
        "```\n",
        "\n"
      ],
      "metadata": {
        "id": "FJwFfXVn00R6"
      }
    },
    {
      "cell_type": "markdown",
      "source": [
        "**Minha solução**"
      ],
      "metadata": {
        "id": "KzQWJjyf5hwZ"
      }
    },
    {
      "cell_type": "code",
      "source": [
        "pred_matrix = [[0,0,0],[0,0,0],[0,0,0]]\n",
        "\n",
        "for i in range(len(y_pred)):\n",
        "  if(y_pred[i] == y_test_int[i]):\n",
        "    if y_pred[i] == 0:\n",
        "      pred_matrix[0][0] += 1\n",
        "    elif y_pred[i] == 1:\n",
        "      pred_matrix[1][1] += 1\n",
        "    else:\n",
        "      pred_matrix[2][2] += 1\n",
        "\n",
        "  else:\n",
        "    if(y_pred[i] == 0):\n",
        "      if(y_test_int[i] == 1):\n",
        "        pred_matrix[1][0] += 1\n",
        "      else:\n",
        "        pred_matrix[2][0] += 1\n",
        "\n",
        "    elif(y_pred[i] == 1):\n",
        "      if(y_test_int[i] == 0):\n",
        "        pred_matrix[0][1] += 1\n",
        "      else:\n",
        "        pred_matrix[2][1] += 1\n",
        "  \n",
        "    else:\n",
        "      if(y_test_int[i] == 1):\n",
        "        pred_matrix[1][2] += 1\n",
        "      else:\n",
        "        pred_matrix[0][2] += 1\n",
        "\n",
        "np.array(pred_matrix)\n",
        "    \n"
      ],
      "metadata": {
        "colab": {
          "base_uri": "https://localhost:8080/"
        },
        "id": "zZSej9FVztJz",
        "outputId": "f7599af2-5c74-4d69-fb67-609a9d70ef90"
      },
      "execution_count": 24,
      "outputs": [
        {
          "output_type": "execute_result",
          "data": {
            "text/plain": [
              "array([[ 105,  321,  133],\n",
              "       [  22, 1191,  300],\n",
              "       [  26,  480,  969]])"
            ]
          },
          "metadata": {},
          "execution_count": 24
        }
      ]
    },
    {
      "cell_type": "markdown",
      "source": [
        "**Solução do professor**"
      ],
      "metadata": {
        "id": "5X8iTYLf5nKZ"
      }
    },
    {
      "cell_type": "code",
      "source": [
        "matriz_conf = [[0,0,0],[0,0,0],[0,0,0]]\n",
        "\n",
        "y_real = y_test_int\n",
        "\n",
        "\n",
        "for i in range(0,len(y_pred)):\n",
        "  matriz_conf[y_real[i]][y_pred[i]] += 1\n",
        "\n",
        "np.array(matriz_conf) "
      ],
      "metadata": {
        "colab": {
          "base_uri": "https://localhost:8080/"
        },
        "id": "2xDCYm2N3A6C",
        "outputId": "be83ce23-2561-41a5-cbf7-1fde02445ab6"
      },
      "execution_count": 25,
      "outputs": [
        {
          "output_type": "execute_result",
          "data": {
            "text/plain": [
              "array([[ 105,  321,  133],\n",
              "       [  22, 1191,  300],\n",
              "       [  26,  480,  969]])"
            ]
          },
          "metadata": {},
          "execution_count": 25
        }
      ]
    },
    {
      "cell_type": "code",
      "source": [
        "acuracia = (matriz_conf[0][0]+matriz_conf[1][1]+matriz_conf[2][2] )/ len(y_pred)\n",
        "acuracia"
      ],
      "metadata": {
        "colab": {
          "base_uri": "https://localhost:8080/"
        },
        "id": "5In0oGkO5uZg",
        "outputId": "73db1013-2b55-4d36-e3e4-e1eb2ff26e87"
      },
      "execution_count": 26,
      "outputs": [
        {
          "output_type": "execute_result",
          "data": {
            "text/plain": [
              "0.6385678037778404"
            ]
          },
          "metadata": {},
          "execution_count": 26
        }
      ]
    },
    {
      "cell_type": "markdown",
      "source": [
        "One against all"
      ],
      "metadata": {
        "id": "5CauZxPq8F3w"
      }
    },
    {
      "cell_type": "markdown",
      "source": [
        "\n",
        "\n",
        "```\n",
        "Positiva  All(neg,neu)\n",
        "precisao\n",
        "revocacao\n",
        "f1-score\n",
        "\n",
        "Neutra All(pos,neg)\n",
        "precisao\n",
        "revocacao\n",
        "f1-score\n",
        "\n",
        "Negativa All(pos,neu)\n",
        "precisao\n",
        "revocacao\n",
        "f1-score\n",
        "```\n",
        "\n"
      ],
      "metadata": {
        "id": "4vVheFeO8N3q"
      }
    },
    {
      "cell_type": "code",
      "source": [
        "def f2(num):\n",
        "    return int(num*100)/100.0\n",
        "\n",
        "prec = []\n",
        "\n",
        "prec.append(round(matriz_conf[0][0]/(matriz_conf[0][0] + matriz_conf[1][0] + matriz_conf[2][0]), 2))\n",
        "prec.append(round(matriz_conf[1][1]/(matriz_conf[1][1] + matriz_conf[0][1] + matriz_conf[2][1]), 2))\n",
        "prec.append(round(matriz_conf[2][2]/(matriz_conf[2][2] + matriz_conf[0][2] + matriz_conf[1][2]), 2))\n",
        "\n",
        "rev = []\n",
        "\n",
        "rev.append(round(matriz_conf[0][0]/(matriz_conf[0][0] + matriz_conf[0][1] + matriz_conf[0][2]), 2))\n",
        "rev.append(round(matriz_conf[1][1]/(matriz_conf[1][1] + matriz_conf[1][0] + matriz_conf[1][2]), 2))\n",
        "rev.append(round(matriz_conf[2][2]/(matriz_conf[2][2] + matriz_conf[2][0] + matriz_conf[2][1]), 2))\n",
        "\n",
        "f1s = []\n",
        "\n",
        "f1s.append(f2(2 * (prec[0]*rev[0]/(prec[0]+rev[0]))))\n",
        "f1s.append(f2(2 * (prec[1]*rev[1]/(prec[1]+rev[1]))))\n",
        "f1s.append(f2(2 * (prec[2]*rev[2]/(prec[2]+rev[2]))))\n",
        "\n",
        "\n",
        "info = pd.DataFrame(\n",
        "    {'precisão': prec,\n",
        "     'revocação': rev,\n",
        "     'f1-score': f1s\n",
        "    })\n",
        "\n",
        "info\n"
      ],
      "metadata": {
        "colab": {
          "base_uri": "https://localhost:8080/",
          "height": 143
        },
        "id": "eLpClDEV9hSw",
        "outputId": "04808c35-a4e5-4b26-8249-e295f59d6caf"
      },
      "execution_count": 52,
      "outputs": [
        {
          "output_type": "execute_result",
          "data": {
            "text/plain": [
              "   precisão  revocação  f1-score\n",
              "0      0.69       0.19      0.29\n",
              "1      0.60       0.79      0.68\n",
              "2      0.69       0.66      0.67"
            ],
            "text/html": [
              "\n",
              "  <div id=\"df-fcceb4c0-a751-4a60-9947-8e8eecfbb5de\">\n",
              "    <div class=\"colab-df-container\">\n",
              "      <div>\n",
              "<style scoped>\n",
              "    .dataframe tbody tr th:only-of-type {\n",
              "        vertical-align: middle;\n",
              "    }\n",
              "\n",
              "    .dataframe tbody tr th {\n",
              "        vertical-align: top;\n",
              "    }\n",
              "\n",
              "    .dataframe thead th {\n",
              "        text-align: right;\n",
              "    }\n",
              "</style>\n",
              "<table border=\"1\" class=\"dataframe\">\n",
              "  <thead>\n",
              "    <tr style=\"text-align: right;\">\n",
              "      <th></th>\n",
              "      <th>precisão</th>\n",
              "      <th>revocação</th>\n",
              "      <th>f1-score</th>\n",
              "    </tr>\n",
              "  </thead>\n",
              "  <tbody>\n",
              "    <tr>\n",
              "      <th>0</th>\n",
              "      <td>0.69</td>\n",
              "      <td>0.19</td>\n",
              "      <td>0.29</td>\n",
              "    </tr>\n",
              "    <tr>\n",
              "      <th>1</th>\n",
              "      <td>0.60</td>\n",
              "      <td>0.79</td>\n",
              "      <td>0.68</td>\n",
              "    </tr>\n",
              "    <tr>\n",
              "      <th>2</th>\n",
              "      <td>0.69</td>\n",
              "      <td>0.66</td>\n",
              "      <td>0.67</td>\n",
              "    </tr>\n",
              "  </tbody>\n",
              "</table>\n",
              "</div>\n",
              "      <button class=\"colab-df-convert\" onclick=\"convertToInteractive('df-fcceb4c0-a751-4a60-9947-8e8eecfbb5de')\"\n",
              "              title=\"Convert this dataframe to an interactive table.\"\n",
              "              style=\"display:none;\">\n",
              "        \n",
              "  <svg xmlns=\"http://www.w3.org/2000/svg\" height=\"24px\"viewBox=\"0 0 24 24\"\n",
              "       width=\"24px\">\n",
              "    <path d=\"M0 0h24v24H0V0z\" fill=\"none\"/>\n",
              "    <path d=\"M18.56 5.44l.94 2.06.94-2.06 2.06-.94-2.06-.94-.94-2.06-.94 2.06-2.06.94zm-11 1L8.5 8.5l.94-2.06 2.06-.94-2.06-.94L8.5 2.5l-.94 2.06-2.06.94zm10 10l.94 2.06.94-2.06 2.06-.94-2.06-.94-.94-2.06-.94 2.06-2.06.94z\"/><path d=\"M17.41 7.96l-1.37-1.37c-.4-.4-.92-.59-1.43-.59-.52 0-1.04.2-1.43.59L10.3 9.45l-7.72 7.72c-.78.78-.78 2.05 0 2.83L4 21.41c.39.39.9.59 1.41.59.51 0 1.02-.2 1.41-.59l7.78-7.78 2.81-2.81c.8-.78.8-2.07 0-2.86zM5.41 20L4 18.59l7.72-7.72 1.47 1.35L5.41 20z\"/>\n",
              "  </svg>\n",
              "      </button>\n",
              "      \n",
              "  <style>\n",
              "    .colab-df-container {\n",
              "      display:flex;\n",
              "      flex-wrap:wrap;\n",
              "      gap: 12px;\n",
              "    }\n",
              "\n",
              "    .colab-df-convert {\n",
              "      background-color: #E8F0FE;\n",
              "      border: none;\n",
              "      border-radius: 50%;\n",
              "      cursor: pointer;\n",
              "      display: none;\n",
              "      fill: #1967D2;\n",
              "      height: 32px;\n",
              "      padding: 0 0 0 0;\n",
              "      width: 32px;\n",
              "    }\n",
              "\n",
              "    .colab-df-convert:hover {\n",
              "      background-color: #E2EBFA;\n",
              "      box-shadow: 0px 1px 2px rgba(60, 64, 67, 0.3), 0px 1px 3px 1px rgba(60, 64, 67, 0.15);\n",
              "      fill: #174EA6;\n",
              "    }\n",
              "\n",
              "    [theme=dark] .colab-df-convert {\n",
              "      background-color: #3B4455;\n",
              "      fill: #D2E3FC;\n",
              "    }\n",
              "\n",
              "    [theme=dark] .colab-df-convert:hover {\n",
              "      background-color: #434B5C;\n",
              "      box-shadow: 0px 1px 3px 1px rgba(0, 0, 0, 0.15);\n",
              "      filter: drop-shadow(0px 1px 2px rgba(0, 0, 0, 0.3));\n",
              "      fill: #FFFFFF;\n",
              "    }\n",
              "  </style>\n",
              "\n",
              "      <script>\n",
              "        const buttonEl =\n",
              "          document.querySelector('#df-fcceb4c0-a751-4a60-9947-8e8eecfbb5de button.colab-df-convert');\n",
              "        buttonEl.style.display =\n",
              "          google.colab.kernel.accessAllowed ? 'block' : 'none';\n",
              "\n",
              "        async function convertToInteractive(key) {\n",
              "          const element = document.querySelector('#df-fcceb4c0-a751-4a60-9947-8e8eecfbb5de');\n",
              "          const dataTable =\n",
              "            await google.colab.kernel.invokeFunction('convertToInteractive',\n",
              "                                                     [key], {});\n",
              "          if (!dataTable) return;\n",
              "\n",
              "          const docLinkHtml = 'Like what you see? Visit the ' +\n",
              "            '<a target=\"_blank\" href=https://colab.research.google.com/notebooks/data_table.ipynb>data table notebook</a>'\n",
              "            + ' to learn more about interactive tables.';\n",
              "          element.innerHTML = '';\n",
              "          dataTable['output_type'] = 'display_data';\n",
              "          await google.colab.output.renderOutput(dataTable, element);\n",
              "          const docLink = document.createElement('div');\n",
              "          docLink.innerHTML = docLinkHtml;\n",
              "          element.appendChild(docLink);\n",
              "        }\n",
              "      </script>\n",
              "    </div>\n",
              "  </div>\n",
              "  "
            ]
          },
          "metadata": {},
          "execution_count": 52
        }
      ]
    },
    {
      "cell_type": "code",
      "source": [
        "from sklearn.metrics import classification_report\n",
        "print(classification_report(y_real,y_pred))"
      ],
      "metadata": {
        "colab": {
          "base_uri": "https://localhost:8080/"
        },
        "id": "b1gLZhiJ8JtP",
        "outputId": "c4c539a8-8865-4be6-cea2-3d2116ff571b"
      },
      "execution_count": 29,
      "outputs": [
        {
          "output_type": "stream",
          "name": "stdout",
          "text": [
            "              precision    recall  f1-score   support\n",
            "\n",
            "           0       0.69      0.19      0.29       559\n",
            "           1       0.60      0.79      0.68      1513\n",
            "           2       0.69      0.66      0.67      1475\n",
            "\n",
            "    accuracy                           0.64      3547\n",
            "   macro avg       0.66      0.54      0.55      3547\n",
            "weighted avg       0.65      0.64      0.62      3547\n",
            "\n"
          ]
        }
      ]
    }
  ]
}