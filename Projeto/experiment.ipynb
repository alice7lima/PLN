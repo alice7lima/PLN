{
  "cells": [
    {
      "cell_type": "code",
      "execution_count": 2,
      "metadata": {
        "colab": {
          "base_uri": "https://localhost:8080/"
        },
        "id": "1a2u2DQSl-Td",
        "outputId": "9c5d4ebb-669a-4e12-ee25-468057dc44d0"
      },
      "outputs": [
        {
          "output_type": "stream",
          "name": "stdout",
          "text": [
            "Mounted at /content/drive\n"
          ]
        }
      ],
      "source": [
        "from google.colab import drive\n",
        "drive.mount('/content/drive')"
      ]
    },
    {
      "cell_type": "markdown",
      "metadata": {
        "id": "IZUc_JMsxAEg"
      },
      "source": [
        "#Instalação das dependências e Imports"
      ]
    },
    {
      "cell_type": "code",
      "execution_count": 3,
      "metadata": {
        "id": "cC_CLW1BjkQY"
      },
      "outputs": [],
      "source": [
        "import pandas as pd"
      ]
    },
    {
      "cell_type": "code",
      "execution_count": 4,
      "metadata": {
        "id": "NYpp3EeAQOo9"
      },
      "outputs": [],
      "source": [
        " from sklearn.preprocessing import LabelEncoder\n",
        " from sklearn.model_selection import train_test_split"
      ]
    },
    {
      "cell_type": "code",
      "execution_count": 5,
      "metadata": {
        "colab": {
          "base_uri": "https://localhost:8080/"
        },
        "id": "S1ftoCf40xN2",
        "outputId": "a4fe015e-0737-4922-a39a-44e4598220de"
      },
      "outputs": [
        {
          "output_type": "stream",
          "name": "stdout",
          "text": [
            "Cloning into 'tcdf_text_classification'...\n",
            "remote: Enumerating objects: 43, done.\u001b[K\n",
            "remote: Counting objects: 100% (43/43), done.\u001b[K\n",
            "remote: Compressing objects: 100% (33/33), done.\u001b[K\n",
            "remote: Total 43 (delta 16), reused 30 (delta 8), pack-reused 0\u001b[K\n",
            "Unpacking objects: 100% (43/43), done.\n"
          ]
        }
      ],
      "source": [
        "#Utilizando o iob_transformer do Matheus Stauffer\n",
        "!git clone -s https://github.com/mstauffer/tcdf_text_classification.git"
      ]
    },
    {
      "cell_type": "code",
      "execution_count": 6,
      "metadata": {
        "colab": {
          "base_uri": "https://localhost:8080/"
        },
        "id": "6qJrEN9Y0xN7",
        "outputId": "9748b1fd-16ea-4399-c0ea-0f04776f343b"
      },
      "outputs": [
        {
          "output_type": "stream",
          "name": "stderr",
          "text": [
            "[nltk_data] Downloading package punkt to /root/nltk_data...\n",
            "[nltk_data]   Unzipping tokenizers/punkt.zip.\n"
          ]
        },
        {
          "output_type": "execute_result",
          "data": {
            "text/plain": [
              "True"
            ]
          },
          "metadata": {},
          "execution_count": 6
        }
      ],
      "source": [
        "import nltk\n",
        "nltk.download('punkt')"
      ]
    },
    {
      "cell_type": "code",
      "execution_count": 7,
      "metadata": {
        "id": "bZDamMCN0xN-"
      },
      "outputs": [],
      "source": [
        "%matplotlib inline\n",
        "import matplotlib.pyplot as plt\n",
        "import numpy as np\n",
        "np.random.seed(0)\n",
        "plt.style.use(\"ggplot\")\n",
        "\n",
        "import tensorflow as tf\n",
        "from tensorflow.keras.preprocessing.sequence import pad_sequences"
      ]
    },
    {
      "cell_type": "code",
      "execution_count": 8,
      "metadata": {
        "id": "iwJdn6UT0xN4"
      },
      "outputs": [],
      "source": [
        "from tcdf_text_classification.iob_transformer import iob_transformer"
      ]
    },
    {
      "cell_type": "code",
      "execution_count": 9,
      "metadata": {
        "colab": {
          "base_uri": "https://localhost:8080/"
        },
        "id": "bBtcMBZp28ch",
        "outputId": "69566ad0-d3be-4697-a53d-41550a0ac7c8"
      },
      "outputs": [
        {
          "output_type": "stream",
          "name": "stdout",
          "text": [
            "Looking in indexes: https://pypi.org/simple, https://us-python.pkg.dev/colab-wheels/public/simple/\n",
            "Requirement already satisfied: gensim in /usr/local/lib/python3.7/dist-packages (3.6.0)\n",
            "Collecting gensim\n",
            "  Downloading gensim-4.2.0-cp37-cp37m-manylinux_2_12_x86_64.manylinux2010_x86_64.whl (24.1 MB)\n",
            "\u001b[K     |████████████████████████████████| 24.1 MB 1.2 MB/s \n",
            "\u001b[?25hRequirement already satisfied: scipy>=0.18.1 in /usr/local/lib/python3.7/dist-packages (from gensim) (1.7.3)\n",
            "Requirement already satisfied: smart-open>=1.8.1 in /usr/local/lib/python3.7/dist-packages (from gensim) (5.2.1)\n",
            "Requirement already satisfied: numpy>=1.17.0 in /usr/local/lib/python3.7/dist-packages (from gensim) (1.21.6)\n",
            "Installing collected packages: gensim\n",
            "  Attempting uninstall: gensim\n",
            "    Found existing installation: gensim 3.6.0\n",
            "    Uninstalling gensim-3.6.0:\n",
            "      Successfully uninstalled gensim-3.6.0\n",
            "Successfully installed gensim-4.2.0\n"
          ]
        }
      ],
      "source": [
        "!pip install -U gensim"
      ]
    },
    {
      "cell_type": "code",
      "source": [
        "from gensim.models import Word2Vec"
      ],
      "metadata": {
        "id": "jJG0lA2KMONM"
      },
      "execution_count": 10,
      "outputs": []
    },
    {
      "cell_type": "code",
      "source": [
        "import tensorflow"
      ],
      "metadata": {
        "id": "6NC95cjVMUOx"
      },
      "execution_count": 11,
      "outputs": []
    },
    {
      "cell_type": "code",
      "execution_count": 12,
      "metadata": {
        "colab": {
          "base_uri": "https://localhost:8080/"
        },
        "id": "tYchkHdFrtN1",
        "outputId": "7d34b730-c4a1-4eb0-f5fc-3b3dacb17dfe"
      },
      "outputs": [
        {
          "output_type": "stream",
          "name": "stdout",
          "text": [
            "Looking in indexes: https://pypi.org/simple, https://us-python.pkg.dev/colab-wheels/public/simple/\n",
            "Collecting livelossplot\n",
            "  Downloading livelossplot-0.5.5-py3-none-any.whl (22 kB)\n",
            "Requirement already satisfied: bokeh in /usr/local/lib/python3.7/dist-packages (from livelossplot) (2.3.3)\n",
            "Requirement already satisfied: ipython==7.* in /usr/local/lib/python3.7/dist-packages (from livelossplot) (7.9.0)\n",
            "Requirement already satisfied: numpy<1.22 in /usr/local/lib/python3.7/dist-packages (from livelossplot) (1.21.6)\n",
            "Requirement already satisfied: matplotlib in /usr/local/lib/python3.7/dist-packages (from livelossplot) (3.2.2)\n",
            "Requirement already satisfied: traitlets>=4.2 in /usr/local/lib/python3.7/dist-packages (from ipython==7.*->livelossplot) (5.1.1)\n",
            "Requirement already satisfied: pickleshare in /usr/local/lib/python3.7/dist-packages (from ipython==7.*->livelossplot) (0.7.5)\n",
            "Requirement already satisfied: pexpect in /usr/local/lib/python3.7/dist-packages (from ipython==7.*->livelossplot) (4.8.0)\n",
            "Collecting jedi>=0.10\n",
            "  Downloading jedi-0.18.1-py2.py3-none-any.whl (1.6 MB)\n",
            "\u001b[K     |████████████████████████████████| 1.6 MB 10.7 MB/s \n",
            "\u001b[?25hRequirement already satisfied: decorator in /usr/local/lib/python3.7/dist-packages (from ipython==7.*->livelossplot) (4.4.2)\n",
            "Requirement already satisfied: setuptools>=18.5 in /usr/local/lib/python3.7/dist-packages (from ipython==7.*->livelossplot) (57.4.0)\n",
            "Requirement already satisfied: pygments in /usr/local/lib/python3.7/dist-packages (from ipython==7.*->livelossplot) (2.6.1)\n",
            "Requirement already satisfied: prompt-toolkit<2.1.0,>=2.0.0 in /usr/local/lib/python3.7/dist-packages (from ipython==7.*->livelossplot) (2.0.10)\n",
            "Requirement already satisfied: backcall in /usr/local/lib/python3.7/dist-packages (from ipython==7.*->livelossplot) (0.2.0)\n",
            "Requirement already satisfied: parso<0.9.0,>=0.8.0 in /usr/local/lib/python3.7/dist-packages (from jedi>=0.10->ipython==7.*->livelossplot) (0.8.3)\n",
            "Requirement already satisfied: wcwidth in /usr/local/lib/python3.7/dist-packages (from prompt-toolkit<2.1.0,>=2.0.0->ipython==7.*->livelossplot) (0.2.5)\n",
            "Requirement already satisfied: six>=1.9.0 in /usr/local/lib/python3.7/dist-packages (from prompt-toolkit<2.1.0,>=2.0.0->ipython==7.*->livelossplot) (1.15.0)\n",
            "Requirement already satisfied: python-dateutil>=2.1 in /usr/local/lib/python3.7/dist-packages (from bokeh->livelossplot) (2.8.2)\n",
            "Requirement already satisfied: Jinja2>=2.9 in /usr/local/lib/python3.7/dist-packages (from bokeh->livelossplot) (2.11.3)\n",
            "Requirement already satisfied: tornado>=5.1 in /usr/local/lib/python3.7/dist-packages (from bokeh->livelossplot) (5.1.1)\n",
            "Requirement already satisfied: packaging>=16.8 in /usr/local/lib/python3.7/dist-packages (from bokeh->livelossplot) (21.3)\n",
            "Requirement already satisfied: pillow>=7.1.0 in /usr/local/lib/python3.7/dist-packages (from bokeh->livelossplot) (7.1.2)\n",
            "Requirement already satisfied: PyYAML>=3.10 in /usr/local/lib/python3.7/dist-packages (from bokeh->livelossplot) (6.0)\n",
            "Requirement already satisfied: typing-extensions>=3.7.4 in /usr/local/lib/python3.7/dist-packages (from bokeh->livelossplot) (4.1.1)\n",
            "Requirement already satisfied: MarkupSafe>=0.23 in /usr/local/lib/python3.7/dist-packages (from Jinja2>=2.9->bokeh->livelossplot) (2.0.1)\n",
            "Requirement already satisfied: pyparsing!=3.0.5,>=2.0.2 in /usr/local/lib/python3.7/dist-packages (from packaging>=16.8->bokeh->livelossplot) (3.0.9)\n",
            "Requirement already satisfied: cycler>=0.10 in /usr/local/lib/python3.7/dist-packages (from matplotlib->livelossplot) (0.11.0)\n",
            "Requirement already satisfied: kiwisolver>=1.0.1 in /usr/local/lib/python3.7/dist-packages (from matplotlib->livelossplot) (1.4.4)\n",
            "Requirement already satisfied: ptyprocess>=0.5 in /usr/local/lib/python3.7/dist-packages (from pexpect->ipython==7.*->livelossplot) (0.7.0)\n",
            "Installing collected packages: jedi, livelossplot\n",
            "Successfully installed jedi-0.18.1 livelossplot-0.5.5\n"
          ]
        }
      ],
      "source": [
        "!pip install livelossplot"
      ]
    },
    {
      "cell_type": "code",
      "execution_count": 13,
      "metadata": {
        "id": "cVTFWlBPFX4m"
      },
      "outputs": [],
      "source": [
        "from keras.models import Sequential\n",
        "from tensorflow.keras import Model, Input\n",
        "from tensorflow.keras.layers import LSTM, Dense, Dropout, Conv1D, MaxPooling1D, GlobalMaxPooling1D, TimeDistributed, Bidirectional,GlobalMaxPooling1D\n",
        "from livelossplot.tf_keras import PlotLossesCallback"
      ]
    },
    {
      "cell_type": "code",
      "execution_count": 25,
      "metadata": {
        "colab": {
          "base_uri": "https://localhost:8080/"
        },
        "id": "2pka_S4IFsbK",
        "outputId": "90d2be8a-2886-4c39-bd88-b0b1e6a9b89a"
      },
      "outputs": [
        {
          "output_type": "stream",
          "name": "stdout",
          "text": [
            "Looking in indexes: https://pypi.org/simple, https://us-python.pkg.dev/colab-wheels/public/simple/\n",
            "Collecting seqeval\n",
            "  Downloading seqeval-1.2.2.tar.gz (43 kB)\n",
            "\u001b[K     |████████████████████████████████| 43 kB 1.8 MB/s \n",
            "\u001b[?25hRequirement already satisfied: numpy>=1.14.0 in /usr/local/lib/python3.7/dist-packages (from seqeval) (1.21.6)\n",
            "Requirement already satisfied: scikit-learn>=0.21.3 in /usr/local/lib/python3.7/dist-packages (from seqeval) (1.0.2)\n",
            "Requirement already satisfied: joblib>=0.11 in /usr/local/lib/python3.7/dist-packages (from scikit-learn>=0.21.3->seqeval) (1.1.0)\n",
            "Requirement already satisfied: scipy>=1.1.0 in /usr/local/lib/python3.7/dist-packages (from scikit-learn>=0.21.3->seqeval) (1.7.3)\n",
            "Requirement already satisfied: threadpoolctl>=2.0.0 in /usr/local/lib/python3.7/dist-packages (from scikit-learn>=0.21.3->seqeval) (3.1.0)\n",
            "Building wheels for collected packages: seqeval\n",
            "  Building wheel for seqeval (setup.py) ... \u001b[?25l\u001b[?25hdone\n",
            "  Created wheel for seqeval: filename=seqeval-1.2.2-py3-none-any.whl size=16180 sha256=08ff39e7732b484031ebf3b064f1108d46b1d11eb96bf9054a9c6a4856f6a595\n",
            "  Stored in directory: /root/.cache/pip/wheels/05/96/ee/7cac4e74f3b19e3158dce26a20a1c86b3533c43ec72a549fd7\n",
            "Successfully built seqeval\n",
            "Installing collected packages: seqeval\n",
            "Successfully installed seqeval-1.2.2\n"
          ]
        }
      ],
      "source": [
        "!pip install seqeval"
      ]
    },
    {
      "cell_type": "code",
      "execution_count": 26,
      "metadata": {
        "id": "cWN52OaZFxg7"
      },
      "outputs": [],
      "source": [
        "from seqeval.metrics import f1_score, classification_report"
      ]
    },
    {
      "cell_type": "code",
      "source": [
        "from nltk.tokenize import word_tokenize"
      ],
      "metadata": {
        "id": "v_Abe_5xPl76"
      },
      "execution_count": 45,
      "outputs": []
    },
    {
      "cell_type": "markdown",
      "metadata": {
        "id": "2QSqQl58jm2Q"
      },
      "source": [
        "#Carregando o dataset"
      ]
    },
    {
      "cell_type": "code",
      "execution_count": 14,
      "metadata": {
        "id": "CVIP6ekn0xNv"
      },
      "outputs": [],
      "source": [
        "import pandas as pd\n",
        "\n",
        "df = pd.read_csv('/content/drive/MyDrive/nido ner experiments/DODFCorpus_contratos_licitacoes_v1.csv')\n",
        "\n",
        "df = df.drop(['Unnamed: 0','Unnamed: 0.1'], axis =1)\n"
      ]
    },
    {
      "cell_type": "code",
      "execution_count": 15,
      "metadata": {
        "colab": {
          "base_uri": "https://localhost:8080/",
          "height": 713
        },
        "id": "KjilvZdu0xN4",
        "outputId": "663b7f40-7364-441f-b0b6-6749fac108b5"
      },
      "outputs": [
        {
          "output_type": "execute_result",
          "data": {
            "text/plain": [
              "             id_dodf                 tipo_rel id_rel       anotador_rel  \\\n",
              "0      12_22.11.2018      REL_AVISO_LICITACAO    R21  anotador_50435513   \n",
              "1      12_22.11.2018      REL_AVISO_LICITACAO    R21  anotador_50435513   \n",
              "2      12_22.11.2018      REL_AVISO_LICITACAO    R21  anotador_50435513   \n",
              "3      12_22.11.2018      REL_AVISO_LICITACAO    R21  anotador_50435513   \n",
              "4      12_22.11.2018      REL_AVISO_LICITACAO    R21  anotador_50435513   \n",
              "...              ...                      ...    ...                ...   \n",
              "41039            638  REL_SUSPENSAO_LICITACAO     R7  anotador_14379604   \n",
              "41040            638  REL_SUSPENSAO_LICITACAO     R7  anotador_14379604   \n",
              "41041            638  REL_SUSPENSAO_LICITACAO     R7  anotador_14379604   \n",
              "41042            638  REL_SUSPENSAO_LICITACAO     R7  anotador_14379604   \n",
              "41043            638  REL_SUSPENSAO_LICITACAO     R7  anotador_14379604   \n",
              "\n",
              "                         tipo_ent  id_ent       anotador_ent  offset  length  \\\n",
              "0            modalidade_licitacao       1  anotador_50435513  432851      17   \n",
              "1                numero_licitacao       2  anotador_50435513  432872       8   \n",
              "2      valor_estimado_contratacao       6  anotador_50435513  433432      10   \n",
              "3         data_abertura_licitacao       7  anotador_50435513  433599      10   \n",
              "4                 sistema_compras       8  anotador_50435513  433716      21   \n",
              "...                           ...     ...                ...     ...     ...   \n",
              "41039                processo_gdf     258  anotador_14379604  210132      22   \n",
              "41040             orgao_licitante     255  anotador_14379604  210158      63   \n",
              "41041            objeto_licitacao    3902  anotador_14379604  210322     367   \n",
              "41042             orgao_licitante    3206  anotador_14379604  210631      58   \n",
              "41043            nome_responsavel    3901  anotador_14379604  210768      25   \n",
              "\n",
              "                                                   texto             id_ato  \n",
              "0                                      PREGAO ELETRONICO  12_22.11.2018-R21  \n",
              "1                                               116/2018  12_22.11.2018-R21  \n",
              "2                                             767.907,37  12_22.11.2018-R21  \n",
              "3                                             20/11/2018  12_22.11.2018-R21  \n",
              "4                                  www.compras.df.gov.br  12_22.11.2018-R21  \n",
              "...                                                  ...                ...  \n",
              "41039                             04012-00000112/2022-79             638-R7  \n",
              "41040  Secretaria de Estado de Trabalho do Distrito F...             638-R7  \n",
              "41041  Registro de Preços para contratação de empresa...             638-R7  \n",
              "41042  Secretaria de Estado do Trabalho Distrito Fede...             638-R7  \n",
              "41043                          JUNILMA OLIVEIRA FERREIRA             638-R7  \n",
              "\n",
              "[41044 rows x 11 columns]"
            ],
            "text/html": [
              "\n",
              "  <div id=\"df-0c8de303-3414-46f8-9f80-2e36bfe47305\">\n",
              "    <div class=\"colab-df-container\">\n",
              "      <div>\n",
              "<style scoped>\n",
              "    .dataframe tbody tr th:only-of-type {\n",
              "        vertical-align: middle;\n",
              "    }\n",
              "\n",
              "    .dataframe tbody tr th {\n",
              "        vertical-align: top;\n",
              "    }\n",
              "\n",
              "    .dataframe thead th {\n",
              "        text-align: right;\n",
              "    }\n",
              "</style>\n",
              "<table border=\"1\" class=\"dataframe\">\n",
              "  <thead>\n",
              "    <tr style=\"text-align: right;\">\n",
              "      <th></th>\n",
              "      <th>id_dodf</th>\n",
              "      <th>tipo_rel</th>\n",
              "      <th>id_rel</th>\n",
              "      <th>anotador_rel</th>\n",
              "      <th>tipo_ent</th>\n",
              "      <th>id_ent</th>\n",
              "      <th>anotador_ent</th>\n",
              "      <th>offset</th>\n",
              "      <th>length</th>\n",
              "      <th>texto</th>\n",
              "      <th>id_ato</th>\n",
              "    </tr>\n",
              "  </thead>\n",
              "  <tbody>\n",
              "    <tr>\n",
              "      <th>0</th>\n",
              "      <td>12_22.11.2018</td>\n",
              "      <td>REL_AVISO_LICITACAO</td>\n",
              "      <td>R21</td>\n",
              "      <td>anotador_50435513</td>\n",
              "      <td>modalidade_licitacao</td>\n",
              "      <td>1</td>\n",
              "      <td>anotador_50435513</td>\n",
              "      <td>432851</td>\n",
              "      <td>17</td>\n",
              "      <td>PREGAO ELETRONICO</td>\n",
              "      <td>12_22.11.2018-R21</td>\n",
              "    </tr>\n",
              "    <tr>\n",
              "      <th>1</th>\n",
              "      <td>12_22.11.2018</td>\n",
              "      <td>REL_AVISO_LICITACAO</td>\n",
              "      <td>R21</td>\n",
              "      <td>anotador_50435513</td>\n",
              "      <td>numero_licitacao</td>\n",
              "      <td>2</td>\n",
              "      <td>anotador_50435513</td>\n",
              "      <td>432872</td>\n",
              "      <td>8</td>\n",
              "      <td>116/2018</td>\n",
              "      <td>12_22.11.2018-R21</td>\n",
              "    </tr>\n",
              "    <tr>\n",
              "      <th>2</th>\n",
              "      <td>12_22.11.2018</td>\n",
              "      <td>REL_AVISO_LICITACAO</td>\n",
              "      <td>R21</td>\n",
              "      <td>anotador_50435513</td>\n",
              "      <td>valor_estimado_contratacao</td>\n",
              "      <td>6</td>\n",
              "      <td>anotador_50435513</td>\n",
              "      <td>433432</td>\n",
              "      <td>10</td>\n",
              "      <td>767.907,37</td>\n",
              "      <td>12_22.11.2018-R21</td>\n",
              "    </tr>\n",
              "    <tr>\n",
              "      <th>3</th>\n",
              "      <td>12_22.11.2018</td>\n",
              "      <td>REL_AVISO_LICITACAO</td>\n",
              "      <td>R21</td>\n",
              "      <td>anotador_50435513</td>\n",
              "      <td>data_abertura_licitacao</td>\n",
              "      <td>7</td>\n",
              "      <td>anotador_50435513</td>\n",
              "      <td>433599</td>\n",
              "      <td>10</td>\n",
              "      <td>20/11/2018</td>\n",
              "      <td>12_22.11.2018-R21</td>\n",
              "    </tr>\n",
              "    <tr>\n",
              "      <th>4</th>\n",
              "      <td>12_22.11.2018</td>\n",
              "      <td>REL_AVISO_LICITACAO</td>\n",
              "      <td>R21</td>\n",
              "      <td>anotador_50435513</td>\n",
              "      <td>sistema_compras</td>\n",
              "      <td>8</td>\n",
              "      <td>anotador_50435513</td>\n",
              "      <td>433716</td>\n",
              "      <td>21</td>\n",
              "      <td>www.compras.df.gov.br</td>\n",
              "      <td>12_22.11.2018-R21</td>\n",
              "    </tr>\n",
              "    <tr>\n",
              "      <th>...</th>\n",
              "      <td>...</td>\n",
              "      <td>...</td>\n",
              "      <td>...</td>\n",
              "      <td>...</td>\n",
              "      <td>...</td>\n",
              "      <td>...</td>\n",
              "      <td>...</td>\n",
              "      <td>...</td>\n",
              "      <td>...</td>\n",
              "      <td>...</td>\n",
              "      <td>...</td>\n",
              "    </tr>\n",
              "    <tr>\n",
              "      <th>41039</th>\n",
              "      <td>638</td>\n",
              "      <td>REL_SUSPENSAO_LICITACAO</td>\n",
              "      <td>R7</td>\n",
              "      <td>anotador_14379604</td>\n",
              "      <td>processo_gdf</td>\n",
              "      <td>258</td>\n",
              "      <td>anotador_14379604</td>\n",
              "      <td>210132</td>\n",
              "      <td>22</td>\n",
              "      <td>04012-00000112/2022-79</td>\n",
              "      <td>638-R7</td>\n",
              "    </tr>\n",
              "    <tr>\n",
              "      <th>41040</th>\n",
              "      <td>638</td>\n",
              "      <td>REL_SUSPENSAO_LICITACAO</td>\n",
              "      <td>R7</td>\n",
              "      <td>anotador_14379604</td>\n",
              "      <td>orgao_licitante</td>\n",
              "      <td>255</td>\n",
              "      <td>anotador_14379604</td>\n",
              "      <td>210158</td>\n",
              "      <td>63</td>\n",
              "      <td>Secretaria de Estado de Trabalho do Distrito F...</td>\n",
              "      <td>638-R7</td>\n",
              "    </tr>\n",
              "    <tr>\n",
              "      <th>41041</th>\n",
              "      <td>638</td>\n",
              "      <td>REL_SUSPENSAO_LICITACAO</td>\n",
              "      <td>R7</td>\n",
              "      <td>anotador_14379604</td>\n",
              "      <td>objeto_licitacao</td>\n",
              "      <td>3902</td>\n",
              "      <td>anotador_14379604</td>\n",
              "      <td>210322</td>\n",
              "      <td>367</td>\n",
              "      <td>Registro de Preços para contratação de empresa...</td>\n",
              "      <td>638-R7</td>\n",
              "    </tr>\n",
              "    <tr>\n",
              "      <th>41042</th>\n",
              "      <td>638</td>\n",
              "      <td>REL_SUSPENSAO_LICITACAO</td>\n",
              "      <td>R7</td>\n",
              "      <td>anotador_14379604</td>\n",
              "      <td>orgao_licitante</td>\n",
              "      <td>3206</td>\n",
              "      <td>anotador_14379604</td>\n",
              "      <td>210631</td>\n",
              "      <td>58</td>\n",
              "      <td>Secretaria de Estado do Trabalho Distrito Fede...</td>\n",
              "      <td>638-R7</td>\n",
              "    </tr>\n",
              "    <tr>\n",
              "      <th>41043</th>\n",
              "      <td>638</td>\n",
              "      <td>REL_SUSPENSAO_LICITACAO</td>\n",
              "      <td>R7</td>\n",
              "      <td>anotador_14379604</td>\n",
              "      <td>nome_responsavel</td>\n",
              "      <td>3901</td>\n",
              "      <td>anotador_14379604</td>\n",
              "      <td>210768</td>\n",
              "      <td>25</td>\n",
              "      <td>JUNILMA OLIVEIRA FERREIRA</td>\n",
              "      <td>638-R7</td>\n",
              "    </tr>\n",
              "  </tbody>\n",
              "</table>\n",
              "<p>41044 rows × 11 columns</p>\n",
              "</div>\n",
              "      <button class=\"colab-df-convert\" onclick=\"convertToInteractive('df-0c8de303-3414-46f8-9f80-2e36bfe47305')\"\n",
              "              title=\"Convert this dataframe to an interactive table.\"\n",
              "              style=\"display:none;\">\n",
              "        \n",
              "  <svg xmlns=\"http://www.w3.org/2000/svg\" height=\"24px\"viewBox=\"0 0 24 24\"\n",
              "       width=\"24px\">\n",
              "    <path d=\"M0 0h24v24H0V0z\" fill=\"none\"/>\n",
              "    <path d=\"M18.56 5.44l.94 2.06.94-2.06 2.06-.94-2.06-.94-.94-2.06-.94 2.06-2.06.94zm-11 1L8.5 8.5l.94-2.06 2.06-.94-2.06-.94L8.5 2.5l-.94 2.06-2.06.94zm10 10l.94 2.06.94-2.06 2.06-.94-2.06-.94-.94-2.06-.94 2.06-2.06.94z\"/><path d=\"M17.41 7.96l-1.37-1.37c-.4-.4-.92-.59-1.43-.59-.52 0-1.04.2-1.43.59L10.3 9.45l-7.72 7.72c-.78.78-.78 2.05 0 2.83L4 21.41c.39.39.9.59 1.41.59.51 0 1.02-.2 1.41-.59l7.78-7.78 2.81-2.81c.8-.78.8-2.07 0-2.86zM5.41 20L4 18.59l7.72-7.72 1.47 1.35L5.41 20z\"/>\n",
              "  </svg>\n",
              "      </button>\n",
              "      \n",
              "  <style>\n",
              "    .colab-df-container {\n",
              "      display:flex;\n",
              "      flex-wrap:wrap;\n",
              "      gap: 12px;\n",
              "    }\n",
              "\n",
              "    .colab-df-convert {\n",
              "      background-color: #E8F0FE;\n",
              "      border: none;\n",
              "      border-radius: 50%;\n",
              "      cursor: pointer;\n",
              "      display: none;\n",
              "      fill: #1967D2;\n",
              "      height: 32px;\n",
              "      padding: 0 0 0 0;\n",
              "      width: 32px;\n",
              "    }\n",
              "\n",
              "    .colab-df-convert:hover {\n",
              "      background-color: #E2EBFA;\n",
              "      box-shadow: 0px 1px 2px rgba(60, 64, 67, 0.3), 0px 1px 3px 1px rgba(60, 64, 67, 0.15);\n",
              "      fill: #174EA6;\n",
              "    }\n",
              "\n",
              "    [theme=dark] .colab-df-convert {\n",
              "      background-color: #3B4455;\n",
              "      fill: #D2E3FC;\n",
              "    }\n",
              "\n",
              "    [theme=dark] .colab-df-convert:hover {\n",
              "      background-color: #434B5C;\n",
              "      box-shadow: 0px 1px 3px 1px rgba(0, 0, 0, 0.15);\n",
              "      filter: drop-shadow(0px 1px 2px rgba(0, 0, 0, 0.3));\n",
              "      fill: #FFFFFF;\n",
              "    }\n",
              "  </style>\n",
              "\n",
              "      <script>\n",
              "        const buttonEl =\n",
              "          document.querySelector('#df-0c8de303-3414-46f8-9f80-2e36bfe47305 button.colab-df-convert');\n",
              "        buttonEl.style.display =\n",
              "          google.colab.kernel.accessAllowed ? 'block' : 'none';\n",
              "\n",
              "        async function convertToInteractive(key) {\n",
              "          const element = document.querySelector('#df-0c8de303-3414-46f8-9f80-2e36bfe47305');\n",
              "          const dataTable =\n",
              "            await google.colab.kernel.invokeFunction('convertToInteractive',\n",
              "                                                     [key], {});\n",
              "          if (!dataTable) return;\n",
              "\n",
              "          const docLinkHtml = 'Like what you see? Visit the ' +\n",
              "            '<a target=\"_blank\" href=https://colab.research.google.com/notebooks/data_table.ipynb>data table notebook</a>'\n",
              "            + ' to learn more about interactive tables.';\n",
              "          element.innerHTML = '';\n",
              "          dataTable['output_type'] = 'display_data';\n",
              "          await google.colab.output.renderOutput(dataTable, element);\n",
              "          const docLink = document.createElement('div');\n",
              "          docLink.innerHTML = docLinkHtml;\n",
              "          element.appendChild(docLink);\n",
              "        }\n",
              "      </script>\n",
              "    </div>\n",
              "  </div>\n",
              "  "
            ]
          },
          "metadata": {},
          "execution_count": 15
        }
      ],
      "source": [
        "df"
      ]
    },
    {
      "cell_type": "markdown",
      "metadata": {
        "id": "pteZHNFBj8aZ"
      },
      "source": [
        "Observando a quantidade de tipos de ato, faz-se necessário separar os dados de treinamento e de teste de maneira igual para cada tipo de ato."
      ]
    },
    {
      "cell_type": "code",
      "execution_count": 16,
      "metadata": {
        "colab": {
          "base_uri": "https://localhost:8080/"
        },
        "id": "MH4cwJXQi03b",
        "outputId": "97abab4e-197b-4d7f-a86e-3a5d698e2db9"
      },
      "outputs": [
        {
          "output_type": "execute_result",
          "data": {
            "text/plain": [
              "REL_EXTRATO_CONTRATO        20750\n",
              "REL_ADITAMENTO_CONTRATO     11796\n",
              "REL_AVISO_LICITACAO          7413\n",
              "REL_SUSPENSAO_LICITACAO       497\n",
              "REL_ANUL_REVOG_LICITACAO      350\n",
              "REL_EXTRATO_CONVENIO          238\n",
              "Name: tipo_rel, dtype: int64"
            ]
          },
          "metadata": {},
          "execution_count": 16
        }
      ],
      "source": [
        "df.tipo_rel.value_counts()"
      ]
    },
    {
      "cell_type": "code",
      "execution_count": 17,
      "metadata": {
        "colab": {
          "base_uri": "https://localhost:8080/"
        },
        "id": "3_QPFDfwy2b_",
        "outputId": "e6126d3c-43af-401f-e346-580c4720026f"
      },
      "outputs": [
        {
          "output_type": "execute_result",
          "data": {
            "text/plain": [
              "array(['REL_AVISO_LICITACAO', 'REL_SUSPENSAO_LICITACAO',\n",
              "       'REL_EXTRATO_CONTRATO', 'REL_ADITAMENTO_CONTRATO',\n",
              "       'REL_EXTRATO_CONVENIO', 'REL_ANUL_REVOG_LICITACAO'], dtype=object)"
            ]
          },
          "metadata": {},
          "execution_count": 17
        }
      ],
      "source": [
        "df.tipo_rel.unique()"
      ]
    },
    {
      "cell_type": "markdown",
      "metadata": {
        "id": "7HqRZEvgxGT7"
      },
      "source": [
        "#Extração dos IOBs"
      ]
    },
    {
      "cell_type": "code",
      "execution_count": 18,
      "metadata": {
        "id": "muJGiYRbm-xP"
      },
      "outputs": [],
      "source": [
        "def split_data(dset):\n",
        "  iob_v = iob_transformer('id_ato', 'texto', 'tipo_ent', keep_punctuation=True, return_df=False)\n",
        "\n",
        "  acts, labels = iob_v.transform(dset)\n",
        "\n",
        "  x_train, x_test, y_train, y_test = train_test_split(acts,labels, train_size=0.8, random_state=1)\n",
        "\n",
        "  x_test, x_val, y_test, y_val = train_test_split(x_test,y_test, train_size=0.5, random_state=1)\n",
        "\n",
        "  return x_train, y_train, x_test, y_test, x_val, y_val"
      ]
    },
    {
      "cell_type": "code",
      "execution_count": 19,
      "metadata": {
        "id": "5wCfWWG0okvC"
      },
      "outputs": [],
      "source": [
        "train_acts = []\n",
        "train_labels = []\n",
        "\n",
        "test_acts = []\n",
        "test_labels = []\n",
        "\n",
        "val_acts = []\n",
        "val_labels = []\n",
        "\n",
        "aux = df.tipo_rel.unique()\n",
        "\n",
        "for d in aux:\n",
        "  q = \"tipo_rel == \" + \"'\" + str(d) + \"'\"\n",
        "  tr_acts, tr_labels, te_acts, te_labels, v_acts, v_labels = split_data(df.query(q))\n",
        "\n",
        "  train_acts.extend(tr_acts)\n",
        "  train_labels.extend(tr_labels)\n",
        "\n",
        "  test_acts.extend(te_acts)\n",
        "  test_labels.extend(te_labels)\n",
        "\n",
        "  val_acts.extend(v_acts)\n",
        "  val_labels.extend(v_labels)\n",
        "\n"
      ]
    },
    {
      "cell_type": "code",
      "execution_count": 20,
      "metadata": {
        "id": "V4gYYT1c5gmQ"
      },
      "outputs": [],
      "source": [
        "def remove_wrong_tags(label_list):\n",
        "  for label in label_list:\n",
        "    for idx,w in enumerate(label):\n",
        "      if w in ['B-11','B-12','B-50']:\n",
        "        label[idx] = 'O'"
      ]
    },
    {
      "cell_type": "code",
      "execution_count": 21,
      "metadata": {
        "id": "uuewv9Er6J77"
      },
      "outputs": [],
      "source": [
        "remove_wrong_tags(train_labels)\n",
        "remove_wrong_tags(test_labels)\n",
        "remove_wrong_tags(val_labels)"
      ]
    },
    {
      "cell_type": "code",
      "execution_count": 22,
      "metadata": {
        "id": "5wON4_ix0xN5"
      },
      "outputs": [],
      "source": [
        "iob = iob_transformer('id_ato', 'texto', 'tipo_ent', keep_punctuation=True, return_df=False)"
      ]
    },
    {
      "cell_type": "code",
      "execution_count": 23,
      "metadata": {
        "id": "M5BMFbTG0xN6"
      },
      "outputs": [],
      "source": [
        "iob_data = iob_transformer('id_ato', 'texto', 'tipo_ent', keep_punctuation=True, return_df=True)"
      ]
    },
    {
      "cell_type": "code",
      "execution_count": 24,
      "metadata": {
        "id": "wzHVsnwC0xN7"
      },
      "outputs": [],
      "source": [
        "acts, labels = iob.transform(df)"
      ]
    },
    {
      "cell_type": "code",
      "execution_count": 27,
      "metadata": {
        "id": "rc0CXAcYfuSC"
      },
      "outputs": [],
      "source": [
        "remove_wrong_tags(labels)"
      ]
    },
    {
      "cell_type": "code",
      "execution_count": 28,
      "metadata": {
        "colab": {
          "base_uri": "https://localhost:8080/",
          "height": 424
        },
        "id": "BPQxPpiX0xN8",
        "outputId": "6e84068d-2f3f-4637-c992-a27578010cc6"
      },
      "outputs": [
        {
          "output_type": "execute_result",
          "data": {
            "text/plain": [
              "        Sentence_idx        Word                     Tag\n",
              "0                 -1         UNK                       O\n",
              "1                  0      AVISOS                       O\n",
              "2                  0          DE                       O\n",
              "3                  0  LICITACOES                       O\n",
              "4                  0      PREGAO  B-modalidade_licitacao\n",
              "...              ...         ...                     ...\n",
              "834274          3849           .                       O\n",
              "834275          3849     JUNILMA      B-nome_responsavel\n",
              "834276          3849    OLIVEIRA      I-nome_responsavel\n",
              "834277          3849    FERREIRA      I-nome_responsavel\n",
              "834278          3849    Diretora                       O\n",
              "\n",
              "[834279 rows x 3 columns]"
            ],
            "text/html": [
              "\n",
              "  <div id=\"df-eb89be63-a988-4c28-b13c-52e8f7755009\">\n",
              "    <div class=\"colab-df-container\">\n",
              "      <div>\n",
              "<style scoped>\n",
              "    .dataframe tbody tr th:only-of-type {\n",
              "        vertical-align: middle;\n",
              "    }\n",
              "\n",
              "    .dataframe tbody tr th {\n",
              "        vertical-align: top;\n",
              "    }\n",
              "\n",
              "    .dataframe thead th {\n",
              "        text-align: right;\n",
              "    }\n",
              "</style>\n",
              "<table border=\"1\" class=\"dataframe\">\n",
              "  <thead>\n",
              "    <tr style=\"text-align: right;\">\n",
              "      <th></th>\n",
              "      <th>Sentence_idx</th>\n",
              "      <th>Word</th>\n",
              "      <th>Tag</th>\n",
              "    </tr>\n",
              "  </thead>\n",
              "  <tbody>\n",
              "    <tr>\n",
              "      <th>0</th>\n",
              "      <td>-1</td>\n",
              "      <td>UNK</td>\n",
              "      <td>O</td>\n",
              "    </tr>\n",
              "    <tr>\n",
              "      <th>1</th>\n",
              "      <td>0</td>\n",
              "      <td>AVISOS</td>\n",
              "      <td>O</td>\n",
              "    </tr>\n",
              "    <tr>\n",
              "      <th>2</th>\n",
              "      <td>0</td>\n",
              "      <td>DE</td>\n",
              "      <td>O</td>\n",
              "    </tr>\n",
              "    <tr>\n",
              "      <th>3</th>\n",
              "      <td>0</td>\n",
              "      <td>LICITACOES</td>\n",
              "      <td>O</td>\n",
              "    </tr>\n",
              "    <tr>\n",
              "      <th>4</th>\n",
              "      <td>0</td>\n",
              "      <td>PREGAO</td>\n",
              "      <td>B-modalidade_licitacao</td>\n",
              "    </tr>\n",
              "    <tr>\n",
              "      <th>...</th>\n",
              "      <td>...</td>\n",
              "      <td>...</td>\n",
              "      <td>...</td>\n",
              "    </tr>\n",
              "    <tr>\n",
              "      <th>834274</th>\n",
              "      <td>3849</td>\n",
              "      <td>.</td>\n",
              "      <td>O</td>\n",
              "    </tr>\n",
              "    <tr>\n",
              "      <th>834275</th>\n",
              "      <td>3849</td>\n",
              "      <td>JUNILMA</td>\n",
              "      <td>B-nome_responsavel</td>\n",
              "    </tr>\n",
              "    <tr>\n",
              "      <th>834276</th>\n",
              "      <td>3849</td>\n",
              "      <td>OLIVEIRA</td>\n",
              "      <td>I-nome_responsavel</td>\n",
              "    </tr>\n",
              "    <tr>\n",
              "      <th>834277</th>\n",
              "      <td>3849</td>\n",
              "      <td>FERREIRA</td>\n",
              "      <td>I-nome_responsavel</td>\n",
              "    </tr>\n",
              "    <tr>\n",
              "      <th>834278</th>\n",
              "      <td>3849</td>\n",
              "      <td>Diretora</td>\n",
              "      <td>O</td>\n",
              "    </tr>\n",
              "  </tbody>\n",
              "</table>\n",
              "<p>834279 rows × 3 columns</p>\n",
              "</div>\n",
              "      <button class=\"colab-df-convert\" onclick=\"convertToInteractive('df-eb89be63-a988-4c28-b13c-52e8f7755009')\"\n",
              "              title=\"Convert this dataframe to an interactive table.\"\n",
              "              style=\"display:none;\">\n",
              "        \n",
              "  <svg xmlns=\"http://www.w3.org/2000/svg\" height=\"24px\"viewBox=\"0 0 24 24\"\n",
              "       width=\"24px\">\n",
              "    <path d=\"M0 0h24v24H0V0z\" fill=\"none\"/>\n",
              "    <path d=\"M18.56 5.44l.94 2.06.94-2.06 2.06-.94-2.06-.94-.94-2.06-.94 2.06-2.06.94zm-11 1L8.5 8.5l.94-2.06 2.06-.94-2.06-.94L8.5 2.5l-.94 2.06-2.06.94zm10 10l.94 2.06.94-2.06 2.06-.94-2.06-.94-.94-2.06-.94 2.06-2.06.94z\"/><path d=\"M17.41 7.96l-1.37-1.37c-.4-.4-.92-.59-1.43-.59-.52 0-1.04.2-1.43.59L10.3 9.45l-7.72 7.72c-.78.78-.78 2.05 0 2.83L4 21.41c.39.39.9.59 1.41.59.51 0 1.02-.2 1.41-.59l7.78-7.78 2.81-2.81c.8-.78.8-2.07 0-2.86zM5.41 20L4 18.59l7.72-7.72 1.47 1.35L5.41 20z\"/>\n",
              "  </svg>\n",
              "      </button>\n",
              "      \n",
              "  <style>\n",
              "    .colab-df-container {\n",
              "      display:flex;\n",
              "      flex-wrap:wrap;\n",
              "      gap: 12px;\n",
              "    }\n",
              "\n",
              "    .colab-df-convert {\n",
              "      background-color: #E8F0FE;\n",
              "      border: none;\n",
              "      border-radius: 50%;\n",
              "      cursor: pointer;\n",
              "      display: none;\n",
              "      fill: #1967D2;\n",
              "      height: 32px;\n",
              "      padding: 0 0 0 0;\n",
              "      width: 32px;\n",
              "    }\n",
              "\n",
              "    .colab-df-convert:hover {\n",
              "      background-color: #E2EBFA;\n",
              "      box-shadow: 0px 1px 2px rgba(60, 64, 67, 0.3), 0px 1px 3px 1px rgba(60, 64, 67, 0.15);\n",
              "      fill: #174EA6;\n",
              "    }\n",
              "\n",
              "    [theme=dark] .colab-df-convert {\n",
              "      background-color: #3B4455;\n",
              "      fill: #D2E3FC;\n",
              "    }\n",
              "\n",
              "    [theme=dark] .colab-df-convert:hover {\n",
              "      background-color: #434B5C;\n",
              "      box-shadow: 0px 1px 3px 1px rgba(0, 0, 0, 0.15);\n",
              "      filter: drop-shadow(0px 1px 2px rgba(0, 0, 0, 0.3));\n",
              "      fill: #FFFFFF;\n",
              "    }\n",
              "  </style>\n",
              "\n",
              "      <script>\n",
              "        const buttonEl =\n",
              "          document.querySelector('#df-eb89be63-a988-4c28-b13c-52e8f7755009 button.colab-df-convert');\n",
              "        buttonEl.style.display =\n",
              "          google.colab.kernel.accessAllowed ? 'block' : 'none';\n",
              "\n",
              "        async function convertToInteractive(key) {\n",
              "          const element = document.querySelector('#df-eb89be63-a988-4c28-b13c-52e8f7755009');\n",
              "          const dataTable =\n",
              "            await google.colab.kernel.invokeFunction('convertToInteractive',\n",
              "                                                     [key], {});\n",
              "          if (!dataTable) return;\n",
              "\n",
              "          const docLinkHtml = 'Like what you see? Visit the ' +\n",
              "            '<a target=\"_blank\" href=https://colab.research.google.com/notebooks/data_table.ipynb>data table notebook</a>'\n",
              "            + ' to learn more about interactive tables.';\n",
              "          element.innerHTML = '';\n",
              "          dataTable['output_type'] = 'display_data';\n",
              "          await google.colab.output.renderOutput(dataTable, element);\n",
              "          const docLink = document.createElement('div');\n",
              "          docLink.innerHTML = docLinkHtml;\n",
              "          element.appendChild(docLink);\n",
              "        }\n",
              "      </script>\n",
              "    </div>\n",
              "  </div>\n",
              "  "
            ]
          },
          "metadata": {},
          "execution_count": 28
        }
      ],
      "source": [
        "df_iob = iob_data.transform(df)\n",
        "df_iob"
      ]
    },
    {
      "cell_type": "code",
      "execution_count": 29,
      "metadata": {
        "id": "LeB5gdCWeMKA"
      },
      "outputs": [],
      "source": [
        "df_iob.loc[df_iob.Word == 'B-11','Tag']='O'\n",
        "df_iob.loc[df_iob.Word == 'B-12','Tag']='O'\n",
        "df_iob.loc[df_iob.Word == 'B-50','Tag']='O'"
      ]
    },
    {
      "cell_type": "code",
      "execution_count": 30,
      "metadata": {
        "id": "RWb5jRA03M2O"
      },
      "outputs": [],
      "source": [
        "#salvando todas as palavras do corpus sem repetição\n",
        "words = set()\n",
        "\n",
        "for act in acts:\n",
        "    for word in act:\n",
        "        words.add(word)\n",
        "#convertendo o set em uma lista\n",
        "words = list(words)\n",
        "\n",
        "words.append(\"ENDPAD\")\n",
        "words.append(\"UNK\")\n",
        "\n",
        "words_amt = len(words)"
      ]
    },
    {
      "cell_type": "code",
      "execution_count": 31,
      "metadata": {
        "colab": {
          "base_uri": "https://localhost:8080/"
        },
        "id": "3gOGDjbt5Jww",
        "outputId": "570dda08-f3b4-4fc0-a971-181c9260bb86"
      },
      "outputs": [
        {
          "output_type": "execute_result",
          "data": {
            "text/plain": [
              "76"
            ]
          },
          "metadata": {},
          "execution_count": 31
        }
      ],
      "source": [
        "tags = set()\n",
        "\n",
        "for label in labels:\n",
        "    for tag in label:\n",
        "        tags.add(tag)\n",
        "tags = list(tags)\n",
        "tags_amt = len(tags)\n",
        "\n",
        "tags_amt"
      ]
    },
    {
      "cell_type": "code",
      "execution_count": 32,
      "metadata": {
        "colab": {
          "base_uri": "https://localhost:8080/"
        },
        "id": "eJ52eNn0PYn_",
        "outputId": "394145a0-f19f-4921-f09b-da3892f8fc09"
      },
      "outputs": [
        {
          "output_type": "execute_result",
          "data": {
            "text/plain": [
              "['B-valor_estimado_contratacao',\n",
              " 'I-unidade_orcamentaria',\n",
              " 'B-modalidade_licitacao',\n",
              " 'O',\n",
              " 'B-nota_empenho',\n",
              " 'I-orgao_concedente',\n",
              " 'I-valor_estimado_contratacao',\n",
              " 'B-sistema_compras',\n",
              " 'B-cnpj_orgao_contratante',\n",
              " 'I-tipo_objeto',\n",
              " 'I-decisao_tcdf',\n",
              " 'I-cnpj_entidade_contratada',\n",
              " 'I-numero_termo_aditivo',\n",
              " 'B-valor_convenio',\n",
              " 'B-programa_trabalho',\n",
              " 'I-orgao_licitante',\n",
              " 'I-programa_trabalho',\n",
              " 'B-cnpj_entidade_convenente',\n",
              " 'I-numero_convenio',\n",
              " 'B-orgao_licitante',\n",
              " 'I-objeto_licitacao',\n",
              " 'B-data_escrito',\n",
              " 'B-codigo_licitacao_sistema_compras',\n",
              " 'B-orgao_concedente',\n",
              " 'I-objeto_contrato',\n",
              " 'B-entidade_contratada',\n",
              " 'I-sistema_compras',\n",
              " 'I-data_assinatura_convenio',\n",
              " 'B-numero_convenio',\n",
              " 'B-tipo_objeto',\n",
              " 'B-unidade_orcamentaria',\n",
              " 'B-vigencia_contrato',\n",
              " 'B-fonte_recurso',\n",
              " 'B-numero_licitacao',\n",
              " 'B-data_assinatura_contrato',\n",
              " 'I-vigencia_contrato',\n",
              " 'B-entidade_convenente',\n",
              " 'B-identificacao_ocorrencia',\n",
              " 'I-orgao_contratante',\n",
              " 'B-numero_termo_aditivo',\n",
              " 'I-nome_responsavel',\n",
              " 'B-codigo_siggo',\n",
              " 'I-codigo_licitacao_sistema_compras',\n",
              " 'I-natureza_despesa',\n",
              " 'B-vigencia_convenio',\n",
              " 'B-natureza_despesa',\n",
              " 'I-processo_gdf',\n",
              " 'I-valor_contrato',\n",
              " 'I-codigo_siggo',\n",
              " 'B-decisao_tcdf',\n",
              " 'I-entidade_contratada',\n",
              " 'I-numero_contrato',\n",
              " 'I-nota_empenho',\n",
              " 'B-nome_responsavel',\n",
              " 'B-valor_contrato',\n",
              " 'B-objeto_contrato',\n",
              " 'I-data_assinatura_contrato',\n",
              " 'B-objeto_convenio',\n",
              " 'I-fonte_recurso',\n",
              " 'B-data_abertura_licitacao',\n",
              " 'B-data_assinatura_convenio',\n",
              " 'I-entidade_convenente',\n",
              " 'I-modalidade_licitacao',\n",
              " 'B-orgao_contratante',\n",
              " 'B-cnpj_entidade_contratada',\n",
              " 'I-numero_licitacao',\n",
              " 'B-cnpj_orgao_concedente',\n",
              " 'I-vigencia_convenio',\n",
              " 'B-objeto_licitacao',\n",
              " 'I-data_abertura_licitacao',\n",
              " 'B-objeto_aditamento_contratual',\n",
              " 'I-data_escrito',\n",
              " 'I-objeto_aditamento_contratual',\n",
              " 'B-processo_gdf',\n",
              " 'I-objeto_convenio',\n",
              " 'B-numero_contrato']"
            ]
          },
          "metadata": {},
          "execution_count": 32
        }
      ],
      "source": [
        "tags"
      ]
    },
    {
      "cell_type": "markdown",
      "metadata": {
        "id": "vtqKJsUtQRiC"
      },
      "source": [
        "#Transformando os valores dos dados (representação inteira)"
      ]
    },
    {
      "cell_type": "code",
      "execution_count": 33,
      "metadata": {
        "id": "Emkr5kHAZ8SY"
      },
      "outputs": [],
      "source": [
        "vocab = {}\n",
        "\n",
        "for i in range(0,len(acts)):\n",
        "    for word in acts[i]:\n",
        "        if word.lower() not in vocab:\n",
        "            vocab[word.lower()] = 1\n",
        "        else:\n",
        "            vocab[word.lower()]+=1"
      ]
    },
    {
      "cell_type": "code",
      "execution_count": 34,
      "metadata": {
        "id": "x34-OwlVQb4m"
      },
      "outputs": [],
      "source": [
        "#dicionario das palavras com seu respectivo valor inteiro\n",
        "lab_enc = LabelEncoder()\n",
        "\n",
        "lab_enc.fit(words)\n",
        "words_i = dict(zip(lab_enc.classes_, lab_enc.transform(lab_enc.classes_)))\n",
        "\n",
        "i_words = {}\n",
        "\n",
        "for key in words_i:\n",
        "  i_words[words_i[key]] = key\n",
        "\n",
        "#i_words"
      ]
    },
    {
      "cell_type": "code",
      "execution_count": 35,
      "metadata": {
        "colab": {
          "base_uri": "https://localhost:8080/"
        },
        "id": "sP35ehAtT9mY",
        "outputId": "d7a88aa3-70e0-4531-daa4-2ca81bb3ef69"
      },
      "outputs": [
        {
          "output_type": "execute_result",
          "data": {
            "text/plain": [
              "{0: 'B-cnpj_entidade_contratada',\n",
              " 1: 'B-cnpj_entidade_convenente',\n",
              " 2: 'B-cnpj_orgao_concedente',\n",
              " 3: 'B-cnpj_orgao_contratante',\n",
              " 4: 'B-codigo_licitacao_sistema_compras',\n",
              " 5: 'B-codigo_siggo',\n",
              " 6: 'B-data_abertura_licitacao',\n",
              " 7: 'B-data_assinatura_contrato',\n",
              " 8: 'B-data_assinatura_convenio',\n",
              " 9: 'B-data_escrito',\n",
              " 10: 'B-decisao_tcdf',\n",
              " 11: 'B-entidade_contratada',\n",
              " 12: 'B-entidade_convenente',\n",
              " 13: 'B-fonte_recurso',\n",
              " 14: 'B-identificacao_ocorrencia',\n",
              " 15: 'B-modalidade_licitacao',\n",
              " 16: 'B-natureza_despesa',\n",
              " 17: 'B-nome_responsavel',\n",
              " 18: 'B-nota_empenho',\n",
              " 19: 'B-numero_contrato',\n",
              " 20: 'B-numero_convenio',\n",
              " 21: 'B-numero_licitacao',\n",
              " 22: 'B-numero_termo_aditivo',\n",
              " 23: 'B-objeto_aditamento_contratual',\n",
              " 24: 'B-objeto_contrato',\n",
              " 25: 'B-objeto_convenio',\n",
              " 26: 'B-objeto_licitacao',\n",
              " 27: 'B-orgao_concedente',\n",
              " 28: 'B-orgao_contratante',\n",
              " 29: 'B-orgao_licitante',\n",
              " 30: 'B-processo_gdf',\n",
              " 31: 'B-programa_trabalho',\n",
              " 32: 'B-sistema_compras',\n",
              " 33: 'B-tipo_objeto',\n",
              " 34: 'B-unidade_orcamentaria',\n",
              " 35: 'B-valor_contrato',\n",
              " 36: 'B-valor_convenio',\n",
              " 37: 'B-valor_estimado_contratacao',\n",
              " 38: 'B-vigencia_contrato',\n",
              " 39: 'B-vigencia_convenio',\n",
              " 40: 'I-cnpj_entidade_contratada',\n",
              " 41: 'I-codigo_licitacao_sistema_compras',\n",
              " 42: 'I-codigo_siggo',\n",
              " 43: 'I-data_abertura_licitacao',\n",
              " 44: 'I-data_assinatura_contrato',\n",
              " 45: 'I-data_assinatura_convenio',\n",
              " 46: 'I-data_escrito',\n",
              " 47: 'I-decisao_tcdf',\n",
              " 48: 'I-entidade_contratada',\n",
              " 49: 'I-entidade_convenente',\n",
              " 50: 'I-fonte_recurso',\n",
              " 51: 'I-modalidade_licitacao',\n",
              " 52: 'I-natureza_despesa',\n",
              " 53: 'I-nome_responsavel',\n",
              " 54: 'I-nota_empenho',\n",
              " 55: 'I-numero_contrato',\n",
              " 56: 'I-numero_convenio',\n",
              " 57: 'I-numero_licitacao',\n",
              " 58: 'I-numero_termo_aditivo',\n",
              " 59: 'I-objeto_aditamento_contratual',\n",
              " 60: 'I-objeto_contrato',\n",
              " 61: 'I-objeto_convenio',\n",
              " 62: 'I-objeto_licitacao',\n",
              " 63: 'I-orgao_concedente',\n",
              " 64: 'I-orgao_contratante',\n",
              " 65: 'I-orgao_licitante',\n",
              " 66: 'I-processo_gdf',\n",
              " 67: 'I-programa_trabalho',\n",
              " 68: 'I-sistema_compras',\n",
              " 69: 'I-tipo_objeto',\n",
              " 70: 'I-unidade_orcamentaria',\n",
              " 71: 'I-valor_contrato',\n",
              " 72: 'I-valor_estimado_contratacao',\n",
              " 73: 'I-vigencia_contrato',\n",
              " 74: 'I-vigencia_convenio',\n",
              " 75: 'O'}"
            ]
          },
          "metadata": {},
          "execution_count": 35
        }
      ],
      "source": [
        "lab_enc = LabelEncoder()\n",
        "\n",
        "lab_enc.fit(tags)\n",
        "tags_i = dict(zip(lab_enc.classes_, lab_enc.transform(lab_enc.classes_)))\n",
        "\n",
        "\n",
        "i_tags = {}\n",
        "\n",
        "for key in tags_i:\n",
        "  i_tags[tags_i[key]] = key\n",
        "\n",
        "i_tags"
      ]
    },
    {
      "cell_type": "markdown",
      "metadata": {
        "id": "pCqqOLN2Z6bx"
      },
      "source": [
        "#Padding"
      ]
    },
    {
      "cell_type": "code",
      "execution_count": 37,
      "metadata": {
        "colab": {
          "base_uri": "https://localhost:8080/",
          "height": 299
        },
        "id": "xhJn1TDMZqL6",
        "outputId": "4f2e47b9-979a-4273-e0b9-2c4688f32f9d"
      },
      "outputs": [
        {
          "output_type": "display_data",
          "data": {
            "text/plain": [
              "<Figure size 432x288 with 1 Axes>"
            ],
            "image/png": "[encoded data removed]"
          },
          "metadata": {}
        }
      ],
      "source": [
        "plt.hist([len(ato) for ato in acts], bins=50)\n",
        "\n",
        "plt.xlabel(\"Number of words\")\n",
        "plt.ylabel(\"Number of acts\")\n",
        "plt.title(\"Amount of acts per text size\")\n",
        "plt.show()"
      ]
    },
    {
      "cell_type": "code",
      "execution_count": 38,
      "metadata": {
        "id": "tnSL71HyaXVV"
      },
      "outputs": [],
      "source": [
        "def transform_data(x,y):\n",
        "  X,Y = [],[]\n",
        "\n",
        "  for act in x:\n",
        "    aux = []\n",
        "    for word in act:\n",
        "      aux.append(words_i[word])\n",
        "    X.append(aux)\n",
        "\n",
        "  for label in y:\n",
        "    aux = []\n",
        "    for word in label:\n",
        "      aux.append(tags_i[word])\n",
        "    Y.append(aux)\n",
        "\n",
        "  return X,Y"
      ]
    },
    {
      "cell_type": "code",
      "execution_count": 39,
      "metadata": {
        "id": "6F7gS84m7mr3"
      },
      "outputs": [],
      "source": [
        "x_train,y_train = transform_data(train_acts,train_labels)\n",
        "\n",
        "x_test, y_test = transform_data(test_acts,test_labels)\n",
        "\n",
        "x_val, y_val = transform_data(val_acts,val_labels)\n"
      ]
    },
    {
      "cell_type": "code",
      "execution_count": 40,
      "metadata": {
        "id": "lyj7IfNUIfdr"
      },
      "outputs": [],
      "source": [
        "x_train = pad_sequences(maxlen=450, sequences=x_train, padding=\"post\", value=words_i['ENDPAD'])\n",
        "x_test = pad_sequences(maxlen=450, sequences=x_test, padding=\"post\", value=words_i['ENDPAD'])\n",
        "x_val = pad_sequences(maxlen=450, sequences=x_val, padding=\"post\", value=words_i['ENDPAD'])\n",
        "\n",
        "y_train = pad_sequences(maxlen=450, sequences=y_train, padding=\"post\", value=tags_i[\"O\"])\n",
        "y_test = pad_sequences(maxlen=450, sequences=y_test, padding=\"post\", value=tags_i[\"O\"])\n",
        "y_val = pad_sequences(maxlen=450, sequences=y_val, padding=\"post\", value=tags_i[\"O\"])"
      ]
    },
    {
      "cell_type": "markdown",
      "metadata": {
        "id": "AQcP0XRohsBT"
      },
      "source": [
        "#Modelos"
      ]
    },
    {
      "cell_type": "markdown",
      "metadata": {
        "id": "IuIBjBEJ2R_5"
      },
      "source": [
        "##Word Embbeding (word2vec)"
      ]
    },
    {
      "cell_type": "code",
      "execution_count": 41,
      "metadata": {
        "id": "Cjag3sp_2Yyf"
      },
      "outputs": [],
      "source": [
        "df2 =  pd.read_csv('/content/drive/MyDrive/nido ner experiments/dodf_atos_pessoal_final_version.csv')"
      ]
    },
    {
      "cell_type": "code",
      "execution_count": 43,
      "metadata": {
        "id": "mIvnlY8AJPDD"
      },
      "outputs": [],
      "source": [
        "l = [df2[\"texto_rel\"]]\n",
        "headers = [\"texto\"]\n",
        "df_emb = pd.concat(l, axis=1, keys=headers)"
      ]
    },
    {
      "cell_type": "code",
      "execution_count": 44,
      "metadata": {
        "id": "sCla39W8L9Ag"
      },
      "outputs": [],
      "source": [
        "df_emb.drop_duplicates(subset=['texto'],inplace=True)"
      ]
    },
    {
      "cell_type": "code",
      "execution_count": 46,
      "metadata": {
        "id": "dEFTvCpKRpdl"
      },
      "outputs": [],
      "source": [
        "t_aux = list(df_emb[\"texto\"])\n",
        "text = []\n",
        "\n",
        "for sent in t_aux:\n",
        "  ap = sent.lower()\n",
        "  ap = word_tokenize(ap)\n",
        "  text.append(ap)\n",
        "\n",
        "#text"
      ]
    },
    {
      "cell_type": "code",
      "execution_count": 47,
      "metadata": {
        "colab": {
          "base_uri": "https://localhost:8080/"
        },
        "id": "QxHwdED0SDhr",
        "outputId": "fa98a55b-3b29-49f3-8a29-ca8ca5d04251"
      },
      "outputs": [
        {
          "output_type": "execute_result",
          "data": {
            "text/plain": [
              "(1864482, 3169395)"
            ]
          },
          "metadata": {},
          "execution_count": 47
        }
      ],
      "source": [
        "model_emb = Word2Vec(min_count=1, window=5)\n",
        "model_emb.build_vocab(text)  \n",
        "model_emb.train(text, total_examples=model_emb.corpus_count, epochs=model_emb.epochs)"
      ]
    },
    {
      "cell_type": "code",
      "execution_count": 48,
      "metadata": {
        "id": "oLv3sRbEfdYs"
      },
      "outputs": [],
      "source": [
        "word_vectors = model_emb.wv"
      ]
    },
    {
      "cell_type": "code",
      "execution_count": 49,
      "metadata": {
        "colab": {
          "base_uri": "https://localhost:8080/"
        },
        "id": "ajM3chb5igdB",
        "outputId": "22cc7633-3a6c-433d-a54a-62938226e2be"
      },
      "outputs": [
        {
          "output_type": "stream",
          "name": "stdout",
          "text": [
            "100\n"
          ]
        }
      ],
      "source": [
        "print(len(word_vectors[0]))"
      ]
    },
    {
      "cell_type": "code",
      "execution_count": 50,
      "metadata": {
        "id": "ScWIsZ1ZgC44"
      },
      "outputs": [],
      "source": [
        "emb_dim = len(word_vectors[0])"
      ]
    },
    {
      "cell_type": "code",
      "execution_count": 51,
      "metadata": {
        "id": "32920NP6gSzk"
      },
      "outputs": [],
      "source": [
        "emb_mtx = np.zeros((words_amt, emb_dim))"
      ]
    },
    {
      "cell_type": "code",
      "execution_count": 52,
      "metadata": {
        "id": "4Td7DMc5PFvA"
      },
      "outputs": [],
      "source": [
        "for word, i in words_i.items():\n",
        "    if word in word_vectors:\n",
        "        emb_vec = word_vectors[word]\n",
        "        emb_mtx[i] = emb_vec\n",
        "    else:\n",
        "        emb_mtx[i] = np.random.normal(0,1,emb_dim)"
      ]
    },
    {
      "cell_type": "code",
      "execution_count": 53,
      "metadata": {
        "id": "DVaDlscuPWTO"
      },
      "outputs": [],
      "source": [
        "from keras.layers import Embedding\n",
        "from tensorflow import keras"
      ]
    },
    {
      "cell_type": "code",
      "execution_count": 54,
      "metadata": {
        "id": "PI8ZhAsMgWsl"
      },
      "outputs": [],
      "source": [
        "embedding_layer = Embedding(words_amt,\n",
        "                            emb_dim,\n",
        "                            embeddings_initializer=keras.initializers.Constant(emb_mtx),\n",
        "                            input_length=450,\n",
        "                            trainable=False)"
      ]
    },
    {
      "cell_type": "markdown",
      "metadata": {
        "id": "-Kq2tVQJFYkd"
      },
      "source": [
        "##word2vec-LSTM"
      ]
    },
    {
      "cell_type": "code",
      "execution_count": 58,
      "metadata": {
        "id": "Q8lF8BSM-72i"
      },
      "outputs": [],
      "source": [
        "tensorflow.keras.backend.clear_session()"
      ]
    },
    {
      "cell_type": "code",
      "execution_count": 59,
      "metadata": {
        "colab": {
          "base_uri": "https://localhost:8080/"
        },
        "id": "mpHuH-5mCMXr",
        "outputId": "c72b0276-e1ad-44df-e983-b624512c41c9"
      },
      "outputs": [
        {
          "output_type": "stream",
          "name": "stdout",
          "text": [
            "Model: \"sequential\"\n",
            "_________________________________________________________________\n",
            " Layer (type)                Output Shape              Param #   \n",
            "=================================================================\n",
            " embedding (Embedding)       (None, 450, 100)          4009300   \n",
            "                                                                 \n",
            " lstm (LSTM)                 (None, 450, 100)          80400     \n",
            "                                                                 \n",
            " dropout (Dropout)           (None, 450, 100)          0         \n",
            "                                                                 \n",
            " dense (Dense)               (None, 450, 76)           7676      \n",
            "                                                                 \n",
            "=================================================================\n",
            "Total params: 4,097,376\n",
            "Trainable params: 88,076\n",
            "Non-trainable params: 4,009,300\n",
            "_________________________________________________________________\n"
          ]
        }
      ],
      "source": [
        "model  = Sequential()\n",
        "model.add(embedding_layer)\n",
        "model.add(LSTM(100, return_sequences=True))\n",
        "model.add(Dropout(0.5))\n",
        "model.add(Dense(tags_amt, activation=\"softmax\"))\n",
        "model.summary()"
      ]
    },
    {
      "cell_type": "code",
      "execution_count": 71,
      "metadata": {
        "id": "sTB8exKWm86K"
      },
      "outputs": [],
      "source": [
        "model.compile(optimizer=\"adam\",loss=\"sparse_categorical_crossentropy\",metrics=[\"accuracy\"])"
      ]
    },
    {
      "cell_type": "code",
      "execution_count": 72,
      "metadata": {
        "colab": {
          "base_uri": "https://localhost:8080/",
          "height": 707
        },
        "id": "md2GzFO9nH-K",
        "outputId": "0306d9ac-47e8-48f7-e429-6f05f06aece9"
      },
      "outputs": [
        {
          "output_type": "display_data",
          "data": {
            "text/plain": [
              "<Figure size 864x576 with 2 Axes>"
            ],
            "image/png": "[encoded data removed]"
          },
          "metadata": {}
        },
        {
          "output_type": "stream",
          "name": "stdout",
          "text": [
            "accuracy\n",
            "\ttraining         \t (min:    0.910, max:    0.969, cur:    0.969)\n",
            "\tvalidation       \t (min:    0.906, max:    0.964, cur:    0.964)\n",
            "Loss\n",
            "\ttraining         \t (min:    0.120, max:    0.361, cur:    0.120)\n",
            "\tvalidation       \t (min:    0.147, max:    0.328, cur:    0.147)\n",
            "\b\b\b\b\b\b\b\b\b\b\b\b\b\b\b\b\b\b\b\b\b\b\b\b\b\b\b\b\b\b\b\b\b\b\b\b\b\b\b\b\b\b\b\b\b\b\b\b\b\b\b\b\b\b\b\b\b\b\b\b\b\b\b\b\b\b\b\b\b\b\b\b\b\b\b\b\b\b\b\b\b\b\b\b\r103/103 [==============================] - 3s 24ms/step - loss: 0.1203 - accuracy: 0.9687 - val_loss: 0.1474 - val_accuracy: 0.9639\n"
          ]
        }
      ],
      "source": [
        "history = model.fit(x_train,y_train,validation_data=(x_val,y_val),batch_size=30, epochs=15,callbacks=[PlotLossesCallback()])"
      ]
    },
    {
      "cell_type": "code",
      "execution_count": 73,
      "metadata": {
        "colab": {
          "base_uri": "https://localhost:8080/"
        },
        "id": "N5hZS5kFesW_",
        "outputId": "7f4cb1cd-0761-4917-a7fa-cc4b2fe96b30"
      },
      "outputs": [
        {
          "output_type": "stream",
          "name": "stdout",
          "text": [
            "13/13 [==============================] - 0s 23ms/step - loss: 0.1684 - accuracy: 0.9598\n"
          ]
        },
        {
          "output_type": "execute_result",
          "data": {
            "text/plain": [
              "[0.16836810111999512, 0.9598445892333984]"
            ]
          },
          "metadata": {},
          "execution_count": 73
        }
      ],
      "source": [
        "model.evaluate(x_test, y_test)"
      ]
    },
    {
      "cell_type": "markdown",
      "metadata": {
        "id": "9PfaLRaXUA_B"
      },
      "source": [
        "Avaliação do word2vec-LSTM"
      ]
    },
    {
      "cell_type": "code",
      "execution_count": 74,
      "metadata": {
        "id": "w3WSHGCyG-ug"
      },
      "outputs": [],
      "source": [
        "y_pred_m1 = model.predict(x_test, batch_size=30)"
      ]
    },
    {
      "cell_type": "code",
      "execution_count": 75,
      "metadata": {
        "id": "Rim7YL-kHKDA"
      },
      "outputs": [],
      "source": [
        "index_array = np.argmax(y_pred_m1, axis=-1)"
      ]
    },
    {
      "cell_type": "code",
      "execution_count": 76,
      "metadata": {
        "id": "DQ8gkf7VF7i3"
      },
      "outputs": [],
      "source": [
        "def convert_values(index_array,y_test):\n",
        "  pred_tags = []\n",
        "  real_tags = []\n",
        "\n",
        "  for act in index_array:\n",
        "    act_tags = []\n",
        "    for w in act:\n",
        "      act_tags.append(i_tags[w])\n",
        "    pred_tags.append(act_tags)\n",
        "\n",
        "  for ato in y_test:\n",
        "    tags_ato = []\n",
        "    for palavra in ato:\n",
        "      tags_ato.append(i_tags[palavra])\n",
        "    real_tags.append(tags_ato)\n",
        "\n",
        "  return real_tags, pred_tags"
      ]
    },
    {
      "cell_type": "code",
      "execution_count": 77,
      "metadata": {
        "colab": {
          "base_uri": "https://localhost:8080/"
        },
        "id": "TMmocjBPIz0f",
        "outputId": "6acba902-4d4b-465b-e55b-8819df4224b6"
      },
      "outputs": [
        {
          "output_type": "execute_result",
          "data": {
            "text/plain": [
              "0.60408042578356"
            ]
          },
          "metadata": {},
          "execution_count": 77
        }
      ],
      "source": [
        "real_tags, pred_tags = convert_values(index_array,y_test)\n",
        "f1_score(real_tags, pred_tags)"
      ]
    },
    {
      "cell_type": "code",
      "execution_count": 78,
      "metadata": {
        "colab": {
          "base_uri": "https://localhost:8080/"
        },
        "id": "nUseP00UJFK4",
        "outputId": "5132df61-4358-4ef2-d7c1-bbcea35fa070"
      },
      "outputs": [
        {
          "output_type": "stream",
          "name": "stderr",
          "text": [
            "/usr/local/lib/python3.7/dist-packages/seqeval/metrics/v1.py:57: UndefinedMetricWarning: Precision and F-score are ill-defined and being set to 0.0 in labels with no predicted samples. Use `zero_division` parameter to control this behavior.\n",
            "  _warn_prf(average, modifier, msg_start, len(result))\n"
          ]
        },
        {
          "output_type": "stream",
          "name": "stdout",
          "text": [
            "                                  precision    recall  f1-score   support\n",
            "\n",
            "        cnpj_entidade_contratada       1.00      0.32      0.49        34\n",
            "        cnpj_entidade_convenente       0.00      0.00      0.00         1\n",
            "          cnpj_orgao_contratante       0.00      0.00      0.00        12\n",
            "codigo_licitacao_sistema_compras       0.97      0.80      0.88        44\n",
            "                    codigo_siggo       0.00      0.00      0.00        34\n",
            "         data_abertura_licitacao       0.08      0.02      0.03        65\n",
            "        data_assinatura_contrato       0.90      0.72      0.80        86\n",
            "        data_assinatura_convenio       0.00      0.00      0.00         2\n",
            "                    data_escrito       0.84      0.53      0.65       154\n",
            "                    decisao_tcdf       0.00      0.00      0.00         1\n",
            "             entidade_contratada       0.30      0.36      0.33       161\n",
            "             entidade_convenente       0.00      0.00      0.00         4\n",
            "                   fonte_recurso       0.94      0.56      0.70       120\n",
            "        identificacao_ocorrencia       0.00      0.00      0.00         8\n",
            "            modalidade_licitacao       0.90      0.71      0.79        75\n",
            "                natureza_despesa       0.96      0.56      0.71        98\n",
            "                nome_responsavel       0.44      0.32      0.37       114\n",
            "                    nota_empenho       0.92      0.42      0.58       111\n",
            "                 numero_contrato       0.86      0.72      0.79       340\n",
            "                 numero_convenio       0.00      0.00      0.00         3\n",
            "                numero_licitacao       0.91      0.75      0.82        81\n",
            "            numero_termo_aditivo       0.59      0.63      0.61       151\n",
            "    objeto_aditamento_contratual       0.17      0.27      0.21       165\n",
            "                 objeto_contrato       0.42      0.66      0.51       152\n",
            "                 objeto_convenio       0.00      0.00      0.00         2\n",
            "                objeto_licitacao       0.18      0.23      0.20        91\n",
            "               orgao_contratante       0.55      0.58      0.56       393\n",
            "                 orgao_licitante       0.11      0.04      0.06        47\n",
            "                    processo_gdf       0.93      0.84      0.88       353\n",
            "               programa_trabalho       0.92      0.69      0.79       101\n",
            "                 sistema_compras       0.67      0.46      0.55        72\n",
            "                     tipo_objeto       0.00      0.00      0.00        19\n",
            "            unidade_orcamentaria       0.86      0.50      0.63        62\n",
            "                  valor_contrato       0.91      0.82      0.86       180\n",
            "                  valor_convenio       0.00      0.00      0.00         1\n",
            "      valor_estimado_contratacao       0.93      0.49      0.64        77\n",
            "               vigencia_contrato       0.64      0.74      0.69       171\n",
            "               vigencia_convenio       0.00      0.00      0.00         2\n",
            "\n",
            "                       micro avg       0.64      0.57      0.60      3587\n",
            "                       macro avg       0.47      0.36      0.40      3587\n",
            "                    weighted avg       0.67      0.57      0.60      3587\n",
            "\n"
          ]
        }
      ],
      "source": [
        "print(classification_report(real_tags, pred_tags))"
      ]
    },
    {
      "cell_type": "markdown",
      "metadata": {
        "id": "59wUjdLxMCkv"
      },
      "source": [
        "##CNN-LSTM"
      ]
    },
    {
      "cell_type": "code",
      "execution_count": 79,
      "metadata": {
        "colab": {
          "base_uri": "https://localhost:8080/"
        },
        "id": "vf_CzcGwMEiX",
        "outputId": "4afced28-0c88-4748-cdaa-ed77a3c58a7d"
      },
      "outputs": [
        {
          "output_type": "stream",
          "name": "stdout",
          "text": [
            "Model: \"sequential_1\"\n",
            "_________________________________________________________________\n",
            " Layer (type)                Output Shape              Param #   \n",
            "=================================================================\n",
            " embedding (Embedding)       (None, 450, 50)           2004700   \n",
            "                                                                 \n",
            " conv1d (Conv1D)             (None, 450, 76)           11476     \n",
            "                                                                 \n",
            " lstm_1 (LSTM)               (None, 450, 100)          70800     \n",
            "                                                                 \n",
            " dropout_1 (Dropout)         (None, 450, 100)          0         \n",
            "                                                                 \n",
            " dense_1 (Dense)             (None, 450, 76)           7676      \n",
            "                                                                 \n",
            "=================================================================\n",
            "Total params: 2,094,652\n",
            "Trainable params: 2,094,652\n",
            "Non-trainable params: 0\n",
            "_________________________________________________________________\n"
          ]
        }
      ],
      "source": [
        "model2 = Sequential()\n",
        "model2.add(Embedding(input_dim=words_amt+1, output_dim=50, input_length=450))\n",
        "model2.add(Conv1D(filters=tags_amt, kernel_size=3, padding='same', activation='relu'))\n",
        "model2.add(LSTM(100, return_sequences=True))\n",
        "model2.add(Dropout(0.5))\n",
        "model2.add(Dense(tags_amt, activation='sigmoid'))\n",
        "\n",
        "model2.summary()"
      ]
    },
    {
      "cell_type": "code",
      "execution_count": 80,
      "metadata": {
        "id": "CY5wOkieScLX"
      },
      "outputs": [],
      "source": [
        "model2.compile(optimizer=\"adam\",loss=\"sparse_categorical_crossentropy\",metrics=[\"accuracy\"])"
      ]
    },
    {
      "cell_type": "code",
      "execution_count": 81,
      "metadata": {
        "id": "VDSsHp5ZSjc9",
        "colab": {
          "base_uri": "https://localhost:8080/",
          "height": 707
        },
        "outputId": "14e6577f-c62c-4ff6-85dc-2b264823a183"
      },
      "outputs": [
        {
          "output_type": "display_data",
          "data": {
            "text/plain": [
              "<Figure size 864x576 with 2 Axes>"
            ],
            "image/png": "[encoded data removed]"
          },
          "metadata": {}
        },
        {
          "output_type": "stream",
          "name": "stdout",
          "text": [
            "accuracy\n",
            "\ttraining         \t (min:    0.815, max:    0.982, cur:    0.982)\n",
            "\tvalidation       \t (min:    0.848, max:    0.964, cur:    0.964)\n",
            "Loss\n",
            "\ttraining         \t (min:    0.076, max:    1.275, cur:    0.076)\n",
            "\tvalidation       \t (min:    0.174, max:    0.597, cur:    0.174)\n",
            "\b\b\b\b\b\b\b\b\b\b\b\b\b\b\b\b\b\b\b\b\b\b\b\b\b\b\b\b\b\b\b\b\b\b\b\b\b\b\b\b\b\b\b\b\b\b\b\b\b\b\b\b\b\b\b\b\b\b\b\b\b\b\b\b\b\b\b\b\b\b\b\b\b\b\b\b\b\b\b\b\b\b\b\b\r103/103 [==============================] - 3s 26ms/step - loss: 0.0757 - accuracy: 0.9825 - val_loss: 0.1743 - val_accuracy: 0.9644\n"
          ]
        }
      ],
      "source": [
        "history2 = model2.fit(x_train,y_train,validation_data=(x_val,y_val),batch_size=30, epochs=15, callbacks = [PlotLossesCallback()])"
      ]
    },
    {
      "cell_type": "markdown",
      "metadata": {
        "id": "Lv0-ida4WfvQ"
      },
      "source": [
        "Avaliação do CNN-LSTM"
      ]
    },
    {
      "cell_type": "code",
      "source": [
        "y_pred_m2 = model2.predict(x_test, batch_size=30)"
      ],
      "metadata": {
        "id": "C7FMR3nrDwam"
      },
      "execution_count": 82,
      "outputs": []
    },
    {
      "cell_type": "code",
      "source": [
        "index_array = np.argmax(y_pred_m2, axis=-1)"
      ],
      "metadata": {
        "id": "7v4eQXFvD19K"
      },
      "execution_count": 83,
      "outputs": []
    },
    {
      "cell_type": "code",
      "source": [
        "real_tags, pred_tags = convert_values(index_array,y_test)\n",
        "f1_score(real_tags, pred_tags)"
      ],
      "metadata": {
        "colab": {
          "base_uri": "https://localhost:8080/"
        },
        "id": "7kzh1ersEBa_",
        "outputId": "544df8e4-2cd6-42b2-81ba-4c892f8d100c"
      },
      "execution_count": 84,
      "outputs": [
        {
          "output_type": "execute_result",
          "data": {
            "text/plain": [
              "0.5612407595303667"
            ]
          },
          "metadata": {},
          "execution_count": 84
        }
      ]
    },
    {
      "cell_type": "code",
      "source": [
        "print(classification_report(real_tags, pred_tags))"
      ],
      "metadata": {
        "colab": {
          "base_uri": "https://localhost:8080/"
        },
        "id": "zRh9o7PTEV3G",
        "outputId": "c97e134f-34fb-484c-abef-74df95935029"
      },
      "execution_count": 85,
      "outputs": [
        {
          "output_type": "stream",
          "name": "stdout",
          "text": [
            "                                  precision    recall  f1-score   support\n",
            "\n",
            "        cnpj_entidade_contratada       1.00      0.15      0.26        34\n",
            "        cnpj_entidade_convenente       0.00      0.00      0.00         1\n",
            "          cnpj_orgao_contratante       0.00      0.00      0.00        12\n",
            "codigo_licitacao_sistema_compras       0.93      0.59      0.72        44\n",
            "                    codigo_siggo       0.00      0.00      0.00        34\n",
            "         data_abertura_licitacao       0.57      0.31      0.40        65\n",
            "        data_assinatura_contrato       0.83      0.47      0.60        86\n",
            "        data_assinatura_convenio       0.00      0.00      0.00         2\n",
            "                    data_escrito       0.79      0.41      0.54       154\n",
            "                    decisao_tcdf       0.00      0.00      0.00         1\n",
            "             entidade_contratada       0.23      0.25      0.24       161\n",
            "             entidade_convenente       0.00      0.00      0.00         4\n",
            "                   fonte_recurso       0.69      0.35      0.46       120\n",
            "        identificacao_ocorrencia       0.00      0.00      0.00         8\n",
            "            modalidade_licitacao       0.73      0.75      0.74        75\n",
            "                natureza_despesa       0.92      0.34      0.49        98\n",
            "                nome_responsavel       0.61      0.65      0.63       114\n",
            "                    nota_empenho       0.51      0.31      0.38       111\n",
            "                 numero_contrato       0.78      0.74      0.76       340\n",
            "                 numero_convenio       0.00      0.00      0.00         3\n",
            "                numero_licitacao       0.70      0.84      0.76        81\n",
            "            numero_termo_aditivo       0.84      0.77      0.80       151\n",
            "    objeto_aditamento_contratual       0.14      0.30      0.20       165\n",
            "                 objeto_contrato       0.34      0.54      0.42       152\n",
            "                 objeto_convenio       0.00      0.00      0.00         2\n",
            "                objeto_licitacao       0.12      0.19      0.15        91\n",
            "               orgao_contratante       0.67      0.76      0.71       393\n",
            "                 orgao_licitante       0.06      0.04      0.05        47\n",
            "                    processo_gdf       0.86      0.80      0.83       353\n",
            "               programa_trabalho       0.68      0.55      0.61       101\n",
            "                 sistema_compras       0.85      0.88      0.86        72\n",
            "                     tipo_objeto       0.00      0.00      0.00        19\n",
            "            unidade_orcamentaria       0.81      0.42      0.55        62\n",
            "                  valor_contrato       0.81      0.39      0.53       180\n",
            "                  valor_convenio       0.00      0.00      0.00         1\n",
            "      valor_estimado_contratacao       0.50      0.10      0.17        77\n",
            "               vigencia_contrato       0.56      0.65      0.60       171\n",
            "               vigencia_convenio       0.00      0.00      0.00         2\n",
            "\n",
            "                       micro avg       0.58      0.54      0.56      3587\n",
            "                       macro avg       0.44      0.33      0.35      3587\n",
            "                    weighted avg       0.63      0.54      0.56      3587\n",
            "\n"
          ]
        }
      ]
    },
    {
      "cell_type": "markdown",
      "metadata": {
        "id": "X8sFYepqWmUF"
      },
      "source": [
        "##CNN-BiLSTM"
      ]
    },
    {
      "cell_type": "code",
      "execution_count": 86,
      "metadata": {
        "colab": {
          "base_uri": "https://localhost:8080/"
        },
        "id": "WTP6foE4XJt7",
        "outputId": "fce28e59-f6fb-417a-db3c-e02f7215ff84"
      },
      "outputs": [
        {
          "output_type": "stream",
          "name": "stdout",
          "text": [
            "Model: \"sequential_2\"\n",
            "_________________________________________________________________\n",
            " Layer (type)                Output Shape              Param #   \n",
            "=================================================================\n",
            " embedding_1 (Embedding)     (None, 450, 50)           2004700   \n",
            "                                                                 \n",
            " conv1d_1 (Conv1D)           (None, 450, 76)           11476     \n",
            "                                                                 \n",
            " bidirectional (Bidirectiona  (None, 450, 200)         141600    \n",
            " l)                                                              \n",
            "                                                                 \n",
            " dropout_2 (Dropout)         (None, 450, 200)          0         \n",
            "                                                                 \n",
            " dense_2 (Dense)             (None, 450, 76)           15276     \n",
            "                                                                 \n",
            "=================================================================\n",
            "Total params: 2,173,052\n",
            "Trainable params: 2,173,052\n",
            "Non-trainable params: 0\n",
            "_________________________________________________________________\n"
          ]
        }
      ],
      "source": [
        "model3 = Sequential()\n",
        "model3.add(Embedding(input_dim=words_amt+1, output_dim=50, input_length=450))\n",
        "model3.add(Conv1D(filters=tags_amt, kernel_size=3, padding='same', activation='relu'))\n",
        "model3.add(Bidirectional(LSTM(100, return_sequences=True)))\n",
        "model3.add(Dropout(0.5))\n",
        "model3.add(Dense(tags_amt, activation='sigmoid'))\n",
        "\n",
        "model3.summary()"
      ]
    },
    {
      "cell_type": "code",
      "execution_count": 87,
      "metadata": {
        "id": "KetTYHgcXZHw"
      },
      "outputs": [],
      "source": [
        "model3.compile(optimizer=\"adam\",loss=\"sparse_categorical_crossentropy\",metrics=[\"accuracy\"])"
      ]
    },
    {
      "cell_type": "code",
      "execution_count": 88,
      "metadata": {
        "colab": {
          "base_uri": "https://localhost:8080/",
          "height": 707
        },
        "id": "bSEfJ1BPXfUG",
        "outputId": "02fc042b-d99b-4165-f1fe-cbf97130f31b"
      },
      "outputs": [
        {
          "output_type": "display_data",
          "data": {
            "text/plain": [
              "<Figure size 864x576 with 2 Axes>"
            ],
            "image/png": "[encoded data removed]"
          },
          "metadata": {}
        },
        {
          "output_type": "stream",
          "name": "stdout",
          "text": [
            "accuracy\n",
            "\ttraining         \t (min:    0.820, max:    0.990, cur:    0.990)\n",
            "\tvalidation       \t (min:    0.855, max:    0.966, cur:    0.966)\n",
            "Loss\n",
            "\ttraining         \t (min:    0.040, max:    1.123, cur:    0.040)\n",
            "\tvalidation       \t (min:    0.154, max:    0.547, cur:    0.154)\n",
            "\b\b\b\b\b\b\b\b\b\b\b\b\b\b\b\b\b\b\b\b\b\b\b\b\b\b\b\b\b\b\b\b\b\b\b\b\b\b\b\b\b\b\b\b\b\b\b\b\b\b\b\b\b\b\b\b\b\b\b\b\b\b\b\b\b\b\b\b\b\b\b\b\b\b\b\b\b\b\b\b\b\b\b\b\r103/103 [==============================] - 4s 43ms/step - loss: 0.0405 - accuracy: 0.9898 - val_loss: 0.1542 - val_accuracy: 0.9656\n"
          ]
        }
      ],
      "source": [
        "history3 = model3.fit(x_train,y_train,validation_data=(x_val,y_val),batch_size=30, epochs=15, callbacks=[PlotLossesCallback()])"
      ]
    },
    {
      "cell_type": "markdown",
      "source": [
        "Avaliação CNN-BiLSTM"
      ],
      "metadata": {
        "id": "EcesMndAGBP_"
      }
    },
    {
      "cell_type": "code",
      "source": [
        "y_pred_m3 = model3.predict(x_test, batch_size=30)"
      ],
      "metadata": {
        "id": "F4gdcnm0GKEn"
      },
      "execution_count": 89,
      "outputs": []
    },
    {
      "cell_type": "code",
      "source": [
        "index_array = np.argmax(y_pred_m3, axis=-1)"
      ],
      "metadata": {
        "id": "jkxkZKcUGO4W"
      },
      "execution_count": 90,
      "outputs": []
    },
    {
      "cell_type": "code",
      "source": [
        "real_tags, pred_tags = convert_values(index_array,y_test)\n",
        "f1_score(real_tags, pred_tags)"
      ],
      "metadata": {
        "colab": {
          "base_uri": "https://localhost:8080/"
        },
        "id": "Uq_vSLVlFtx5",
        "outputId": "be379949-5fb1-45b9-8508-1841237c6a53"
      },
      "execution_count": 91,
      "outputs": [
        {
          "output_type": "execute_result",
          "data": {
            "text/plain": [
              "0.6632709251101322"
            ]
          },
          "metadata": {},
          "execution_count": 91
        }
      ]
    },
    {
      "cell_type": "code",
      "source": [
        "print(classification_report(real_tags, pred_tags))"
      ],
      "metadata": {
        "colab": {
          "base_uri": "https://localhost:8080/"
        },
        "id": "1idefom0Gbfk",
        "outputId": "fcdbea1e-2b73-4344-deca-32bbd09387ee"
      },
      "execution_count": 92,
      "outputs": [
        {
          "output_type": "stream",
          "name": "stdout",
          "text": [
            "                                  precision    recall  f1-score   support\n",
            "\n",
            "        cnpj_entidade_contratada       0.90      0.53      0.67        34\n",
            "        cnpj_entidade_convenente       0.00      0.00      0.00         1\n",
            "          cnpj_orgao_contratante       0.00      0.00      0.00        12\n",
            "codigo_licitacao_sistema_compras       0.87      0.91      0.89        44\n",
            "                    codigo_siggo       0.62      0.15      0.24        34\n",
            "         data_abertura_licitacao       0.71      0.80      0.75        65\n",
            "        data_assinatura_contrato       0.72      0.67      0.69        86\n",
            "        data_assinatura_convenio       0.00      0.00      0.00         2\n",
            "                    data_escrito       0.72      0.66      0.68       154\n",
            "                    decisao_tcdf       0.00      0.00      0.00         1\n",
            "             entidade_contratada       0.31      0.34      0.32       161\n",
            "             entidade_convenente       0.00      0.00      0.00         4\n",
            "                   fonte_recurso       0.83      0.82      0.82       120\n",
            "        identificacao_ocorrencia       0.00      0.00      0.00         8\n",
            "            modalidade_licitacao       0.87      0.83      0.85        75\n",
            "                natureza_despesa       0.90      0.67      0.77        98\n",
            "                nome_responsavel       0.75      0.75      0.75       114\n",
            "                    nota_empenho       0.86      0.34      0.49       111\n",
            "                 numero_contrato       0.84      0.80      0.82       340\n",
            "                 numero_convenio       0.00      0.00      0.00         3\n",
            "                numero_licitacao       0.90      0.90      0.90        81\n",
            "            numero_termo_aditivo       0.77      0.75      0.76       151\n",
            "    objeto_aditamento_contratual       0.20      0.38      0.26       165\n",
            "                 objeto_contrato       0.37      0.60      0.46       152\n",
            "                 objeto_convenio       0.00      0.00      0.00         2\n",
            "                objeto_licitacao       0.16      0.24      0.19        91\n",
            "               orgao_contratante       0.68      0.77      0.72       393\n",
            "                 orgao_licitante       0.50      0.38      0.43        47\n",
            "                    processo_gdf       0.95      0.80      0.87       353\n",
            "               programa_trabalho       0.85      0.71      0.77       101\n",
            "                 sistema_compras       0.83      0.93      0.88        72\n",
            "                     tipo_objeto       0.00      0.00      0.00        19\n",
            "            unidade_orcamentaria       0.86      0.68      0.76        62\n",
            "                  valor_contrato       0.76      0.80      0.78       180\n",
            "                  valor_convenio       0.00      0.00      0.00         1\n",
            "      valor_estimado_contratacao       0.85      0.69      0.76        77\n",
            "               vigencia_contrato       0.55      0.68      0.61       171\n",
            "               vigencia_convenio       0.00      0.00      0.00         2\n",
            "\n",
            "                       micro avg       0.66      0.67      0.66      3587\n",
            "                       macro avg       0.50      0.46      0.47      3587\n",
            "                    weighted avg       0.69      0.67      0.67      3587\n",
            "\n"
          ]
        }
      ]
    }
  ],
  "metadata": {
    "accelerator": "GPU",
    "colab": {
      "collapsed_sections": [
        "IZUc_JMsxAEg",
        "AQcP0XRohsBT",
        "-Kq2tVQJFYkd",
        "59wUjdLxMCkv",
        "X8sFYepqWmUF",
        "pVZ9SamCSK1t"
      ],
      "provenance": []
    },
    "gpuClass": "standard",
    "kernelspec": {
      "display_name": "Python 3.10.0 64-bit",
      "language": "python",
      "name": "python3"
    },
    "language_info": {
      "codemirror_mode": {
        "name": "ipython",
        "version": 3
      },
      "file_extension": ".py",
      "mimetype": "text/x-python",
      "name": "python",
      "nbconvert_exporter": "python",
      "pygments_lexer": "ipython3",
      "version": "3.10.0"
    },
    "vscode": {
      "interpreter": {
        "hash": "369f2c481f4da34e4445cda3fffd2e751bd1c4d706f27375911949ba6bb62e1c"
      }
    }
  },
  "nbformat": 4,
  "nbformat_minor": 0
}