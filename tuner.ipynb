{
 "cells": [
  {
   "cell_type": "markdown",
   "metadata": {},
   "source": [
    "## Imports"
   ]
  },
  {
   "cell_type": "code",
   "execution_count": 7,
   "metadata": {},
   "outputs": [
    {
     "name": "stderr",
     "output_type": "stream",
     "text": [
      "[nltk_data] Downloading package punkt to /home/alilim/nltk_data...\n",
      "[nltk_data]   Package punkt is already up-to-date!\n"
     ]
    },
    {
     "name": "stdout",
     "output_type": "stream",
     "text": [
      "fatal: destination path 'tcdf_text_classification' already exists and is not an empty directory.\n",
      "Requirement already up-to-date: gensim in ./.local/lib/python3.8/site-packages (4.2.0)\n",
      "Requirement already satisfied, skipping upgrade: numpy>=1.17.0 in /usr/local/lib/python3.8/dist-packages (from gensim) (1.22.3)\n",
      "Requirement already satisfied, skipping upgrade: scipy>=0.18.1 in ./.local/lib/python3.8/site-packages (from gensim) (1.9.1)\n",
      "Requirement already satisfied, skipping upgrade: smart-open>=1.8.1 in ./.local/lib/python3.8/site-packages (from gensim) (6.2.0)\n",
      "Requirement already satisfied: livelossplot in ./.local/lib/python3.8/site-packages (0.5.5)\n",
      "Requirement already satisfied: matplotlib in ./.local/lib/python3.8/site-packages (from livelossplot) (3.6.0)\n",
      "Requirement already satisfied: bokeh in ./.local/lib/python3.8/site-packages (from livelossplot) (2.4.3)\n",
      "Requirement already satisfied: kiwisolver>=1.0.1 in ./.local/lib/python3.8/site-packages (from matplotlib->livelossplot) (1.4.4)\n",
      "Requirement already satisfied: cycler>=0.10 in ./.local/lib/python3.8/site-packages (from matplotlib->livelossplot) (0.11.0)\n",
      "Requirement already satisfied: contourpy>=1.0.1 in ./.local/lib/python3.8/site-packages (from matplotlib->livelossplot) (1.0.5)\n",
      "Requirement already satisfied: pillow>=6.2.0 in ./.local/lib/python3.8/site-packages (from matplotlib->livelossplot) (9.3.0)\n",
      "Requirement already satisfied: python-dateutil>=2.7 in /usr/local/lib/python3.8/dist-packages (from matplotlib->livelossplot) (2.8.2)\n",
      "Requirement already satisfied: numpy>=1.19 in /usr/local/lib/python3.8/dist-packages (from matplotlib->livelossplot) (1.22.3)\n",
      "Requirement already satisfied: fonttools>=4.22.0 in ./.local/lib/python3.8/site-packages (from matplotlib->livelossplot) (4.37.2)\n",
      "Requirement already satisfied: pyparsing>=2.2.1 in /usr/local/lib/python3.8/dist-packages (from matplotlib->livelossplot) (3.0.9)\n",
      "Requirement already satisfied: packaging>=20.0 in /usr/local/lib/python3.8/dist-packages (from matplotlib->livelossplot) (21.3)\n",
      "Requirement already satisfied: tornado>=5.1 in ./.local/lib/python3.8/site-packages (from bokeh->livelossplot) (6.2)\n",
      "Requirement already satisfied: PyYAML>=3.10 in /usr/lib/python3/dist-packages (from bokeh->livelossplot) (5.3.1)\n",
      "Requirement already satisfied: Jinja2>=2.9 in ./.local/lib/python3.8/site-packages (from bokeh->livelossplot) (3.0.1)\n",
      "Requirement already satisfied: typing-extensions>=3.10.0 in ./.local/lib/python3.8/site-packages (from bokeh->livelossplot) (4.3.0)\n",
      "Requirement already satisfied: six>=1.5 in /usr/lib/python3/dist-packages (from python-dateutil>=2.7->matplotlib->livelossplot) (1.14.0)\n",
      "Requirement already satisfied: MarkupSafe>=2.0 in ./.local/lib/python3.8/site-packages (from Jinja2>=2.9->bokeh->livelossplot) (2.1.1)\n",
      "Requirement already satisfied: seqeval in ./.local/lib/python3.8/site-packages (1.2.2)\n",
      "Requirement already satisfied: numpy>=1.14.0 in /usr/local/lib/python3.8/dist-packages (from seqeval) (1.22.3)\n",
      "Requirement already satisfied: scikit-learn>=0.21.3 in ./.local/lib/python3.8/site-packages (from seqeval) (0.22.2)\n",
      "Requirement already satisfied: scipy>=0.17.0 in ./.local/lib/python3.8/site-packages (from scikit-learn>=0.21.3->seqeval) (1.9.1)\n",
      "Requirement already satisfied: joblib>=0.11 in ./.local/lib/python3.8/site-packages (from scikit-learn>=0.21.3->seqeval) (1.2.0)\n",
      "Requirement already satisfied: plot_keras_history in ./.local/lib/python3.8/site-packages (1.1.37)\n",
      "Requirement already satisfied: scipy in ./.local/lib/python3.8/site-packages (from plot_keras_history) (1.9.1)\n",
      "Requirement already satisfied: support-developer>=1.0.2 in ./.local/lib/python3.8/site-packages (from plot_keras_history) (1.0.4)\n",
      "Requirement already satisfied: sanitize-ml-labels>=1.0.48 in ./.local/lib/python3.8/site-packages (from plot_keras_history) (1.0.49)\n",
      "Requirement already satisfied: matplotlib in ./.local/lib/python3.8/site-packages (from plot_keras_history) (3.6.0)\n",
      "Requirement already satisfied: pandas in /usr/local/lib/python3.8/dist-packages (from plot_keras_history) (1.4.3)\n",
      "Requirement already satisfied: numpy<1.25.0,>=1.18.5 in /usr/local/lib/python3.8/dist-packages (from scipy->plot_keras_history) (1.22.3)\n",
      "Requirement already satisfied: compress-json in ./.local/lib/python3.8/site-packages (from sanitize-ml-labels>=1.0.48->plot_keras_history) (1.0.8)\n",
      "Requirement already satisfied: pyparsing>=2.2.1 in /usr/local/lib/python3.8/dist-packages (from matplotlib->plot_keras_history) (3.0.9)\n",
      "Requirement already satisfied: cycler>=0.10 in ./.local/lib/python3.8/site-packages (from matplotlib->plot_keras_history) (0.11.0)\n",
      "Requirement already satisfied: fonttools>=4.22.0 in ./.local/lib/python3.8/site-packages (from matplotlib->plot_keras_history) (4.37.2)\n",
      "Requirement already satisfied: contourpy>=1.0.1 in ./.local/lib/python3.8/site-packages (from matplotlib->plot_keras_history) (1.0.5)\n",
      "Requirement already satisfied: packaging>=20.0 in /usr/local/lib/python3.8/dist-packages (from matplotlib->plot_keras_history) (21.3)\n",
      "Requirement already satisfied: kiwisolver>=1.0.1 in ./.local/lib/python3.8/site-packages (from matplotlib->plot_keras_history) (1.4.4)\n",
      "Requirement already satisfied: pillow>=6.2.0 in ./.local/lib/python3.8/site-packages (from matplotlib->plot_keras_history) (9.3.0)\n",
      "Requirement already satisfied: python-dateutil>=2.7 in /usr/local/lib/python3.8/dist-packages (from matplotlib->plot_keras_history) (2.8.2)\n",
      "Requirement already satisfied: pytz>=2020.1 in /usr/local/lib/python3.8/dist-packages (from pandas->plot_keras_history) (2022.1)\n",
      "Requirement already satisfied: six>=1.5 in /usr/lib/python3/dist-packages (from python-dateutil>=2.7->matplotlib->plot_keras_history) (1.14.0)\n",
      "Requirement already satisfied: tf2crf in ./.local/lib/python3.8/site-packages (0.1.33)\n",
      "Collecting tensorflow>=2.1.0\n",
      "  Using cached tensorflow-2.10.0-cp38-cp38-manylinux_2_17_x86_64.manylinux2014_x86_64.whl (578.1 MB)\n",
      "Requirement already satisfied: tensorflow-addons>=0.8.2 in ./.local/lib/python3.8/site-packages (from tf2crf) (0.18.0)\n",
      "Requirement already satisfied: flatbuffers>=2.0 in ./.local/lib/python3.8/site-packages (from tensorflow>=2.1.0->tf2crf) (2.0.7)\n",
      "Requirement already satisfied: google-pasta>=0.1.1 in ./.local/lib/python3.8/site-packages (from tensorflow>=2.1.0->tf2crf) (0.2.0)\n",
      "Requirement already satisfied: typing-extensions>=3.6.6 in ./.local/lib/python3.8/site-packages (from tensorflow>=2.1.0->tf2crf) (4.3.0)\n",
      "Requirement already satisfied: astunparse>=1.6.0 in ./.local/lib/python3.8/site-packages (from tensorflow>=2.1.0->tf2crf) (1.6.3)\n",
      "Requirement already satisfied: six>=1.12.0 in /usr/lib/python3/dist-packages (from tensorflow>=2.1.0->tf2crf) (1.14.0)\n",
      "Requirement already satisfied: grpcio<2.0,>=1.24.3 in ./.local/lib/python3.8/site-packages (from tensorflow>=2.1.0->tf2crf) (1.48.1)\n",
      "Requirement already satisfied: numpy>=1.20 in /usr/local/lib/python3.8/dist-packages (from tensorflow>=2.1.0->tf2crf) (1.22.3)\n",
      "Requirement already satisfied: protobuf<3.20,>=3.9.2 in ./.local/lib/python3.8/site-packages (from tensorflow>=2.1.0->tf2crf) (3.19.5)\n",
      "Requirement already satisfied: packaging in /usr/local/lib/python3.8/dist-packages (from tensorflow>=2.1.0->tf2crf) (21.3)\n",
      "Requirement already satisfied: termcolor>=1.1.0 in ./.local/lib/python3.8/site-packages (from tensorflow>=2.1.0->tf2crf) (2.0.1)\n",
      "Requirement already satisfied: tensorflow-estimator<2.11,>=2.10.0 in ./.local/lib/python3.8/site-packages (from tensorflow>=2.1.0->tf2crf) (2.10.0)\n",
      "Requirement already satisfied: gast<=0.4.0,>=0.2.1 in ./.local/lib/python3.8/site-packages (from tensorflow>=2.1.0->tf2crf) (0.4.0)\n",
      "Requirement already satisfied: opt-einsum>=2.3.2 in ./.local/lib/python3.8/site-packages (from tensorflow>=2.1.0->tf2crf) (3.3.0)\n",
      "Requirement already satisfied: keras-preprocessing>=1.1.1 in ./.local/lib/python3.8/site-packages (from tensorflow>=2.1.0->tf2crf) (1.1.2)\n",
      "Requirement already satisfied: keras<2.11,>=2.10.0 in ./.local/lib/python3.8/site-packages (from tensorflow>=2.1.0->tf2crf) (2.10.0)\n",
      "Requirement already satisfied: absl-py>=1.0.0 in ./.local/lib/python3.8/site-packages (from tensorflow>=2.1.0->tf2crf) (1.2.0)\n",
      "Requirement already satisfied: tensorboard<2.11,>=2.10 in ./.local/lib/python3.8/site-packages (from tensorflow>=2.1.0->tf2crf) (2.10.0)\n",
      "Requirement already satisfied: h5py>=2.9.0 in ./.local/lib/python3.8/site-packages (from tensorflow>=2.1.0->tf2crf) (3.7.0)\n",
      "Requirement already satisfied: setuptools in /usr/lib/python3/dist-packages (from tensorflow>=2.1.0->tf2crf) (45.2.0)\n",
      "Requirement already satisfied: tensorflow-io-gcs-filesystem>=0.23.1 in ./.local/lib/python3.8/site-packages (from tensorflow>=2.1.0->tf2crf) (0.27.0)\n",
      "Requirement already satisfied: wrapt>=1.11.0 in ./.local/lib/python3.8/site-packages (from tensorflow>=2.1.0->tf2crf) (1.14.1)\n",
      "Requirement already satisfied: libclang>=13.0.0 in ./.local/lib/python3.8/site-packages (from tensorflow>=2.1.0->tf2crf) (14.0.6)\n",
      "Requirement already satisfied: typeguard>=2.7 in ./.local/lib/python3.8/site-packages (from tensorflow-addons>=0.8.2->tf2crf) (2.13.3)\n",
      "Requirement already satisfied: wheel<1.0,>=0.23.0 in /usr/lib/python3/dist-packages (from astunparse>=1.6.0->tensorflow>=2.1.0->tf2crf) (0.34.2)\n",
      "Requirement already satisfied: pyparsing!=3.0.5,>=2.0.2 in /usr/local/lib/python3.8/dist-packages (from packaging->tensorflow>=2.1.0->tf2crf) (3.0.9)\n",
      "Requirement already satisfied: tensorboard-data-server<0.7.0,>=0.6.0 in ./.local/lib/python3.8/site-packages (from tensorboard<2.11,>=2.10->tensorflow>=2.1.0->tf2crf) (0.6.1)\n",
      "Requirement already satisfied: tensorboard-plugin-wit>=1.6.0 in ./.local/lib/python3.8/site-packages (from tensorboard<2.11,>=2.10->tensorflow>=2.1.0->tf2crf) (1.8.1)\n",
      "Requirement already satisfied: werkzeug>=1.0.1 in ./.local/lib/python3.8/site-packages (from tensorboard<2.11,>=2.10->tensorflow>=2.1.0->tf2crf) (2.2.2)\n",
      "Requirement already satisfied: markdown>=2.6.8 in ./.local/lib/python3.8/site-packages (from tensorboard<2.11,>=2.10->tensorflow>=2.1.0->tf2crf) (3.4.1)\n",
      "Requirement already satisfied: requests<3,>=2.21.0 in /usr/lib/python3/dist-packages (from tensorboard<2.11,>=2.10->tensorflow>=2.1.0->tf2crf) (2.22.0)\n",
      "Requirement already satisfied: google-auth-oauthlib<0.5,>=0.4.1 in ./.local/lib/python3.8/site-packages (from tensorboard<2.11,>=2.10->tensorflow>=2.1.0->tf2crf) (0.4.6)\n",
      "Requirement already satisfied: google-auth<3,>=1.6.3 in ./.local/lib/python3.8/site-packages (from tensorboard<2.11,>=2.10->tensorflow>=2.1.0->tf2crf) (2.11.1)\n",
      "Requirement already satisfied: MarkupSafe>=2.1.1 in ./.local/lib/python3.8/site-packages (from werkzeug>=1.0.1->tensorboard<2.11,>=2.10->tensorflow>=2.1.0->tf2crf) (2.1.1)\n",
      "Requirement already satisfied: importlib-metadata>=4.4; python_version < \"3.10\" in ./.local/lib/python3.8/site-packages (from markdown>=2.6.8->tensorboard<2.11,>=2.10->tensorflow>=2.1.0->tf2crf) (4.12.0)\n",
      "Requirement already satisfied: requests-oauthlib>=0.7.0 in ./.local/lib/python3.8/site-packages (from google-auth-oauthlib<0.5,>=0.4.1->tensorboard<2.11,>=2.10->tensorflow>=2.1.0->tf2crf) (1.3.1)\n",
      "Requirement already satisfied: rsa<5,>=3.1.4; python_version >= \"3.6\" in ./.local/lib/python3.8/site-packages (from google-auth<3,>=1.6.3->tensorboard<2.11,>=2.10->tensorflow>=2.1.0->tf2crf) (4.9)\n",
      "Requirement already satisfied: pyasn1-modules>=0.2.1 in ./.local/lib/python3.8/site-packages (from google-auth<3,>=1.6.3->tensorboard<2.11,>=2.10->tensorflow>=2.1.0->tf2crf) (0.2.8)\n",
      "Requirement already satisfied: cachetools<6.0,>=2.0.0 in ./.local/lib/python3.8/site-packages (from google-auth<3,>=1.6.3->tensorboard<2.11,>=2.10->tensorflow>=2.1.0->tf2crf) (5.2.0)\n",
      "Requirement already satisfied: zipp>=0.5 in /usr/lib/python3/dist-packages (from importlib-metadata>=4.4; python_version < \"3.10\"->markdown>=2.6.8->tensorboard<2.11,>=2.10->tensorflow>=2.1.0->tf2crf) (1.0.0)\n",
      "Requirement already satisfied: oauthlib>=3.0.0 in /usr/lib/python3/dist-packages (from requests-oauthlib>=0.7.0->google-auth-oauthlib<0.5,>=0.4.1->tensorboard<2.11,>=2.10->tensorflow>=2.1.0->tf2crf) (3.1.0)\n",
      "Requirement already satisfied: pyasn1>=0.1.3 in ./.local/lib/python3.8/site-packages (from rsa<5,>=3.1.4; python_version >= \"3.6\"->google-auth<3,>=1.6.3->tensorboard<2.11,>=2.10->tensorflow>=2.1.0->tf2crf) (0.4.8)\n",
      "Installing collected packages: tensorflow\n",
      "Successfully installed tensorflow-2.10.0\n"
     ]
    }
   ],
   "source": [
    "## Imports\n",
    "import pandas as pd\n",
    "\n",
    "from sklearn.preprocessing import LabelEncoder\n",
    "from sklearn.model_selection import train_test_split\n",
    "\n",
    "import nltk\n",
    "nltk.download('punkt')\n",
    "from nltk.tokenize import word_tokenize\n",
    "\n",
    "%matplotlib inline\n",
    "import matplotlib.pyplot as plt\n",
    "import numpy as np\n",
    "np.random.seed(0)\n",
    "plt.style.use(\"ggplot\")\n",
    "\n",
    "import tensorflow as tf\n",
    "from tensorflow.keras.preprocessing.sequence import pad_sequences\n",
    "\n",
    "from gensim.models import Word2Vec\n",
    "\n",
    "from keras.models import Sequential\n",
    "from tensorflow.keras import Model, Input\n",
    "from tensorflow.keras.layers import LSTM, Dense, Dropout, Conv1D, MaxPooling1D, Embedding, TimeDistributed, Bidirectional,GlobalMaxPooling1D\n",
    "\n",
    "\n",
    "!git clone -s https://github.com/mstauffer/tcdf_text_classification.git\n",
    "from tcdf_text_classification.iob_transformer import iob_transformer\n",
    "\n",
    "!pip install -U gensim\n",
    "from gensim.models import Word2Vec\n",
    "\n",
    "!pip install livelossplot\n",
    "from livelossplot.tf_keras import PlotLossesCallback\n",
    "\n",
    "!pip install seqeval\n",
    "from seqeval.metrics import f1_score, classification_report, precision_score, recall_score, accuracy_score\n",
    "! pip install plot_keras_history\n",
    "from plot_keras_history import plot_history\n",
    "!pip install tf2crf\n",
    "from tf2crf import CRF, ModelWithCRFLoss, ModelWithCRFLossDSCLoss\n",
    "from keras.optimizers import Adam\n",
    "\n",
    "from sklearn.model_selection import KFold\n",
    "\n",
    "from tensorflow.keras.callbacks import ModelCheckpoint, EarlyStopping"
   ]
  },
  {
   "cell_type": "code",
   "execution_count": 3,
   "metadata": {},
   "outputs": [
    {
     "name": "stderr",
     "output_type": "stream",
     "text": [
      "2022-11-14 11:12:46.684987: I tensorflow/core/platform/cpu_feature_guard.cc:193] This TensorFlow binary is optimized with oneAPI Deep Neural Network Library (oneDNN) to use the following CPU instructions in performance-critical operations:  AVX2 AVX512F AVX512_VNNI FMA\n",
      "To enable them in other operations, rebuild TensorFlow with the appropriate compiler flags.\n",
      "2022-11-14 11:12:47.134816: I tensorflow/core/util/util.cc:169] oneDNN custom operations are on. You may see slightly different numerical results due to floating-point round-off errors from different computation orders. To turn them off, set the environment variable `TF_ENABLE_ONEDNN_OPTS=0`.\n",
      "2022-11-14 11:12:47.266946: E tensorflow/stream_executor/cuda/cuda_blas.cc:2981] Unable to register cuBLAS factory: Attempting to register factory for plugin cuBLAS when one has already been registered\n",
      "2022-11-14 11:12:48.746209: W tensorflow/stream_executor/platform/default/dso_loader.cc:64] Could not load dynamic library 'libnvinfer.so.7'; dlerror: libnvinfer.so.7: cannot open shared object file: No such file or directory\n",
      "2022-11-14 11:12:48.746326: W tensorflow/stream_executor/platform/default/dso_loader.cc:64] Could not load dynamic library 'libnvinfer_plugin.so.7'; dlerror: libnvinfer_plugin.so.7: cannot open shared object file: No such file or directory\n",
      "2022-11-14 11:12:48.746337: W tensorflow/compiler/tf2tensorrt/utils/py_utils.cc:38] TF-TRT Warning: Cannot dlopen some TensorRT libraries. If you would like to use Nvidia GPU with TensorRT, please make sure the missing libraries mentioned above are installed properly.\n"
     ]
    }
   ],
   "source": [
    "import keras_tuner as kt\n",
    "from keras_tuner.tuners import Hyperband"
   ]
  },
  {
   "cell_type": "markdown",
   "metadata": {},
   "source": [
    "## Dados"
   ]
  },
  {
   "cell_type": "code",
   "execution_count": 4,
   "metadata": {},
   "outputs": [],
   "source": [
    "import pandas as pd\n",
    "\n",
    "df = pd.read_csv('DODFCorpus_contratos_licitacoes_v2.csv')\n",
    "\n",
    "df = df.drop(['Unnamed: 0','Unnamed: 0.1'], axis =1)\n",
    "\n",
    "df['texto'] = df['texto'].str.replace(r'([A-Za-z]:)[0-9]', r'\\1 ', regex=True)"
   ]
  },
  {
   "cell_type": "code",
   "execution_count": 5,
   "metadata": {},
   "outputs": [],
   "source": [
    "data = df.query(\"tipo_rel == 'REL_EXTRATO_CONVENIO'\")"
   ]
  },
  {
   "cell_type": "code",
   "execution_count": 8,
   "metadata": {},
   "outputs": [],
   "source": [
    "# Extração dos IOBs\n",
    "def split_data(dset):\n",
    "  iob_v = iob_transformer('id_ato', 'texto', 'tipo_ent', keep_punctuation=True, return_df=False)\n",
    "\n",
    "  acts, labels = iob_v.transform(dset)\n",
    "\n",
    "  x_train, x_test, y_train, y_test = train_test_split(acts,labels, train_size=0.8, random_state=1)\n",
    "\n",
    "  x_test, x_val, y_test, y_val = train_test_split(x_test,y_test, train_size=0.5, random_state=1)\n",
    "\n",
    "  return x_train, y_train, x_test, y_test, x_val, y_val\n",
    "\n",
    "train_acts = []\n",
    "train_labels = []\n",
    "\n",
    "test_acts = []\n",
    "test_labels = []\n",
    "\n",
    "val_acts = []\n",
    "val_labels = []\n",
    "\n",
    "aux = data.tipo_rel.unique()\n",
    "\n",
    "for d in aux:\n",
    "  q = \"tipo_rel == \" + \"'\" + str(d) + \"'\"\n",
    "  tr_acts, tr_labels, te_acts, te_labels, v_acts, v_labels = split_data(data.query(q))\n",
    "\n",
    "  train_acts.extend(tr_acts)\n",
    "  train_labels.extend(tr_labels)\n",
    "\n",
    "  test_acts.extend(te_acts)\n",
    "  test_labels.extend(te_labels)\n",
    "\n",
    "  val_acts.extend(v_acts)\n",
    "  val_labels.extend(v_labels)\n",
    "\n",
    "\n",
    "def remove_wrong_tags(label_list):\n",
    "  for label in label_list:\n",
    "    for idx,w in enumerate(label):\n",
    "      if w in ['B-11','B-12','B-50']:\n",
    "        label[idx] = 'O'\n",
    "\n",
    "remove_wrong_tags(train_labels)\n",
    "remove_wrong_tags(test_labels)\n",
    "remove_wrong_tags(val_labels)\n",
    "\n",
    "iob = iob_transformer('id_ato', 'texto', 'tipo_ent', keep_punctuation=True, return_df=False)\n",
    "iob_data = iob_transformer('id_ato', 'texto', 'tipo_ent', keep_punctuation=True, return_df=True)\n",
    "acts, labels = iob.transform(data)\n",
    "\n",
    "remove_wrong_tags(labels)\n",
    "\n",
    "df_iob = iob_data.transform(data)\n",
    "\n",
    "df_iob\n",
    "df_iob.loc[df_iob.Word == 'B-11','Tag']='O'\n",
    "df_iob.loc[df_iob.Word == 'B-12','Tag']='O'\n",
    "df_iob.loc[df_iob.Word == 'B-50','Tag']='O'\n",
    "#salvando todas as palavras do corpus sem repetição\n",
    "words = set()\n",
    "\n",
    "for act in acts:\n",
    "    for word in act:\n",
    "        words.add(word)\n",
    "#convertendo o set em uma lista\n",
    "words = list(words)\n",
    "\n",
    "words.append(\"ENDPAD\")\n",
    "words.append(\"UNK\")\n",
    "\n",
    "words_amt = len(words)\n",
    "tags = set()\n",
    "\n",
    "for label in labels:\n",
    "    for tag in label:\n",
    "        tags.add(tag)\n",
    "tags = list(tags)\n",
    "tags_amt = len(tags)\n"
   ]
  },
  {
   "cell_type": "code",
   "execution_count": 9,
   "metadata": {},
   "outputs": [
    {
     "data": {
      "image/png": "[encoded data removed]",
      "text/plain": [
       "<Figure size 640x480 with 1 Axes>"
      ]
     },
     "metadata": {},
     "output_type": "display_data"
    }
   ],
   "source": [
    "# Transformando os valores dos dados (representação inteira)\n",
    "vocab = {}\n",
    "\n",
    "for i in range(0,len(acts)):\n",
    "    for word in acts[i]:\n",
    "        if word.lower() not in vocab:\n",
    "            vocab[word.lower()] = 1\n",
    "        else:\n",
    "            vocab[word.lower()]+=1\n",
    "#dicionario das palavras com seu respectivo valor inteiro\n",
    "lab_enc = LabelEncoder()\n",
    "\n",
    "lab_enc.fit(words)\n",
    "words_i = dict(zip(lab_enc.classes_, lab_enc.transform(lab_enc.classes_)))\n",
    "\n",
    "i_words = {}\n",
    "\n",
    "for key in words_i:\n",
    "  i_words[words_i[key]] = key\n",
    "\n",
    "#i_words\n",
    "lab_enc = LabelEncoder()\n",
    "\n",
    "lab_enc.fit(tags)\n",
    "tags_i = dict(zip(lab_enc.classes_, lab_enc.transform(lab_enc.classes_)))\n",
    "\n",
    "\n",
    "i_tags = {}\n",
    "\n",
    "for key in tags_i:\n",
    "  i_tags[tags_i[key]] = key\n",
    "\n",
    "i_tags\n",
    "#Padding\n",
    "plt.hist([len(ato) for ato in acts], bins=50)\n",
    "\n",
    "plt.xlabel(\"Number of words\")\n",
    "plt.ylabel(\"Number of acts\")\n",
    "plt.title(\"Amount of acts per text size\")\n",
    "plt.show()\n",
    "def transform_data(x,y):\n",
    "  X,Y = [],[]\n",
    "\n",
    "  for act in x:\n",
    "    aux = []\n",
    "    for word in act:\n",
    "      aux.append(words_i[word])\n",
    "    X.append(aux)\n",
    "\n",
    "  for label in y:\n",
    "    aux = []\n",
    "    for word in label:\n",
    "      aux.append(tags_i[word])\n",
    "    Y.append(aux)\n",
    "\n",
    "  return X,Y\n",
    "x_train,y_train = transform_data(train_acts,train_labels)\n",
    "\n",
    "x_test, y_test = transform_data(test_acts,test_labels)\n",
    "\n",
    "x_val, y_val = transform_data(val_acts,val_labels)\n",
    "\n",
    "x_train = pad_sequences(maxlen=400, sequences=x_train, padding=\"post\", value=words_i['ENDPAD'])\n",
    "x_test = pad_sequences(maxlen=400, sequences=x_test, padding=\"post\", value=words_i['ENDPAD'])\n",
    "x_val = pad_sequences(maxlen=400, sequences=x_val, padding=\"post\", value=words_i['ENDPAD'])\n",
    "\n",
    "y_train = pad_sequences(maxlen=400, sequences=y_train, padding=\"post\", value=tags_i[\"O\"])\n",
    "y_test = pad_sequences(maxlen=400, sequences=y_test, padding=\"post\", value=tags_i[\"O\"])\n",
    "y_val = pad_sequences(maxlen=400, sequences=y_val, padding=\"post\", value=tags_i[\"O\"])"
   ]
  },
  {
   "cell_type": "code",
   "execution_count": 10,
   "metadata": {},
   "outputs": [],
   "source": [
    "from tensorflow.keras.models import load_model"
   ]
  },
  {
   "cell_type": "markdown",
   "metadata": {},
   "source": [
    "## Keras HP Tuner"
   ]
  },
  {
   "cell_type": "code",
   "execution_count": 11,
   "metadata": {},
   "outputs": [],
   "source": [
    "def convert_values(index_array,y_test):\n",
    "  pred_tags = []\n",
    "  real_tags = []\n",
    "\n",
    "  for act in index_array:\n",
    "    act_tags = []\n",
    "    for w in act:\n",
    "      act_tags.append(i_tags[w])\n",
    "    pred_tags.append(act_tags)\n",
    "\n",
    "  for ato in y_test:\n",
    "    tags_ato = []\n",
    "    for palavra in ato:\n",
    "      tags_ato.append(i_tags[palavra])\n",
    "    real_tags.append(tags_ato)\n",
    "\n",
    "  return real_tags, pred_tags"
   ]
  },
  {
   "cell_type": "code",
   "execution_count": 15,
   "metadata": {},
   "outputs": [],
   "source": [
    "def build_model(tuner):\n",
    "\n",
    "  ptm =load_model('models/contratos/lstm_f5.h5')\n",
    "\n",
    "  model = Sequential()\n",
    "\n",
    "  for layer in ptm.layers:\n",
    "      layer.trainable = False\n",
    "\n",
    "  model.add(ptm)\n",
    "\n",
    "  model.add(LSTM(100, return_sequences=True))\n",
    "  model.add(Dropout(0.5))\n",
    "  lr = tuner.Choice(\"learning_rate\", values=[0.0001, 0.001, 0.01, 0.1, 0.009, 0.0095, 0.0000001])\n",
    "\n",
    "  adam = Adam(learning_rate=lr)\n",
    "\n",
    "  model.compile(optimizer=adam, loss=\"sparse_categorical_crossentropy\", metrics=[\"accuracy\"])\n",
    "\n",
    "  return model"
   ]
  },
  {
   "cell_type": "code",
   "execution_count": 13,
   "metadata": {},
   "outputs": [],
   "source": [
    "early_stopping = EarlyStopping(monitor='accuracy', min_delta=0, patience=5, verbose=0, mode='max', baseline=None, restore_best_weights=False)"
   ]
  },
  {
   "cell_type": "code",
   "execution_count": 20,
   "metadata": {},
   "outputs": [
    {
     "name": "stdout",
     "output_type": "stream",
     "text": [
      "Instantiating a random search tuner object...\n",
      "INFO:tensorflow:Reloading Oracle from existing project ./untitled_project/oracle.json\n",
      "INFO:tensorflow:Reloading Tuner from ./untitled_project/tuner0.json\n"
     ]
    }
   ],
   "source": [
    "print(\"Instantiating a random search tuner object...\")\n",
    "tuner = kt.Hyperband(build_model, objective=\"val_accuracy\", max_epochs=30, factor=3, seed=42)"
   ]
  },
  {
   "cell_type": "code",
   "execution_count": 21,
   "metadata": {},
   "outputs": [
    {
     "name": "stdout",
     "output_type": "stream",
     "text": [
      "INFO:tensorflow:Oracle triggered exit\n"
     ]
    }
   ],
   "source": [
    "tuner.search(x_train, y_train, validation_data=(x_val, y_val), batch_size=15, callbacks=[early_stopping], epochs=20)"
   ]
  },
  {
   "cell_type": "code",
   "execution_count": 22,
   "metadata": {},
   "outputs": [],
   "source": [
    "bestHP = tuner.get_best_hyperparameters(num_trials=1)[0]"
   ]
  },
  {
   "cell_type": "code",
   "execution_count": 23,
   "metadata": {},
   "outputs": [
    {
     "data": {
      "text/plain": [
       "0.1"
      ]
     },
     "execution_count": 23,
     "metadata": {},
     "output_type": "execute_result"
    }
   ],
   "source": [
    "bestHP.get(\"learning_rate\")"
   ]
  },
  {
   "cell_type": "markdown",
   "metadata": {},
   "source": [
    "## Transfer learning (LSTM)"
   ]
  },
  {
   "cell_type": "code",
   "execution_count": 21,
   "metadata": {},
   "outputs": [],
   "source": [
    "import keras"
   ]
  },
  {
   "cell_type": "code",
   "execution_count": 175,
   "metadata": {},
   "outputs": [],
   "source": [
    "tf.keras.backend.clear_session()"
   ]
  },
  {
   "cell_type": "code",
   "execution_count": 165,
   "metadata": {},
   "outputs": [],
   "source": [
    "tf.config.run_functions_eagerly(True)"
   ]
  },
  {
   "cell_type": "code",
   "execution_count": 180,
   "metadata": {},
   "outputs": [],
   "source": [
    "ptm =load_model('/home/alilim/models/lstm_f3.h5')\n",
    "\n",
    "for layer in ptm.layers:\n",
    "  layer.trainable = False \n",
    "\n",
    "model = Sequential()\n",
    "\n",
    "for layer in ptm.layers[:-1]:\n",
    "  model.add(layer)\n",
    "\n",
    "model.add(LSTM(25, return_sequences=True))\n",
    "model.add(Dropout(0.7))\n",
    "model.add(Dense(tags_amt, activation=\"softmax\"))"
   ]
  },
  {
   "cell_type": "code",
   "execution_count": 181,
   "metadata": {},
   "outputs": [],
   "source": [
    "def get_f1(y_true, y_pred): #taken from old keras source code\n",
    "    \n",
    "    y_pred = np.argmax(y_pred, axis=-1)\n",
    "    real_tags,pred_tags=convert_values(y_pred,y_true.numpy())\n",
    "\n",
    "    f1 = f1_score(real_tags,pred_tags)\n",
    "\n",
    "    return f1"
   ]
  },
  {
   "cell_type": "code",
   "execution_count": 213,
   "metadata": {},
   "outputs": [],
   "source": [
    "adam = Adam(learning_rate = 0.00001)\n",
    "\n",
    "model.compile(optimizer=adam, loss=\"sparse_categorical_crossentropy\", metrics=[\"accuracy\"])"
   ]
  },
  {
   "cell_type": "code",
   "execution_count": 214,
   "metadata": {},
   "outputs": [],
   "source": [
    "early_stopping = EarlyStopping(monitor='accuracy', min_delta=0, patience=5, verbose=0, mode='max', baseline=None, restore_best_weights=False)"
   ]
  },
  {
   "cell_type": "code",
   "execution_count": 216,
   "metadata": {},
   "outputs": [
    {
     "name": "stdout",
     "output_type": "stream",
     "text": [
      "Epoch 1/15\n",
      "3/3 [==============================] - 12s 4s/step - loss: 0.7556 - accuracy: 0.8012 - val_loss: 0.7084 - val_accuracy: 0.7925\n",
      "Epoch 2/15\n",
      "3/3 [==============================] - 12s 4s/step - loss: 0.7516 - accuracy: 0.8120 - val_loss: 0.7084 - val_accuracy: 0.7925\n",
      "Epoch 3/15\n",
      "3/3 [==============================] - 12s 4s/step - loss: 0.7555 - accuracy: 0.8059 - val_loss: 0.7084 - val_accuracy: 0.7925\n",
      "Epoch 4/15\n",
      "3/3 [==============================] - 14s 5s/step - loss: 0.7439 - accuracy: 0.8131 - val_loss: 0.7084 - val_accuracy: 0.7925\n",
      "Epoch 5/15\n",
      "3/3 [==============================] - 14s 5s/step - loss: 0.7516 - accuracy: 0.8069 - val_loss: 0.7085 - val_accuracy: 0.7925\n",
      "Epoch 6/15\n",
      "3/3 [==============================] - 13s 4s/step - loss: 0.7493 - accuracy: 0.8076 - val_loss: 0.7085 - val_accuracy: 0.7925\n",
      "Epoch 7/15\n",
      "3/3 [==============================] - 13s 5s/step - loss: 0.7453 - accuracy: 0.8131 - val_loss: 0.7085 - val_accuracy: 0.7931\n",
      "Epoch 8/15\n",
      "3/3 [==============================] - 13s 4s/step - loss: 0.7562 - accuracy: 0.8053 - val_loss: 0.7085 - val_accuracy: 0.7931\n",
      "Epoch 9/15\n",
      "3/3 [==============================] - 14s 5s/step - loss: 0.7566 - accuracy: 0.8039 - val_loss: 0.7085 - val_accuracy: 0.7931\n"
     ]
    }
   ],
   "source": [
    "history = model.fit(x_train, y_train, validation_data=(x_val, y_val), batch_size=9, callbacks=[early_stopping], epochs=15)"
   ]
  },
  {
   "cell_type": "code",
   "execution_count": 217,
   "metadata": {},
   "outputs": [
    {
     "name": "stdout",
     "output_type": "stream",
     "text": [
      "1/1 [==============================] - 2s 2s/step\n"
     ]
    }
   ],
   "source": [
    "pred = model.predict(x_test)"
   ]
  },
  {
   "cell_type": "code",
   "execution_count": 218,
   "metadata": {},
   "outputs": [],
   "source": [
    "pred = np.argmax(pred, axis=-1)"
   ]
  },
  {
   "cell_type": "code",
   "execution_count": 219,
   "metadata": {},
   "outputs": [],
   "source": [
    "real_tags, pred_tags = convert_values(pred,y_test)"
   ]
  },
  {
   "cell_type": "code",
   "execution_count": 220,
   "metadata": {},
   "outputs": [
    {
     "data": {
      "text/plain": [
       "0.0"
      ]
     },
     "execution_count": 220,
     "metadata": {},
     "output_type": "execute_result"
    }
   ],
   "source": [
    "f1_score(real_tags,pred_tags)"
   ]
  },
  {
   "cell_type": "code",
   "execution_count": 100,
   "metadata": {},
   "outputs": [
    {
     "data": {
      "image/png": "[encoded data removed]",
      "text/plain": [
       "<Figure size 640x480 with 1 Axes>"
      ]
     },
     "metadata": {},
     "output_type": "display_data"
    }
   ],
   "source": [
    "plt.plot(history.history['accuracy'])\n",
    "plt.plot(history.history['val_accuracy'])\n",
    "plt.title('model accuracy')\n",
    "plt.ylabel('accuracy')\n",
    "plt.xlabel('epoch')\n",
    "plt.legend(['training set','validation set'], loc='upper left')\n",
    "plt.show()"
   ]
  },
  {
   "cell_type": "markdown",
   "metadata": {},
   "source": [
    "## Retreinamento do modelo de contratos (LSTM)"
   ]
  },
  {
   "cell_type": "code",
   "execution_count": 8,
   "metadata": {},
   "outputs": [],
   "source": [
    "import keras\n",
    "tf.keras.backend.clear_session()\n"
   ]
  },
  {
   "cell_type": "code",
   "execution_count": 9,
   "metadata": {},
   "outputs": [
    {
     "name": "stderr",
     "output_type": "stream",
     "text": [
      "2022-11-12 16:29:39.300148: E tensorflow/stream_executor/cuda/cuda_driver.cc:265] failed call to cuInit: CUDA_ERROR_NO_DEVICE: no CUDA-capable device is detected\n",
      "2022-11-12 16:29:39.300277: I tensorflow/stream_executor/cuda/cuda_diagnostics.cc:156] kernel driver does not appear to be running on this host (thorin): /proc/driver/nvidia/version does not exist\n",
      "2022-11-12 16:29:39.301383: I tensorflow/core/platform/cpu_feature_guard.cc:193] This TensorFlow binary is optimized with oneAPI Deep Neural Network Library (oneDNN) to use the following CPU instructions in performance-critical operations:  AVX2 AVX512F AVX512_VNNI FMA\n",
      "To enable them in other operations, rebuild TensorFlow with the appropriate compiler flags.\n"
     ]
    }
   ],
   "source": [
    "ptm =load_model('/home/alilim/models/lstm_f3.h5')"
   ]
  },
  {
   "cell_type": "code",
   "execution_count": 10,
   "metadata": {},
   "outputs": [
    {
     "name": "stdout",
     "output_type": "stream",
     "text": [
      "Model: \"sequential_3\"\n",
      "_________________________________________________________________\n",
      " Layer (type)                Output Shape              Param #   \n",
      "=================================================================\n",
      " embedding_1 (Embedding)     (None, 400, 100)          2426700   \n",
      "                                                                 \n",
      " lstm_3 (LSTM)               (None, 400, 100)          80400     \n",
      "                                                                 \n",
      " dropout_3 (Dropout)         (None, 400, 100)          0         \n",
      "                                                                 \n",
      " dense_3 (Dense)             (None, 400, 35)           3535      \n",
      "                                                                 \n",
      "=================================================================\n",
      "Total params: 2,510,635\n",
      "Trainable params: 83,935\n",
      "Non-trainable params: 2,426,700\n",
      "_________________________________________________________________\n"
     ]
    }
   ],
   "source": [
    "ptm.summary()"
   ]
  },
  {
   "cell_type": "code",
   "execution_count": 12,
   "metadata": {},
   "outputs": [
    {
     "name": "stdout",
     "output_type": "stream",
     "text": [
      "Epoch 1/45\n",
      "1/1 [==============================] - 5s 5s/step - loss: 14.1715 - accuracy: 6.0000e-04 - val_loss: 6.5728 - val_accuracy: 0.0019\n",
      "Epoch 2/45\n",
      "1/1 [==============================] - 0s 459ms/step - loss: 6.9758 - accuracy: 0.0012 - val_loss: 3.7566 - val_accuracy: 0.0025\n",
      "Epoch 3/45\n",
      "1/1 [==============================] - 0s 429ms/step - loss: 4.4138 - accuracy: 0.0015 - val_loss: 2.4779 - val_accuracy: 0.5813\n",
      "Epoch 4/45\n",
      "1/1 [==============================] - 1s 691ms/step - loss: 3.3090 - accuracy: 0.0807 - val_loss: 1.6586 - val_accuracy: 0.6463\n",
      "Epoch 5/45\n",
      "1/1 [==============================] - 1s 594ms/step - loss: 2.4286 - accuracy: 0.3507 - val_loss: 1.1550 - val_accuracy: 0.7613\n",
      "Epoch 6/45\n",
      "1/1 [==============================] - 0s 479ms/step - loss: 1.7445 - accuracy: 0.5673 - val_loss: 0.8604 - val_accuracy: 0.8075\n",
      "Epoch 7/45\n",
      "1/1 [==============================] - 0s 409ms/step - loss: 1.2470 - accuracy: 0.7169 - val_loss: 0.7920 - val_accuracy: 0.8163\n",
      "Epoch 8/45\n",
      "1/1 [==============================] - 1s 633ms/step - loss: 1.0365 - accuracy: 0.7668 - val_loss: 0.8294 - val_accuracy: 0.8225\n",
      "Epoch 9/45\n",
      "1/1 [==============================] - 1s 615ms/step - loss: 0.9753 - accuracy: 0.7788 - val_loss: 0.8438 - val_accuracy: 0.8206\n",
      "Epoch 10/45\n",
      "1/1 [==============================] - 1s 557ms/step - loss: 0.9490 - accuracy: 0.7793 - val_loss: 0.8281 - val_accuracy: 0.8219\n",
      "Epoch 11/45\n",
      "1/1 [==============================] - 1s 570ms/step - loss: 0.8960 - accuracy: 0.7769 - val_loss: 0.8144 - val_accuracy: 0.8200\n",
      "Epoch 12/45\n",
      "1/1 [==============================] - 1s 665ms/step - loss: 0.8644 - accuracy: 0.7698 - val_loss: 0.8095 - val_accuracy: 0.7987\n",
      "Epoch 13/45\n",
      "1/1 [==============================] - 0s 438ms/step - loss: 0.8457 - accuracy: 0.7510 - val_loss: 0.7947 - val_accuracy: 0.7837\n",
      "Epoch 14/45\n",
      "1/1 [==============================] - 0s 382ms/step - loss: 0.8458 - accuracy: 0.7360 - val_loss: 0.7649 - val_accuracy: 0.7850\n",
      "Epoch 15/45\n",
      "1/1 [==============================] - 1s 573ms/step - loss: 0.8162 - accuracy: 0.7424 - val_loss: 0.7321 - val_accuracy: 0.8000\n",
      "Epoch 16/45\n",
      "1/1 [==============================] - 1s 609ms/step - loss: 0.7993 - accuracy: 0.7537 - val_loss: 0.7057 - val_accuracy: 0.8181\n",
      "Epoch 17/45\n",
      "1/1 [==============================] - 1s 508ms/step - loss: 0.7695 - accuracy: 0.7674 - val_loss: 0.6880 - val_accuracy: 0.8238\n",
      "Epoch 18/45\n",
      "1/1 [==============================] - 0s 290ms/step - loss: 0.7501 - accuracy: 0.7758 - val_loss: 0.6767 - val_accuracy: 0.8281\n",
      "Epoch 19/45\n",
      "1/1 [==============================] - 1s 635ms/step - loss: 0.7373 - accuracy: 0.7875 - val_loss: 0.6686 - val_accuracy: 0.8356\n",
      "Epoch 20/45\n",
      "1/1 [==============================] - 1s 556ms/step - loss: 0.7242 - accuracy: 0.7896 - val_loss: 0.6618 - val_accuracy: 0.8375\n",
      "Epoch 21/45\n",
      "1/1 [==============================] - 1s 669ms/step - loss: 0.7128 - accuracy: 0.7930 - val_loss: 0.6549 - val_accuracy: 0.8369\n",
      "Epoch 22/45\n",
      "1/1 [==============================] - 1s 572ms/step - loss: 0.6993 - accuracy: 0.7956 - val_loss: 0.6477 - val_accuracy: 0.8381\n",
      "Epoch 23/45\n",
      "1/1 [==============================] - 1s 553ms/step - loss: 0.6877 - accuracy: 0.7977 - val_loss: 0.6409 - val_accuracy: 0.8363\n",
      "Epoch 24/45\n",
      "1/1 [==============================] - 0s 361ms/step - loss: 0.6624 - accuracy: 0.8040 - val_loss: 0.6350 - val_accuracy: 0.8363\n",
      "Epoch 25/45\n",
      "1/1 [==============================] - 1s 556ms/step - loss: 0.6479 - accuracy: 0.8040 - val_loss: 0.6293 - val_accuracy: 0.8331\n",
      "Epoch 26/45\n",
      "1/1 [==============================] - 1s 514ms/step - loss: 0.6414 - accuracy: 0.8091 - val_loss: 0.6238 - val_accuracy: 0.8331\n",
      "Epoch 27/45\n",
      "1/1 [==============================] - 1s 620ms/step - loss: 0.6225 - accuracy: 0.8155 - val_loss: 0.6179 - val_accuracy: 0.8338\n",
      "Epoch 28/45\n",
      "1/1 [==============================] - 0s 380ms/step - loss: 0.6100 - accuracy: 0.8194 - val_loss: 0.6115 - val_accuracy: 0.8369\n",
      "Epoch 29/45\n",
      "1/1 [==============================] - 1s 690ms/step - loss: 0.5921 - accuracy: 0.8220 - val_loss: 0.6058 - val_accuracy: 0.8375\n",
      "Epoch 30/45\n",
      "1/1 [==============================] - 1s 558ms/step - loss: 0.5814 - accuracy: 0.8251 - val_loss: 0.5990 - val_accuracy: 0.8388\n",
      "Epoch 31/45\n",
      "1/1 [==============================] - 0s 454ms/step - loss: 0.5702 - accuracy: 0.8320 - val_loss: 0.5894 - val_accuracy: 0.8438\n",
      "Epoch 32/45\n",
      "1/1 [==============================] - 0s 394ms/step - loss: 0.5530 - accuracy: 0.8402 - val_loss: 0.5771 - val_accuracy: 0.8475\n",
      "Epoch 33/45\n",
      "1/1 [==============================] - 1s 590ms/step - loss: 0.5289 - accuracy: 0.8490 - val_loss: 0.5667 - val_accuracy: 0.8519\n",
      "Epoch 34/45\n",
      "1/1 [==============================] - 1s 577ms/step - loss: 0.5091 - accuracy: 0.8549 - val_loss: 0.5586 - val_accuracy: 0.8556\n",
      "Epoch 35/45\n",
      "1/1 [==============================] - 0s 494ms/step - loss: 0.4950 - accuracy: 0.8597 - val_loss: 0.5483 - val_accuracy: 0.8600\n",
      "Epoch 36/45\n",
      "1/1 [==============================] - 0s 392ms/step - loss: 0.4783 - accuracy: 0.8674 - val_loss: 0.5436 - val_accuracy: 0.8637\n",
      "Epoch 37/45\n",
      "1/1 [==============================] - 1s 636ms/step - loss: 0.4548 - accuracy: 0.8806 - val_loss: 0.5430 - val_accuracy: 0.8600\n",
      "Epoch 38/45\n",
      "1/1 [==============================] - 1s 610ms/step - loss: 0.4403 - accuracy: 0.8844 - val_loss: 0.5403 - val_accuracy: 0.8619\n",
      "Epoch 39/45\n",
      "1/1 [==============================] - 0s 471ms/step - loss: 0.4290 - accuracy: 0.8870 - val_loss: 0.5317 - val_accuracy: 0.8656\n",
      "Epoch 40/45\n",
      "1/1 [==============================] - 1s 529ms/step - loss: 0.4039 - accuracy: 0.8926 - val_loss: 0.5284 - val_accuracy: 0.8681\n",
      "Epoch 41/45\n",
      "1/1 [==============================] - 1s 644ms/step - loss: 0.3843 - accuracy: 0.9003 - val_loss: 0.5281 - val_accuracy: 0.8656\n",
      "Epoch 42/45\n",
      "1/1 [==============================] - 0s 381ms/step - loss: 0.3719 - accuracy: 0.9019 - val_loss: 0.5294 - val_accuracy: 0.8650\n",
      "Epoch 43/45\n",
      "1/1 [==============================] - 1s 699ms/step - loss: 0.3629 - accuracy: 0.9061 - val_loss: 0.5314 - val_accuracy: 0.8631\n",
      "Epoch 44/45\n",
      "1/1 [==============================] - 1s 607ms/step - loss: 0.3459 - accuracy: 0.9092 - val_loss: 0.5331 - val_accuracy: 0.8637\n",
      "Epoch 45/45\n",
      "1/1 [==============================] - 0s 322ms/step - loss: 0.3279 - accuracy: 0.9130 - val_loss: 0.5347 - val_accuracy: 0.8644\n"
     ]
    }
   ],
   "source": [
    "history = ptm.fit(x_train,y_train,validation_data=(x_val,y_val),batch_size=25, epochs=45)"
   ]
  },
  {
   "cell_type": "code",
   "execution_count": 14,
   "metadata": {},
   "outputs": [
    {
     "data": {
      "image/png": "[encoded data removed]",
      "text/plain": [
       "<Figure size 640x480 with 1 Axes>"
      ]
     },
     "metadata": {},
     "output_type": "display_data"
    }
   ],
   "source": [
    "plt.plot(history.history['accuracy'])\n",
    "plt.plot(history.history['val_accuracy'])\n",
    "plt.title('model accuracy')\n",
    "plt.ylabel('accuracy')\n",
    "plt.xlabel('epoch')\n",
    "plt.legend(['training set','validation set'], loc='upper left')\n",
    "plt.show()"
   ]
  },
  {
   "cell_type": "code",
   "execution_count": 15,
   "metadata": {},
   "outputs": [
    {
     "data": {
      "image/png": "[encoded data removed]",
      "text/plain": [
       "<Figure size 640x480 with 1 Axes>"
      ]
     },
     "metadata": {},
     "output_type": "display_data"
    }
   ],
   "source": [
    "plt.plot(history.history['loss'])\n",
    "plt.plot(history.history['val_loss'])\n",
    "plt.title('model loss')\n",
    "plt.ylabel('loss')\n",
    "plt.xlabel('epoch')\n",
    "plt.legend(['training set','validation set'], loc='upper left')\n",
    "plt.show()"
   ]
  },
  {
   "cell_type": "code",
   "execution_count": 16,
   "metadata": {},
   "outputs": [
    {
     "name": "stdout",
     "output_type": "stream",
     "text": [
      "1/1 [==============================] - 2s 2s/step\n"
     ]
    }
   ],
   "source": [
    "pred = ptm.predict(x_test)"
   ]
  },
  {
   "cell_type": "code",
   "execution_count": 17,
   "metadata": {},
   "outputs": [],
   "source": [
    "pred = np.argmax(pred, axis=-1)"
   ]
  },
  {
   "cell_type": "code",
   "execution_count": 20,
   "metadata": {},
   "outputs": [
    {
     "ename": "KeyError",
     "evalue": "34",
     "output_type": "error",
     "traceback": [
      "\u001b[0;31m---------------------------------------------------------------------------\u001b[0m",
      "\u001b[0;31mKeyError\u001b[0m                                  Traceback (most recent call last)",
      "Cell \u001b[0;32mIn [20], line 1\u001b[0m\n\u001b[0;32m----> 1\u001b[0m real_tags, pred_tags \u001b[39m=\u001b[39m convert_values(pred,y_test)\n",
      "Cell \u001b[0;32mIn [19], line 8\u001b[0m, in \u001b[0;36mconvert_values\u001b[0;34m(index_array, y_test)\u001b[0m\n\u001b[1;32m      6\u001b[0m   act_tags \u001b[39m=\u001b[39m []\n\u001b[1;32m      7\u001b[0m   \u001b[39mfor\u001b[39;00m w \u001b[39min\u001b[39;00m act:\n\u001b[0;32m----> 8\u001b[0m     act_tags\u001b[39m.\u001b[39mappend(i_tags[w])\n\u001b[1;32m      9\u001b[0m   pred_tags\u001b[39m.\u001b[39mappend(act_tags)\n\u001b[1;32m     11\u001b[0m \u001b[39mfor\u001b[39;00m ato \u001b[39min\u001b[39;00m y_test:\n",
      "\u001b[0;31mKeyError\u001b[0m: 34"
     ]
    }
   ],
   "source": [
    "real_tags, pred_tags = convert_values(pred,y_test)"
   ]
  }
 ],
 "metadata": {
  "kernelspec": {
   "display_name": "Python 3.8.10 64-bit",
   "language": "python",
   "name": "python3"
  },
  "language_info": {
   "codemirror_mode": {
    "name": "ipython",
    "version": 3
   },
   "file_extension": ".py",
   "mimetype": "text/x-python",
   "name": "python",
   "nbconvert_exporter": "python",
   "pygments_lexer": "ipython3",
   "version": "3.8.10"
  },
  "orig_nbformat": 4,
  "vscode": {
   "interpreter": {
    "hash": "916dbcbb3f70747c44a77c7bcd40155683ae19c65e1c03b4aa3499c5328201f1"
   }
  }
 },
 "nbformat": 4,
 "nbformat_minor": 2
}
