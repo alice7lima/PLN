{
  "nbformat": 4,
  "nbformat_minor": 0,
  "metadata": {
    "colab": {
      "name": "Atividade1.ipynb",
      "provenance": [],
      "collapsed_sections": []
    },
    "kernelspec": {
      "name": "python3",
      "display_name": "Python 3"
    },
    "language_info": {
      "name": "python"
    }
  },
  "cells": [
    {
      "cell_type": "markdown",
      "source": [
        "##Atividade 1 \n",
        "### Alice Lima(180112601), João Francisco (180102991), Vitor Vasconcelos (180114778)"
      ],
      "metadata": {
        "id": "Q5CJ3BYSHkiE"
      }
    },
    {
      "cell_type": "code",
      "execution_count": 54,
      "metadata": {
        "id": "n90i1sQUn0vC"
      },
      "outputs": [],
      "source": [
        "import re\n",
        "import pandas as pd"
      ]
    },
    {
      "cell_type": "markdown",
      "source": [
        "##Exemplos"
      ],
      "metadata": {
        "id": "iJprsfRx9v3w"
      }
    },
    {
      "cell_type": "code",
      "source": [
        "ex1 = '((TITULO))DESPACHO DE HOMOLOGAÇÃO\\nProcesso nº 2015-0.302.232-0 - Pregão Eletrônico nº 017/SPPI/2015\\nObjeto: Aquisição de Materiais para Escritório \\n((TEXTO))I- À vista dos elementos contidos no presente processo administrativo, com fulcro na Lei nº 10.520/02, no uso da competência a mim atribuída pela Lei nº 13.399/02 e pelo Decreto nº 46.662/05, Art. 3º e com fundamento no Art. 43, Item VI da Lei Federal nº 8666/93, ((NG))HOMOLOGO((CL)) o presente procedimento licitatório, na modalidade ((NG))Pregão Eletrônico nº 017/2015((CL))–Comprasnet, cujo objeto é a ((NG))Aquisição de Materiais para Escritório((CL)), de acordo com as especificações técnicas contidas no Edital, acolhendo em consequência, a decisão do Pregoeiro desta SP-PI, que Adjudicou os itens  objeto deste Pregão às empresas ((NG))SALENAS MATERIAIS PARA ESCRITÓRIO LTDA–EPP.((CL)), inscrita no ((NG))CNPJ/MF sob nº 07.065.674/0001-13((CL)), para os ((NG))Itens 01 a 07, 13 a 16, 20 a 24, 26 a 31, 33 a 38((CL)) pelo valor total de ((NG))R$ 4.382,52((CL)) (quatro mil trezentos e oitenta e dois reais e cinquenta e dois centavos) e ((NG))HOPEMIX SUPRIMENTOS E SERVIÇOS LTDA-EPP.((CL)), inscrita no ((NG))CNPJ/MF sob nº 15.657.876/0001-82((CL)), para os ((NG))Itens 08 a 12, 17 a 19, 25 e 32((CL)) pelo valor total de ((NG))R$ 334,80((CL)) (trezentos e trinta e quatro reais e oitenta centavos),  perfazendo o total geral de R$ R$ 4.717,32.\\nII- Para fazer frente às despesas decorrentes da presente contratação, fica também ((NG))AUTORIZADA((CL)) a emissão das competentes Notas de Empenho, onerando a dotação 51.10.15.122.3024.2100.3390.3000.00, do orçamento vigente.'\n",
        "ex2 = '((TITULO))DEPARTAMENTO DE ALIMENTAÇÃO ESCOLAR\\n((TEXTO))\\n((NG))Do Processo N.º 2015-0.336.152-3((CL))\\nInteressado: SME-DAE\\nAssunto: Ata de RP nº 01/SME/DAE/2014 – Aquisição de leite em pó integral – Programa Leve-Leite\\nDESPACHO\\nI. À vista das informações que instruem o presente, notadamente a requisição de compras de fls. 14, a justificativa de quantitativos de fls. 02/14, a pesquisa de preços de fls. 60 e a manifestação da Assessoria Jurídica de fls. retro, AUTORIZO, pela competência delegada pela Portaria SME nº 4.772/15, mediante apresentação de documentação de regularidade fiscal e CADIN da empresa detentora da Ata, a utilização da Ata de Registro de Preços nº 01/SME/DAE/2014, cuja detentora é ALNUTRI ALIMENTOS LTDA., CNPJ 07.747.780/0001-87, para aquisição de 370.620 quilos de leite em pó, pelo valor estimado de R$ 4.714.286,40 (quatro milhões, setecentos e catorze mil e duzentos e oitenta e seis reais e quarenta centavos).\\nII. As despesas decorrentes da contratação ora autorizada onerarão as dotações orçamentárias nº 1600.1624.12.306.3010.2.873.3.3.90.32.00.00'\n",
        "ex3 = '((TITULO))PROCESSO: 2015-0.260.904-1\\n((TEXTO))((NG))DIVISÃO TÉCNICA DE SUPRIMENTOS, SMS-3\\nSETOR DE ATAS DE REGISTRO DE PREÇOS\\nEXTRATO\\nATA DE REGISTRO DE PREÇO Nº 017/2016-SMS.G((CL))\\nPREGÃO ELETRÔNICO Nº 325/2015-SMS.G\\nORGÃO GESTOR: SECRETARIA MUNICIPAL DA SAÚDE\\nDETENTORA: SDK COMÉRCIO DE CORRELATOS DA SAÚDE LTDA.- EPP\\nCNPJ: 13.841.510/0001-33\\nOBJETO: HEMOSTÁTICO\\nVIGÊNCIA: 20/01/2016 A 20/01/2017\\n\\nItem 03 – HEMOSTÁTICO LOCAL\\nR$ 1,94/blister\\nMarca: Hemospon\\nFabricante: Technew\\nEmbalagem/Apresentação: Caixa com 01 blister com 10 unidades\\nRegistro no M.S.: 80015520039\\nProcedência: Nacional\\nCódigo Supri: 11.065.007.009.1642-8\\n\\nConsumo Médio Mensal\\nEstimado: 1.054 blisters\\nConsumo Médio Anual Estimado: 12.648 blisters'\n",
        "ex4 = '((TITULO))((NG))SECRETARIA MUNICIPAL DE EDUCAÇÃO\\n((TEXTO))COMUNICADO\\nLEIA-SE COMO SEGUE NÃO COMO CONSTOU NO D.O. DE 27/01/2016 PG. 62\\n((TEXTO))Processo nº 2014-0.348.392-9\\nCONTRATADA:Albatroz Segurança e Vigilância Ltda.\\nCNPJ:66.700.295/0001-17((CL))\\nASSUNTO:Aplicabilidade de pena – novembro/2014\\nVALOR DA MULTA:R$ 8.411,41\\nTERMO DE CONTRATO:176/SME/2012\\nOBJETO:Implantação e operação do sistema integrado de segurança patrimonial para as unidades educacionais da SME, lotes 03 e 04\\nD E S P A C H O\\nI.Com fundamento na competência delegada por meio do artigo 2°, inciso VIII, da Portaria n° 4.772/2015/SME e à vista das informações constantes dos autos, notadamente os atestados de prestação de serviços, a manifestação do setor competente e o parecer da Assessoria Jurídica a respeito, que acolho e adoto como razão de decidir, APLICO à contratada, nos termos do artigo 87, inciso II, da Lei Federal nº 8.666/93, dos artigos 54 e seguintes do Decreto n° 44.279/03 e da legislação pertinente, a penalidade de MULTA no valor total de R$ 8.411,41 (oito mil quatrocentos e onze reais e quarenta e um centavos), com amparo no Termo de Contrato n° 176/SME/2012, conforme cálculo de fl. 706.\\nII.Fica aberto o prazo de 5 (cinco) dias úteis para eventual interposição de recurso administrativo, sendo já franqueada a vista e a extração de cópias dos autos, nos termos dos artigos 41 e seguintes da Lei Municipal nº 14.141, de 27 de março de 2006, em igual prazo.'\n",
        "ex5 = '((TITULO))REPUBLICADO POR TER SAÍDO COM INCORREÇÃO NO DOC DE 27/01/2016 – PÁGINA 60\\nAutorização de Prorrogação e acréscimo de valor contratual\\nProcesso nº 2011-0.141.299-9\\nContrato nº 014/SP-PI/2011\\nObjeto.: Prestação de serviços de conservação de áreas urbanizadas, ajardinadas, praguejadas e em seu entorno e serviços técnicos de manejo de árvores, através de equipes.\\n((TEXTO))I- Tendo em vista os elementos contidos no presente ((NG))AUTORIZO((CL)) com fundamento no artigo 57, da Lei Federal 8.666/93, artigos 46 e 49 do Decreto Municipal 44.279/03, e nos seguintes fatos: a) imprescindibilidade dos serviços; b) a empresa vem cumprindo suas obrigações contratuais a contento; c) obtenção de preços e condições vantajosas para a Administração; d) o vencimento do contrato dar-se-á em 31/01/2016 e; e) a empresa contratada aceitou a  proposta formulada  pela Administração  nos termos   vigente, a prorrogação do Contrato n.º 014/SP-PI/2011, pelo período de 04 (quatro) meses, a partir de 01/02/2016. Os serviços serão fiscalizados pela Engenheira Agrônoma Rosa Maria Castro Menegali, da Supervisão Técnica de Limpeza Pública desta SP/PI.\\nII- ((NG))AUTORIZO((CL)) o acréscimo contratual de aproximadamente 11,2% sobre o valor original do contrato para constar que a contratação é de 20 equipes de cada Tipo, pelo período de 04 (quatro) meses, ((NG))a partir de 01/02/2016((CL)) dentro dos parâmetros do § 1º do Art. 65 da Lei nº 8666/93. \\nIII- ((NG))FORMALIZAR((CL)), nos termos do Decreto 48.971/07, o reajuste de preços a partir de 19/05/2016.IV- Para fazer frente às despesas decorrentes do aditamento do contrato, no valor total de R$ 2.842.398,80 (dois milhões oitocentos e quarenta e dois mil trezentos e noventa e oito reais e oitenta centavos), fica também autorizado a emissão de nota de empenho  onerando a dotação 51.10.15.452.3022.2366.3390.3900.00, para o presente exercício, nos termos do Decreto nº 56.779 de 22 de janeiro de 2016.  \\nV- Fica a empresa, ((NG))FLORESTANA PAISAGISMO, CONSTRUÇÕES E SERVIÇOS LTDA.((CL)), CNPJ nº 53.591.103/0001-30,  ((NG))CONVOCADA((CL)), nos termos do artigo 49 do Decreto Municipal 44.279/03, a assinar o Termo de Aditamento do referido contrato com o fim de formalizar o aditamento contratual.'"
      ],
      "metadata": {
        "id": "WEM15IRj9tW_"
      },
      "execution_count": 269,
      "outputs": []
    },
    {
      "cell_type": "markdown",
      "source": [
        "## Extração"
      ],
      "metadata": {
        "id": "zJXQJqWxHXOT"
      }
    },
    {
      "cell_type": "code",
      "source": [
        "def titulo(ex):\n",
        "  return re.search(\"TITULO\\)\\)(.*)\\n\", ex).group(1)\n",
        "\n",
        "def processo(ex):\n",
        "  return re.search(\"[Pp][Rr][Oo][Cc][Ee][Ss][Ss][Oo][\\s\\S][nº|(N.º)]?[Ss]?[Ee]?[Ii]?[\\s\\S](\\d*[^,\\n|(|a-zA-Z]*)\", ex).group(1)\n",
        "\n",
        "def valor(ex):\n",
        "  return re.search(\"R\\$[\\s\\S](d*[^\\n|\\/|(|a-zA-Z]*)\", ex).group(1)"
      ],
      "metadata": {
        "id": "AHYfVO0YBdf0"
      },
      "execution_count": 327,
      "outputs": []
    },
    {
      "cell_type": "code",
      "source": [
        "r1 = {}\n",
        "r1['titulo'] = []\n",
        "r1['n_processo'] = []\n",
        "r1['valor'] = []\n",
        "\n",
        "r1['titulo'].append(titulo(ex1))\n",
        "r1['n_processo'].append(processo(ex1))\n",
        "r1['valor'].append(valor(ex1))\n"
      ],
      "metadata": {
        "id": "EBZDGNbGtcHl"
      },
      "execution_count": 328,
      "outputs": []
    },
    {
      "cell_type": "code",
      "source": [
        "r1['titulo'].append(titulo(ex2))\n",
        "r1['n_processo'].append(processo(ex2))\n",
        "r1['valor'].append(valor(ex2))"
      ],
      "metadata": {
        "id": "0bVN8VynBUbP"
      },
      "execution_count": 329,
      "outputs": []
    },
    {
      "cell_type": "code",
      "source": [
        "r1['titulo'].append(titulo(ex3))\n",
        "r1['n_processo'].append(processo(ex3))\n",
        "r1['valor'].append(valor(ex3))"
      ],
      "metadata": {
        "id": "AGvWOHQ4CZdX"
      },
      "execution_count": 330,
      "outputs": []
    },
    {
      "cell_type": "code",
      "source": [
        "r1['titulo'].append(titulo(ex4))\n",
        "r1['n_processo'].append(processo(ex4))\n",
        "r1['valor'].append(valor(ex4))"
      ],
      "metadata": {
        "id": "62MMQ-QMC1x5"
      },
      "execution_count": 331,
      "outputs": []
    },
    {
      "cell_type": "code",
      "source": [
        "r1['titulo'].append(titulo(ex5))\n",
        "r1['n_processo'].append(processo(ex5))\n",
        "r1['valor'].append(valor(ex5))"
      ],
      "metadata": {
        "id": "nvUMeRj4wQF5"
      },
      "execution_count": 332,
      "outputs": []
    },
    {
      "cell_type": "markdown",
      "source": [
        "## Dataframe com o resultado"
      ],
      "metadata": {
        "id": "p7jeYvzNHQml"
      }
    },
    {
      "cell_type": "code",
      "source": [
        "df = pd.DataFrame.from_dict(r1)\n",
        "df"
      ],
      "metadata": {
        "colab": {
          "base_uri": "https://localhost:8080/",
          "height": 215
        },
        "id": "1VpRCD-u3-fw",
        "outputId": "62a9361a-8e4d-4e91-833f-0278a8d5436d"
      },
      "execution_count": 333,
      "outputs": [
        {
          "output_type": "execute_result",
          "data": {
            "text/plain": [
              "                                              titulo            n_processo  \\\n",
              "0                            DESPACHO DE HOMOLOGAÇÃO   2015-0.302.232-0 -    \n",
              "1                DEPARTAMENTO DE ALIMENTAÇÃO ESCOLAR    º 2015-0.336.152-3   \n",
              "2                         PROCESSO: 2015-0.260.904-1      2015-0.260.904-1   \n",
              "3             ((NG))SECRETARIA MUNICIPAL DE EDUCAÇÃO      2014-0.348.392-9   \n",
              "4  REPUBLICADO POR TER SAÍDO COM INCORREÇÃO NO DO...      2011-0.141.299-9   \n",
              "\n",
              "           valor  \n",
              "0       4.382,52  \n",
              "1  4.714.286,40   \n",
              "2           1,94  \n",
              "3       8.411,41  \n",
              "4  2.842.398,80   "
            ],
            "text/html": [
              "\n",
              "  <div id=\"df-cde204d0-0f21-4624-aa2f-18eeb3a35514\">\n",
              "    <div class=\"colab-df-container\">\n",
              "      <div>\n",
              "<style scoped>\n",
              "    .dataframe tbody tr th:only-of-type {\n",
              "        vertical-align: middle;\n",
              "    }\n",
              "\n",
              "    .dataframe tbody tr th {\n",
              "        vertical-align: top;\n",
              "    }\n",
              "\n",
              "    .dataframe thead th {\n",
              "        text-align: right;\n",
              "    }\n",
              "</style>\n",
              "<table border=\"1\" class=\"dataframe\">\n",
              "  <thead>\n",
              "    <tr style=\"text-align: right;\">\n",
              "      <th></th>\n",
              "      <th>titulo</th>\n",
              "      <th>n_processo</th>\n",
              "      <th>valor</th>\n",
              "    </tr>\n",
              "  </thead>\n",
              "  <tbody>\n",
              "    <tr>\n",
              "      <th>0</th>\n",
              "      <td>DESPACHO DE HOMOLOGAÇÃO</td>\n",
              "      <td>2015-0.302.232-0 -</td>\n",
              "      <td>4.382,52</td>\n",
              "    </tr>\n",
              "    <tr>\n",
              "      <th>1</th>\n",
              "      <td>DEPARTAMENTO DE ALIMENTAÇÃO ESCOLAR</td>\n",
              "      <td>º 2015-0.336.152-3</td>\n",
              "      <td>4.714.286,40</td>\n",
              "    </tr>\n",
              "    <tr>\n",
              "      <th>2</th>\n",
              "      <td>PROCESSO: 2015-0.260.904-1</td>\n",
              "      <td>2015-0.260.904-1</td>\n",
              "      <td>1,94</td>\n",
              "    </tr>\n",
              "    <tr>\n",
              "      <th>3</th>\n",
              "      <td>((NG))SECRETARIA MUNICIPAL DE EDUCAÇÃO</td>\n",
              "      <td>2014-0.348.392-9</td>\n",
              "      <td>8.411,41</td>\n",
              "    </tr>\n",
              "    <tr>\n",
              "      <th>4</th>\n",
              "      <td>REPUBLICADO POR TER SAÍDO COM INCORREÇÃO NO DO...</td>\n",
              "      <td>2011-0.141.299-9</td>\n",
              "      <td>2.842.398,80</td>\n",
              "    </tr>\n",
              "  </tbody>\n",
              "</table>\n",
              "</div>\n",
              "      <button class=\"colab-df-convert\" onclick=\"convertToInteractive('df-cde204d0-0f21-4624-aa2f-18eeb3a35514')\"\n",
              "              title=\"Convert this dataframe to an interactive table.\"\n",
              "              style=\"display:none;\">\n",
              "        \n",
              "  <svg xmlns=\"http://www.w3.org/2000/svg\" height=\"24px\"viewBox=\"0 0 24 24\"\n",
              "       width=\"24px\">\n",
              "    <path d=\"M0 0h24v24H0V0z\" fill=\"none\"/>\n",
              "    <path d=\"M18.56 5.44l.94 2.06.94-2.06 2.06-.94-2.06-.94-.94-2.06-.94 2.06-2.06.94zm-11 1L8.5 8.5l.94-2.06 2.06-.94-2.06-.94L8.5 2.5l-.94 2.06-2.06.94zm10 10l.94 2.06.94-2.06 2.06-.94-2.06-.94-.94-2.06-.94 2.06-2.06.94z\"/><path d=\"M17.41 7.96l-1.37-1.37c-.4-.4-.92-.59-1.43-.59-.52 0-1.04.2-1.43.59L10.3 9.45l-7.72 7.72c-.78.78-.78 2.05 0 2.83L4 21.41c.39.39.9.59 1.41.59.51 0 1.02-.2 1.41-.59l7.78-7.78 2.81-2.81c.8-.78.8-2.07 0-2.86zM5.41 20L4 18.59l7.72-7.72 1.47 1.35L5.41 20z\"/>\n",
              "  </svg>\n",
              "      </button>\n",
              "      \n",
              "  <style>\n",
              "    .colab-df-container {\n",
              "      display:flex;\n",
              "      flex-wrap:wrap;\n",
              "      gap: 12px;\n",
              "    }\n",
              "\n",
              "    .colab-df-convert {\n",
              "      background-color: #E8F0FE;\n",
              "      border: none;\n",
              "      border-radius: 50%;\n",
              "      cursor: pointer;\n",
              "      display: none;\n",
              "      fill: #1967D2;\n",
              "      height: 32px;\n",
              "      padding: 0 0 0 0;\n",
              "      width: 32px;\n",
              "    }\n",
              "\n",
              "    .colab-df-convert:hover {\n",
              "      background-color: #E2EBFA;\n",
              "      box-shadow: 0px 1px 2px rgba(60, 64, 67, 0.3), 0px 1px 3px 1px rgba(60, 64, 67, 0.15);\n",
              "      fill: #174EA6;\n",
              "    }\n",
              "\n",
              "    [theme=dark] .colab-df-convert {\n",
              "      background-color: #3B4455;\n",
              "      fill: #D2E3FC;\n",
              "    }\n",
              "\n",
              "    [theme=dark] .colab-df-convert:hover {\n",
              "      background-color: #434B5C;\n",
              "      box-shadow: 0px 1px 3px 1px rgba(0, 0, 0, 0.15);\n",
              "      filter: drop-shadow(0px 1px 2px rgba(0, 0, 0, 0.3));\n",
              "      fill: #FFFFFF;\n",
              "    }\n",
              "  </style>\n",
              "\n",
              "      <script>\n",
              "        const buttonEl =\n",
              "          document.querySelector('#df-cde204d0-0f21-4624-aa2f-18eeb3a35514 button.colab-df-convert');\n",
              "        buttonEl.style.display =\n",
              "          google.colab.kernel.accessAllowed ? 'block' : 'none';\n",
              "\n",
              "        async function convertToInteractive(key) {\n",
              "          const element = document.querySelector('#df-cde204d0-0f21-4624-aa2f-18eeb3a35514');\n",
              "          const dataTable =\n",
              "            await google.colab.kernel.invokeFunction('convertToInteractive',\n",
              "                                                     [key], {});\n",
              "          if (!dataTable) return;\n",
              "\n",
              "          const docLinkHtml = 'Like what you see? Visit the ' +\n",
              "            '<a target=\"_blank\" href=https://colab.research.google.com/notebooks/data_table.ipynb>data table notebook</a>'\n",
              "            + ' to learn more about interactive tables.';\n",
              "          element.innerHTML = '';\n",
              "          dataTable['output_type'] = 'display_data';\n",
              "          await google.colab.output.renderOutput(dataTable, element);\n",
              "          const docLink = document.createElement('div');\n",
              "          docLink.innerHTML = docLinkHtml;\n",
              "          element.appendChild(docLink);\n",
              "        }\n",
              "      </script>\n",
              "    </div>\n",
              "  </div>\n",
              "  "
            ]
          },
          "metadata": {},
          "execution_count": 333
        }
      ]
    }
  ]
}